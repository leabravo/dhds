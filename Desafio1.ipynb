{
 "cells": [
  {
   "cell_type": "markdown",
   "metadata": {
    "collapsed": true
   },
   "source": [
    "# DESAFIO 1"
   ]
  },
  {
   "cell_type": "markdown",
   "metadata": {},
   "source": [
    "## Paso 1. Abrir el dataset SATscore2015.csv. Investigar la estructura de los datos y responder"
   ]
  },
  {
   "cell_type": "markdown",
   "metadata": {},
   "source": [
    "### 1. ¿Qué es lo que describen los datos?"
   ]
  },
  {
   "cell_type": "code",
   "execution_count": 29,
   "metadata": {
    "collapsed": true
   },
   "outputs": [],
   "source": [
    "import numpy as np\n",
    "import pandas as pd"
   ]
  },
  {
   "cell_type": "markdown",
   "metadata": {
    "collapsed": true
   },
   "source": [
    "### 2. ¿Se ve algún problema en los datos? ¿Están completos?"
   ]
  },
  {
   "cell_type": "code",
   "execution_count": 43,
   "metadata": {},
   "outputs": [
    {
     "name": "stdout",
     "output_type": "stream",
     "text": [
      "<class 'pandas.core.frame.DataFrame'>\n",
      "RangeIndex: 53 entries, 0 to 52\n",
      "Data columns (total 4 columns):\n",
      "State              53 non-null object\n",
      "Mathematics        53 non-null object\n",
      "Writing            53 non-null int64\n",
      "Total SAT score    53 non-null int64\n",
      "dtypes: int64(2), object(2)\n",
      "memory usage: 1.7+ KB\n"
     ]
    }
   ],
   "source": [
    "# Read raw data\n",
    "satscore_raw = pd.read_csv(\"./SATscore2015.csv\")\n",
    "\n",
    "satscore_raw.info()"
   ]
  },
  {
   "cell_type": "markdown",
   "metadata": {},
   "source": [
    "Los datos en la columna \"Mathematics\" deberían ser del tipo int64. Object indica que el contenido es mixto y hay que hacer una limpieza previa al análisis estadístico."
   ]
  },
  {
   "cell_type": "code",
   "execution_count": 44,
   "metadata": {},
   "outputs": [],
   "source": [
    "# El puntaje SAT se mide en números enteros, así que cualqiuer cosa que no\n",
    "# se pueda evaluar como ese tipo, representa un problema en los datos...\n",
    "\n",
    "def isint(column):\n",
    "    for x in column:\n",
    "        try:\n",
    "            int(x)\n",
    "            return True\n",
    "        except ValueError:\n",
    "            return False\n",
    "\n",
    "# Fancy index <3 (lista de booleanos de los datos que no son enteros).\n",
    "indexes = satscore_raw[\"Mathematics\"].apply(isint)\n",
    "\n",
    "# Eliminamos el registro inválido.\n",
    "satscore_raw = satscore_raw[indexes]\n",
    "\n",
    "# Corregimos el tipo de dato dentro del DataFrame.\n",
    "satscore_raw.loc[:,\"Mathematics\"] = pd.to_numeric(satscore_raw[\"Mathematics\"])\n",
    "\n",
    "#gdp_per_state = gdp_per_state_raw.apply(lambda x: x.str.srip() if type(x) == 'str' else x).values"
   ]
  },
  {
   "cell_type": "markdown",
   "metadata": {
    "collapsed": true
   },
   "source": [
    "### 3. ¿Qué representan las filas? ¿Y las columnas?"
   ]
  },
  {
   "cell_type": "code",
   "execution_count": 45,
   "metadata": {},
   "outputs": [],
   "source": []
  },
  {
   "cell_type": "markdown",
   "metadata": {
    "collapsed": true
   },
   "source": [
    "### 4. Creá un diccionario de datos para el dataset en formato texto. En el mismo deben describirse las diferentes variables, su nivel de medición y dar alguna(s) medida(s) descriptiva(s) de cada una."
   ]
  },
  {
   "cell_type": "code",
   "execution_count": 52,
   "metadata": {},
   "outputs": [
    {
     "name": "stdout",
     "output_type": "stream",
     "text": [
      "Revisamos que los datos ahora sí sean correctos...\n",
      "\n",
      "<class 'pandas.core.frame.DataFrame'>\n",
      "Int64Index: 52 entries, 0 to 52\n",
      "Data columns (total 4 columns):\n",
      "State              52 non-null object\n",
      "Mathematics        52 non-null int64\n",
      "Writing            52 non-null int64\n",
      "Total SAT score    52 non-null int64\n",
      "dtypes: int64(3), object(1)\n",
      "memory usage: 2.0+ KB\n",
      "None \n",
      "\n",
      "       Mathematics     Writing  Total SAT score\n",
      "count    52.000000   52.000000        52.000000\n",
      "mean    532.269231  521.365385      1577.019231\n",
      "std      52.353667   66.302642       150.039144\n",
      "min     388.000000  412.000000      1214.000000\n",
      "25%     496.250000  477.750000      1471.250000\n",
      "50%     525.500000  507.000000      1552.000000\n",
      "75%     577.750000  566.250000      1726.250000\n",
      "max     616.000000  842.000000      1802.000000\n"
     ]
    }
   ],
   "source": [
    "print(\"Revisamos que los datos ahora sí sean correctos...\\n\")\n",
    "\n",
    "print(satscore_raw.info(),\"\\n\")\n",
    "\n",
    "print(satscore_raw.describe())"
   ]
  },
  {
   "cell_type": "markdown",
   "metadata": {
    "collapsed": true
   },
   "source": [
    "## Paso 2. Cargar el dataset"
   ]
  },
  {
   "cell_type": "markdown",
   "metadata": {},
   "source": [
    "### 5. Cargá los datos en una lista de listas"
   ]
  },
  {
   "cell_type": "code",
   "execution_count": 55,
   "metadata": {},
   "outputs": [],
   "source": [
    "# Create Numpy arrays\n",
    "satscore = satscore_raw.values"
   ]
  },
  {
   "cell_type": "markdown",
   "metadata": {},
   "source": [
    "### 6. Visualizá (print) los datos"
   ]
  },
  {
   "cell_type": "code",
   "execution_count": 56,
   "metadata": {},
   "outputs": [
    {
     "data": {
      "text/plain": [
       "array([['Alabama', 538, 533, 1616],\n",
       "       ['Alaska', 503, 482, 1494],\n",
       "       ['Arizona', 527, 502, 1552],\n",
       "       ['Arkansas', 569, 551, 1688],\n",
       "       ['California', 506, 491, 1492],\n",
       "       ['Colorado', 587, 567, 1736],\n",
       "       ['Connecticut', 506, 504, 1514],\n",
       "       ['Delaware', 461, 445, 1368],\n",
       "       ['District of Columbia', 440, 432, 1313],\n",
       "       ['Florida', 480, 468, 1434],\n",
       "       ['Georgia', 485, 475, 1450],\n",
       "       ['Hawaii', 508, 477, 1472],\n",
       "       ['Idaho', 463, 442, 1372],\n",
       "       ['Illinois', 616, 587, 1802],\n",
       "       ['Indiana', 499, 478, 1473],\n",
       "       ['Iowa', 600, 566, 1755],\n",
       "       ['Kansas', 592, 568, 1748],\n",
       "       ['Kentucky', 587, 574, 1749],\n",
       "       ['Louisiana', 559, 553, 1675],\n",
       "       ['Maine', 473, 451, 1392],\n",
       "       ['Maryland', 493, 478, 1462],\n",
       "       ['Massachusetts', 529, 507, 1552],\n",
       "       ['Michigan', 609, 585, 1788],\n",
       "       ['Minnesota', 607, 576, 1778],\n",
       "       ['Mississippi', 563, 570, 1713],\n",
       "       ['Missouri', 599, 582, 1777],\n",
       "       ['Montana', 556, 538, 1655],\n",
       "       ['Nebraska', 590, 576, 1755],\n",
       "       ['Nevada', 494, 470, 1458],\n",
       "       ['New Hampshire', 530, 511, 1566],\n",
       "       ['New Jersey', 521, 499, 1520],\n",
       "       ['New Mexico', 544, 528, 1623],\n",
       "       ['New York', 502, 478, 1469],\n",
       "       ['North Carolina', 504, 476, 1478],\n",
       "       ['North Dakota', 608, 586, 1791],\n",
       "       ['Ohio', 563, 537, 1657],\n",
       "       ['Oklahoma', 569, 548, 1693],\n",
       "       ['Oregon', 521, 502, 1546],\n",
       "       ['Pennsylvania', 504, 842, 1485],\n",
       "       ['Puerto Rico', 450, 450, 1363],\n",
       "       ['Rhode Island', 494, 484, 1472],\n",
       "       ['South Carolina', 487, 467, 1442],\n",
       "       ['South Dakota', 597, 564, 1753],\n",
       "       ['Tennessee', 574, 568, 1723],\n",
       "       ['Texas', 486, 454, 1410],\n",
       "       ['Utah', 575, 554, 1708],\n",
       "       ['Vermont', 524, 507, 1554],\n",
       "       ['Virgin Islands', 388, 412, 1214],\n",
       "       ['Washington', 510, 484, 1496],\n",
       "       ['West Virginia', 497, 495, 1501],\n",
       "       ['Wisconsin', 605, 575, 1771],\n",
       "       ['Wyoming', 586, 562, 1737]], dtype=object)"
      ]
     },
     "execution_count": 56,
     "metadata": {},
     "output_type": "execute_result"
    }
   ],
   "source": [
    "satscore"
   ]
  },
  {
   "cell_type": "markdown",
   "metadata": {},
   "source": [
    "### 7. Extraé una lista de las etiquetas de los datos y removela del dataset"
   ]
  },
  {
   "cell_type": "code",
   "execution_count": 57,
   "metadata": {
    "collapsed": true
   },
   "outputs": [],
   "source": [
    "# Tomar cada columna y salvarla en su respectiva variable, como array de Numpy.\n",
    "state, maths, writing, total_score = \\\n",
    "    [satscore_raw.get(x).values for x in satscore_raw.columns]"
   ]
  },
  {
   "cell_type": "markdown",
   "metadata": {},
   "source": [
    "### 8. Creá una lista con los nombres de los Estados del dataset. (Pista: usá la lista de etiquetas como índice)"
   ]
  },
  {
   "cell_type": "code",
   "execution_count": 58,
   "metadata": {},
   "outputs": [
    {
     "data": {
      "text/plain": [
       "array(['Alabama', 'Alaska', 'Arizona', 'Arkansas', 'California',\n",
       "       'Colorado', 'Connecticut', 'Delaware', 'District of Columbia',\n",
       "       'Florida', 'Georgia', 'Hawaii', 'Idaho', 'Illinois', 'Indiana',\n",
       "       'Iowa', 'Kansas', 'Kentucky', 'Louisiana', 'Maine', 'Maryland',\n",
       "       'Massachusetts', 'Michigan', 'Minnesota', 'Mississippi', 'Missouri',\n",
       "       'Montana', 'Nebraska', 'Nevada', 'New Hampshire', 'New Jersey',\n",
       "       'New Mexico', 'New York', 'North Carolina', 'North Dakota', 'Ohio',\n",
       "       'Oklahoma', 'Oregon', 'Pennsylvania', 'Puerto Rico', 'Rhode Island',\n",
       "       'South Carolina', 'South Dakota', 'Tennessee', 'Texas', 'Utah',\n",
       "       'Vermont', 'Virgin Islands', 'Washington', 'West Virginia',\n",
       "       'Wisconsin', 'Wyoming'], dtype=object)"
      ]
     },
     "execution_count": 58,
     "metadata": {},
     "output_type": "execute_result"
    }
   ],
   "source": [
    "state"
   ]
  },
  {
   "cell_type": "markdown",
   "metadata": {},
   "source": [
    "### 9. Imprimí los tipos de cada columna"
   ]
  },
  {
   "cell_type": "code",
   "execution_count": 84,
   "metadata": {},
   "outputs": [
    {
     "name": "stdout",
     "output_type": "stream",
     "text": [
      "Tipo 'maths': int64\n",
      "Tipo 'writing': int64\n",
      "Tipo 'total_score': int64\n"
     ]
    }
   ],
   "source": [
    "print(\"Tipo 'maths': {0}\\n\\\n",
    "Tipo 'writing': {1}\\n\\\n",
    "Tipo 'total_score': {2}\".format(maths.dtype, writing.dtype,total_score.dtype))"
   ]
  },
  {
   "cell_type": "markdown",
   "metadata": {},
   "source": [
    "### 10. ¿Hay algún tipo que deba ser cambiado? Si es así, transformalo al tipo que corresponde"
   ]
  },
  {
   "cell_type": "code",
   "execution_count": null,
   "metadata": {
    "collapsed": true
   },
   "outputs": [],
   "source": []
  },
  {
   "cell_type": "markdown",
   "metadata": {},
   "source": [
    "### 11. Creá un diccionario para cada columna vinculando cada Estado con su respectivo valor en esa columna"
   ]
  },
  {
   "cell_type": "code",
   "execution_count": null,
   "metadata": {
    "collapsed": true
   },
   "outputs": [],
   "source": []
  },
  {
   "cell_type": "markdown",
   "metadata": {},
   "source": [
    "### 12. Creá un diccionario para cada una de las columnas numéricas"
   ]
  },
  {
   "cell_type": "code",
   "execution_count": null,
   "metadata": {
    "collapsed": true
   },
   "outputs": [],
   "source": []
  },
  {
   "cell_type": "markdown",
   "metadata": {},
   "source": [
    "## Paso 3. Describir los datos"
   ]
  },
  {
   "cell_type": "markdown",
   "metadata": {},
   "source": [
    "### 13. Imprimí el máximo y el mínimo de cada columna"
   ]
  },
  {
   "cell_type": "code",
   "execution_count": 93,
   "metadata": {},
   "outputs": [
    {
     "name": "stdout",
     "output_type": "stream",
     "text": [
      "Total Score: max = 1802, min = 1214\n",
      "Mathematics: max = 616, min = 388\n",
      "Writing: max = 842, min = 412\n"
     ]
    }
   ],
   "source": [
    "print(\"Total Score: max = {}, min = {}\"\n",
    "          .format(total_score.max(), total_score.min()))\n",
    "print(\"Mathematics: max = {}, min = {}\"\n",
    "         .format(maths.max(), maths.min()))\n",
    "print(\"Writing: max = {}, min = {}\"\n",
    "         .format(writing.max(), writing.min()))"
   ]
  },
  {
   "cell_type": "markdown",
   "metadata": {},
   "source": [
    "### 14. Escribí una función que use solo lists comprehensions (no for loops) para calcular el Desvío Estándar. Imprimí el Desvío Estándar de cada columna numérica."
   ]
  },
  {
   "cell_type": "code",
   "execution_count": null,
   "metadata": {
    "collapsed": true
   },
   "outputs": [],
   "source": []
  },
  {
   "cell_type": "markdown",
   "metadata": {},
   "source": [
    "## Paso 4. Visualizar los datos"
   ]
  },
  {
   "cell_type": "markdown",
   "metadata": {},
   "source": [
    "### 15. Usando MatPlotLib y PyPlot, graficá la distribución del Rate. ¿Qué tipo de gráfico le correspondería? ¿Por qué?"
   ]
  },
  {
   "cell_type": "code",
   "execution_count": 97,
   "metadata": {},
   "outputs": [
    {
     "data": {
      "image/png": "[encoded data removed]",
      "text/plain": [
       "<matplotlib.figure.Figure at 0x7fb3e0d22b70>"
      ]
     },
     "metadata": {},
     "output_type": "display_data"
    }
   ],
   "source": [
    "from matplotlib import pyplot as plt\n",
    "\n",
    "plt.hist(total_score)\n",
    "\n",
    "plt.show()"
   ]
  },
  {
   "cell_type": "markdown",
   "metadata": {},
   "source": [
    "### 16. Graficá la distribución de la variable *Math*"
   ]
  },
  {
   "cell_type": "code",
   "execution_count": 103,
   "metadata": {},
   "outputs": [
    {
     "data": {
      "image/png": "[encoded data removed]",
      "text/plain": [
       "<matplotlib.figure.Figure at 0x7fb3ddf74278>"
      ]
     },
     "metadata": {},
     "output_type": "display_data"
    }
   ],
   "source": [
    "plt.hist(maths)\n",
    "\n",
    "plt.show()"
   ]
  },
  {
   "cell_type": "markdown",
   "metadata": {},
   "source": [
    "### 17. Graficá la distribución de la variable *Writing*"
   ]
  },
  {
   "cell_type": "code",
   "execution_count": null,
   "metadata": {
    "collapsed": true
   },
   "outputs": [],
   "source": []
  },
  {
   "cell_type": "markdown",
   "metadata": {},
   "source": [
    "### 18. ¿Cuál sería un supuesto acerca de la distribución que genera los datos?"
   ]
  },
  {
   "cell_type": "code",
   "execution_count": null,
   "metadata": {
    "collapsed": true
   },
   "outputs": [],
   "source": []
  },
  {
   "cell_type": "markdown",
   "metadata": {},
   "source": [
    "### 19. ¿Qué podrías decir de ese supuesto en relación a los datos analizados?"
   ]
  },
  {
   "cell_type": "code",
   "execution_count": null,
   "metadata": {
    "collapsed": true
   },
   "outputs": [],
   "source": []
  },
  {
   "cell_type": "markdown",
   "metadata": {},
   "source": [
    "## BONUS: Complementá el análisis"
   ]
  },
  {
   "cell_type": "markdown",
   "metadata": {},
   "source": [
    "### 20. Elegí fuentes de datos adicionales (pobreza, ingresos, población, migrantes, etc.). Analiza y grafica los datos de forma conjunta para observar posibles relaciones. \n",
    "#### Pista: chequear consignas para ir a los links con datos"
   ]
  },
  {
   "cell_type": "code",
   "execution_count": null,
   "metadata": {
    "collapsed": true
   },
   "outputs": [],
   "source": []
  },
  {
   "cell_type": "markdown",
   "metadata": {},
   "source": [
    "### 21. A partir de las variables seleccionados, ¿observas una mayor incidencia de alguna de las variables y la performance del estado en alguno de los scores? ¿Consideras importante inferir alguna conclusión para orientar a los directivos de la universidad y/o profundizar el análisis?  "
   ]
  },
  {
   "cell_type": "code",
   "execution_count": null,
   "metadata": {
    "collapsed": true
   },
   "outputs": [],
   "source": []
  },
  {
   "cell_type": "markdown",
   "metadata": {},
   "source": [
    "### 22. Graficá algunos scatterplots. Usá algún gráfico de Seaborn para presentar scatterplots múltiples"
   ]
  },
  {
   "cell_type": "code",
   "execution_count": null,
   "metadata": {
    "collapsed": true
   },
   "outputs": [],
   "source": []
  },
  {
   "cell_type": "markdown",
   "metadata": {},
   "source": [
    "### 23. ¿Hay alguna relación interesante para mencionar? ¿Cuál? ¿Qué tipo de relación es?"
   ]
  },
  {
   "cell_type": "code",
   "execution_count": null,
   "metadata": {
    "collapsed": true
   },
   "outputs": [],
   "source": []
  },
  {
   "cell_type": "markdown",
   "metadata": {},
   "source": [
    "### 24. Creá boxplots para cada variable (según corresponda)"
   ]
  },
  {
   "cell_type": "code",
   "execution_count": null,
   "metadata": {
    "collapsed": true
   },
   "outputs": [],
   "source": []
  }
 ],
 "metadata": {
  "anaconda-cloud": {},
  "celltoolbar": "Raw Cell Format",
  "kernelspec": {
   "display_name": "Python 3",
   "language": "python",
   "name": "python3"
  },
  "language_info": {
   "codemirror_mode": {
    "name": "ipython",
    "version": 3
   },
   "file_extension": ".py",
   "mimetype": "text/x-python",
   "name": "python",
   "nbconvert_exporter": "python",
   "pygments_lexer": "ipython3",
   "version": "3.6.1"
  }
 },
 "nbformat": 4,
 "nbformat_minor": 1
}
