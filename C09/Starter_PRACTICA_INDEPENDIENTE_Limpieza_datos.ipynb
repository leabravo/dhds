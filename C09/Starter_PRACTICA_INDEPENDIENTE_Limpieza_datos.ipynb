{
 "cells": [
  {
   "cell_type": "markdown",
   "metadata": {},
   "source": [
    "## Práctica Individual\n",
    "\n",
    "Utilizando el archivo _sales.csv_ de la primera clase:\n",
    "\n",
    "- Cargarlo en un dataframe e inspeccionar los tipos de datos.\n",
    "- Suponiendo que encontramos que todos los valores de la columna 1 son incorrectos y debería sumarse 1 unidad a cada uno. Utilizar **df.apply** para agregar esa cantidad a los valores.\n",
    "- Cambiar todos los valores de la columna price mayores a 50000 por NaN. Luego, rellenar estos valores con el anterior en la columna.\n",
    "- Utilizar **value_counts** para contar los valores de la columna 1 del dataset.\n",
    "\n",
    "## Bonus\n",
    "\n",
    "- Agregar 3 unidades a la columna 2\n",
    "- Utilizar **value_counts** para cada una de las columnas del dataset"
   ]
  },
  {
   "cell_type": "code",
   "execution_count": null,
   "metadata": {
    "collapsed": true
   },
   "outputs": [],
   "source": []
  }
 ],
 "metadata": {
  "kernelspec": {
   "display_name": "Python 3",
   "language": "python",
   "name": "python3"
  },
  "language_info": {
   "codemirror_mode": {
    "name": "ipython",
    "version": 3
   },
   "file_extension": ".py",
   "mimetype": "text/x-python",
   "name": "python",
   "nbconvert_exporter": "python",
   "pygments_lexer": "ipython3",
   "version": "3.6.1"
  }
 },
 "nbformat": 4,
 "nbformat_minor": 2
}
