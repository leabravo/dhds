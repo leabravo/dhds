{
 "cells": [
  {
   "cell_type": "code",
   "execution_count": null,
   "metadata": {
    "collapsed": true
   },
   "outputs": [],
   "source": [
    "import numpy as np\n",
    "import pandas as pd"
   ]
  },
  {
   "cell_type": "code",
   "execution_count": null,
   "metadata": {
    "collapsed": true
   },
   "outputs": [],
   "source": [
    "data = pd.read_csv('populations.txt',sep='\\t')"
   ]
  },
  {
   "cell_type": "code",
   "execution_count": null,
   "metadata": {
    "collapsed": false
   },
   "outputs": [],
   "source": [
    "data"
   ]
  },
  {
   "cell_type": "code",
   "execution_count": null,
   "metadata": {
    "collapsed": false
   },
   "outputs": [],
   "source": [
    "# Pasamos todas las columnas a Numpy Arrays\n",
    "year = data[\"# year\"].values\n",
    "type(year)"
   ]
  },
  {
   "cell_type": "code",
   "execution_count": null,
   "metadata": {
    "collapsed": false
   },
   "outputs": [],
   "source": [
    "hares = data[\"hare\"].values"
   ]
  },
  {
   "cell_type": "code",
   "execution_count": null,
   "metadata": {
    "collapsed": true
   },
   "outputs": [],
   "source": [
    "lynxes = data[\"lynx\"].values "
   ]
  },
  {
   "cell_type": "code",
   "execution_count": null,
   "metadata": {
    "collapsed": true
   },
   "outputs": [],
   "source": [
    "carrots = data[\"carrot\"].values "
   ]
  },
  {
   "cell_type": "code",
   "execution_count": null,
   "metadata": {
    "collapsed": true
   },
   "outputs": [],
   "source": [
    "%matplotlib inline\n",
    "import matplotlib.pyplot as plt"
   ]
  },
  {
   "cell_type": "code",
   "execution_count": null,
   "metadata": {
    "collapsed": false
   },
   "outputs": [],
   "source": [
    "plt.plot(year, hares, year, lynxes, year, carrots) \n",
    "plt.legend(('Conejos (hares)', 'Linces (lynxes)', 'Zanahorias (carrots)'), loc=(1.05, 0.5)) \n",
    "plt.show()"
   ]
  },
  {
   "cell_type": "markdown",
   "metadata": {},
   "source": [
    "## Estadística descriptiva\n",
    "\n",
    "Para cada variable de la serie histórica, calculamos la media y el desvío. Redondeamos los valores para que tengan sólo 2 decimales."
   ]
  },
  {
   "cell_type": "code",
   "execution_count": null,
   "metadata": {
    "collapsed": false
   },
   "outputs": [],
   "source": [
    "# Con iloc, puede hacer slicing de un dataframe de pandas con las mismas reglas de slicing que usábamos en los arrays de Numpy.\n",
    "# La propiedad values me devuelve la porción del dataframe un un numpy array\n",
    "poblaciones = data.iloc[:,1:].values\n",
    "# Veamos una muestra del resultado.\n",
    "poblaciones[0:5,:]"
   ]
  },
  {
   "cell_type": "code",
   "execution_count": null,
   "metadata": {
    "collapsed": false
   },
   "outputs": [],
   "source": [
    "# Las funciones de reducción de dimensiones mean. y std. reciben como parámetro axis = 0\n",
    "# Esto quiere decir que reducen cada columna, transformándola en una media y un desvío estándar respectivamente.\n",
    "print (\"                 Conejos, Linces, Zanahorias\")\n",
    "print (\"Mean:\", np.around(poblaciones.mean(axis=0),decimals = 2))\n",
    "print (\"Std:\", np.around(poblaciones.std(axis=0),decimals = 2))"
   ]
  },
  {
   "cell_type": "markdown",
   "metadata": {},
   "source": [
    "A continuación, calculamos para cada especie el año en el que tuvieron más población. Vamos a identificar los máximos que se ven en el gráfico:"
   ]
  },
  {
   "cell_type": "code",
   "execution_count": null,
   "metadata": {
    "collapsed": false
   },
   "outputs": [],
   "source": [
    "# Ahora reducimos la dimensión columna, calculando el máximo de cada una:\n",
    "j_max_years = np.argmax(poblaciones, axis=0)\n",
    "print (\"                           Conejos, Linces, Zanahorias\")\n",
    "# Fancy Indexing\n",
    "print (\"Años de máxima población:\", year[j_max_years])"
   ]
  },
  {
   "cell_type": "markdown",
   "metadata": {},
   "source": [
    "De forma similar podemos ver la especie con mayor población en cada año:"
   ]
  },
  {
   "cell_type": "code",
   "execution_count": null,
   "metadata": {
    "collapsed": false
   },
   "outputs": [],
   "source": [
    "# np.argmax es una función de numpy que reduce dimensiones. \n",
    "# Al recibir axis = 1 reduce el eje de las columnas. \n",
    "# Esto significa que calcula el máximo para cada fila\n",
    "max_species = np.argmax(poblaciones, axis=1)\n",
    "species = np.array(['Conejos', 'Linces', 'Zanahorias'])\n",
    "print (\"Especies con máxima población:\")\n",
    "# Combino los dos vectores en un arary de una dimensión más.\n",
    "print (np.array([year,species[max_species]]))"
   ]
  },
  {
   "cell_type": "markdown",
   "metadata": {},
   "source": [
    "A continuación queremos ver en qué años alguna de las poblaciones se encuentra por encima de 50000"
   ]
  },
  {
   "cell_type": "code",
   "execution_count": null,
   "metadata": {
    "collapsed": false
   },
   "outputs": [],
   "source": [
    "# La función de reducción de dimensiones np.any reduce el eje de las columnas indicando para cada fila si alguno de los \n",
    "# elementos de las columnas cumple con la condición de ser mayor a 50000\n",
    "mayores_50000 = np.any(poblaciones > 50000, axis=1)\n",
    "print (\"Alguna población es mayor que 50000:\", year[mayores_50000])"
   ]
  },
  {
   "cell_type": "markdown",
   "metadata": {},
   "source": [
    "También podemos consultar en qué dos años, cada especie tuvo sus niveles más bajos de población."
   ]
  },
  {
   "cell_type": "code",
   "execution_count": null,
   "metadata": {
    "collapsed": false
   },
   "outputs": [],
   "source": [
    "# primero selecciono los dos primeros índices ordenando por columna\n",
    "j_top_2 = np.argsort(poblaciones, axis=0)[:2]\n",
    "print (\"Dos años de menor población por especie:\")\n",
    "print(['Conejos', 'Linces', 'Zanahorias'])\n",
    "print (year[j_top_2])"
   ]
  },
  {
   "cell_type": "markdown",
   "metadata": {},
   "source": [
    "También podemos analizar la matriz de covarianzas entre las distintas especies:"
   ]
  },
  {
   "cell_type": "code",
   "execution_count": null,
   "metadata": {
    "collapsed": false
   },
   "outputs": [],
   "source": [
    "np.cov([hares, lynxes, carrots])"
   ]
  },
  {
   "cell_type": "markdown",
   "metadata": {},
   "source": [
    "* ¿Puedo comparar las distintas varianzas? ¿Por qué?\n",
    "* ¿Qué variable tiene la mayor varianza? ¿Cómo se ve esto en el gráfico?\n",
    "* ¿Qué significa una covarianza positiva? ¿Y una negativa?"
   ]
  },
  {
   "cell_type": "code",
   "execution_count": null,
   "metadata": {
    "collapsed": false
   },
   "outputs": [],
   "source": [
    "np.corrcoef([hares, lynxes, carrots])"
   ]
  },
  {
   "cell_type": "markdown",
   "metadata": {},
   "source": [
    "* ¿Cómo es el signo de la correlación con resepecto al de la covarianza?\n",
    "* ¿En qué unidades físicas está la correlación? ¿Y la covarianza?\n",
    "* ¿Cuáles son las especies que están más correlacionadas? ¿Cómo se ve esto en el gráfico?"
   ]
  }
 ],
 "metadata": {
  "kernelspec": {
   "display_name": "Python 2",
   "language": "python",
   "name": "python2"
  },
  "language_info": {
   "codemirror_mode": {
    "name": "ipython",
    "version": 2
   },
   "file_extension": ".py",
   "mimetype": "text/x-python",
   "name": "python",
   "nbconvert_exporter": "python",
   "pygments_lexer": "ipython2",
   "version": "2.7.11"
  }
 },
 "nbformat": 4,
 "nbformat_minor": 2
}
