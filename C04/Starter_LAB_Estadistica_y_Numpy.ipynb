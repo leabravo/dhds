{
 "cells": [
  {
   "cell_type": "markdown",
   "metadata": {},
   "source": [
    "## Laboratorio Arreglos y Matrices\n",
    "\n",
    "\n",
    "Ejecuta la celda de abajo para cargar los paquetes requeridos"
   ]
  },
  {
   "cell_type": "code",
   "execution_count": 1,
   "metadata": {
    "collapsed": true
   },
   "outputs": [],
   "source": [
    "import numpy as np\n",
    "import pandas as pd"
   ]
  },
  {
   "cell_type": "markdown",
   "metadata": {},
   "source": [
    "### Datos de ventas\n",
    "\n",
    "Para este lab vamos a estar usando una versión de datos de ventas de vinos en diferentes sucursales (archivo ```volumen_ventas_producto_sucursal.csv```) y el precio de cada vino (```precio_producto.csv```)"
   ]
  },
  {
   "cell_type": "markdown",
   "metadata": {},
   "source": [
    "#### Importar Ventas"
   ]
  },
  {
   "cell_type": "code",
   "execution_count": 11,
   "metadata": {},
   "outputs": [
    {
     "data": {
      "text/html": [
       "<div>\n",
       "<style>\n",
       "    .dataframe thead tr:only-child th {\n",
       "        text-align: right;\n",
       "    }\n",
       "\n",
       "    .dataframe thead th {\n",
       "        text-align: left;\n",
       "    }\n",
       "\n",
       "    .dataframe tbody tr th {\n",
       "        vertical-align: top;\n",
       "    }\n",
       "</style>\n",
       "<table border=\"1\" class=\"dataframe\">\n",
       "  <thead>\n",
       "    <tr style=\"text-align: right;\">\n",
       "      <th></th>\n",
       "      <th>producto</th>\n",
       "      <th>Sucursal 1</th>\n",
       "      <th>Sucursal 2</th>\n",
       "      <th>Sucursal 3</th>\n",
       "      <th>Sucursal 4</th>\n",
       "      <th>Sucursal 5</th>\n",
       "      <th>Sucursal 6</th>\n",
       "      <th>Sucursal 7</th>\n",
       "    </tr>\n",
       "  </thead>\n",
       "  <tbody>\n",
       "    <tr>\n",
       "      <th>0</th>\n",
       "      <td>Malbec</td>\n",
       "      <td>429</td>\n",
       "      <td>106</td>\n",
       "      <td>437</td>\n",
       "      <td>177</td>\n",
       "      <td>200</td>\n",
       "      <td>412</td>\n",
       "      <td>309</td>\n",
       "    </tr>\n",
       "    <tr>\n",
       "      <th>1</th>\n",
       "      <td>Cabernet</td>\n",
       "      <td>244</td>\n",
       "      <td>111</td>\n",
       "      <td>282</td>\n",
       "      <td>238</td>\n",
       "      <td>144</td>\n",
       "      <td>198</td>\n",
       "      <td>331</td>\n",
       "    </tr>\n",
       "    <tr>\n",
       "      <th>2</th>\n",
       "      <td>Syrah</td>\n",
       "      <td>374</td>\n",
       "      <td>278</td>\n",
       "      <td>241</td>\n",
       "      <td>408</td>\n",
       "      <td>177</td>\n",
       "      <td>381</td>\n",
       "      <td>237</td>\n",
       "    </tr>\n",
       "    <tr>\n",
       "      <th>3</th>\n",
       "      <td>Caberne Franc</td>\n",
       "      <td>449</td>\n",
       "      <td>291</td>\n",
       "      <td>461</td>\n",
       "      <td>484</td>\n",
       "      <td>452</td>\n",
       "      <td>388</td>\n",
       "      <td>466</td>\n",
       "    </tr>\n",
       "    <tr>\n",
       "      <th>4</th>\n",
       "      <td>Merlot</td>\n",
       "      <td>222</td>\n",
       "      <td>494</td>\n",
       "      <td>436</td>\n",
       "      <td>252</td>\n",
       "      <td>161</td>\n",
       "      <td>187</td>\n",
       "      <td>337</td>\n",
       "    </tr>\n",
       "    <tr>\n",
       "      <th>5</th>\n",
       "      <td>Pinot noir</td>\n",
       "      <td>335</td>\n",
       "      <td>137</td>\n",
       "      <td>233</td>\n",
       "      <td>487</td>\n",
       "      <td>394</td>\n",
       "      <td>488</td>\n",
       "      <td>331</td>\n",
       "    </tr>\n",
       "  </tbody>\n",
       "</table>\n",
       "</div>"
      ],
      "text/plain": [
       "        producto  Sucursal 1  Sucursal 2  Sucursal 3  Sucursal 4  Sucursal 5  \\\n",
       "0         Malbec         429         106         437         177         200   \n",
       "1       Cabernet         244         111         282         238         144   \n",
       "2          Syrah         374         278         241         408         177   \n",
       "3  Caberne Franc         449         291         461         484         452   \n",
       "4         Merlot         222         494         436         252         161   \n",
       "5     Pinot noir         335         137         233         487         394   \n",
       "\n",
       "   Sucursal 6  Sucursal 7  \n",
       "0         412         309  \n",
       "1         198         331  \n",
       "2         381         237  \n",
       "3         388         466  \n",
       "4         187         337  \n",
       "5         488         331  "
      ]
     },
     "execution_count": 11,
     "metadata": {},
     "output_type": "execute_result"
    }
   ],
   "source": [
    "ven_suc = pd.read_csv(\"volumen_ventas_producto_sucursal.csv\")\n",
    "ven_suc"
   ]
  },
  {
   "cell_type": "markdown",
   "metadata": {},
   "source": [
    "#### Importar precios"
   ]
  },
  {
   "cell_type": "code",
   "execution_count": 15,
   "metadata": {},
   "outputs": [
    {
     "data": {
      "text/html": [
       "<div>\n",
       "<style>\n",
       "    .dataframe thead tr:only-child th {\n",
       "        text-align: right;\n",
       "    }\n",
       "\n",
       "    .dataframe thead th {\n",
       "        text-align: left;\n",
       "    }\n",
       "\n",
       "    .dataframe tbody tr th {\n",
       "        vertical-align: top;\n",
       "    }\n",
       "</style>\n",
       "<table border=\"1\" class=\"dataframe\">\n",
       "  <thead>\n",
       "    <tr style=\"text-align: right;\">\n",
       "      <th></th>\n",
       "      <th>producto</th>\n",
       "      <th>Precio</th>\n",
       "    </tr>\n",
       "  </thead>\n",
       "  <tbody>\n",
       "    <tr>\n",
       "      <th>0</th>\n",
       "      <td>Malbec</td>\n",
       "      <td>208</td>\n",
       "    </tr>\n",
       "    <tr>\n",
       "      <th>1</th>\n",
       "      <td>Cabernet</td>\n",
       "      <td>216</td>\n",
       "    </tr>\n",
       "    <tr>\n",
       "      <th>2</th>\n",
       "      <td>Syrah</td>\n",
       "      <td>247</td>\n",
       "    </tr>\n",
       "    <tr>\n",
       "      <th>3</th>\n",
       "      <td>Caberne Franc</td>\n",
       "      <td>180</td>\n",
       "    </tr>\n",
       "    <tr>\n",
       "      <th>4</th>\n",
       "      <td>Merlot</td>\n",
       "      <td>180</td>\n",
       "    </tr>\n",
       "    <tr>\n",
       "      <th>5</th>\n",
       "      <td>Pinot noir</td>\n",
       "      <td>243</td>\n",
       "    </tr>\n",
       "  </tbody>\n",
       "</table>\n",
       "</div>"
      ],
      "text/plain": [
       "        producto  Precio\n",
       "0         Malbec     208\n",
       "1       Cabernet     216\n",
       "2          Syrah     247\n",
       "3  Caberne Franc     180\n",
       "4         Merlot     180\n",
       "5     Pinot noir     243"
      ]
     },
     "execution_count": 15,
     "metadata": {},
     "output_type": "execute_result"
    }
   ],
   "source": [
    "pre_pro = pd.read_csv(\"precio_producto.csv\")\n",
    "pre_pro"
   ]
  },
  {
   "cell_type": "markdown",
   "metadata": {
    "collapsed": true
   },
   "source": [
    "#### 1. Calcular la cantidad de unidades vendidas para cada sucursal\n",
    "\n",
    "Utilizar la matriz_ventas y funciones de numpy\n",
    "Primero transformar el dataframe de pandas en un array con las funciones iloc y values"
   ]
  },
  {
   "cell_type": "code",
   "execution_count": 55,
   "metadata": {},
   "outputs": [
    {
     "data": {
      "text/plain": [
       "(6, 1)"
      ]
     },
     "execution_count": 55,
     "metadata": {},
     "output_type": "execute_result"
    }
   ],
   "source": [
    "ven_suc_arr = ven_suc.iloc[:,1:].values\n",
    "pro_nom_arr = ven_suc.iloc[:,0:1].values\n",
    "pre_pro_arr = pre_pro.iloc[:,1:].values"
   ]
  },
  {
   "cell_type": "markdown",
   "metadata": {},
   "source": [
    "#### 2. Calcular la cantidad de unidades vendidas para cada producto\n",
    "\n",
    "Utilizar la matriz_ventas y funciones de numpy"
   ]
  },
  {
   "cell_type": "code",
   "execution_count": 53,
   "metadata": {},
   "outputs": [
    {
     "data": {
      "text/plain": [
       "(6,)"
      ]
     },
     "execution_count": 53,
     "metadata": {},
     "output_type": "execute_result"
    }
   ],
   "source": [
    "ven_pro = np.sum(ven_suc_arr, axis=1)"
   ]
  },
  {
   "cell_type": "markdown",
   "metadata": {},
   "source": [
    "#### 3. Calcular cuál es el producto que más vendió cada sucursal\n",
    "Tip: usar np.argmax\n"
   ]
  },
  {
   "cell_type": "code",
   "execution_count": 34,
   "metadata": {},
   "outputs": [
    {
     "data": {
      "text/plain": [
       "array([['Caberne Franc'],\n",
       "       ['Merlot'],\n",
       "       ['Caberne Franc'],\n",
       "       ['Pinot noir'],\n",
       "       ['Caberne Franc'],\n",
       "       ['Pinot noir'],\n",
       "       ['Caberne Franc']], dtype=object)"
      ]
     },
     "execution_count": 34,
     "metadata": {},
     "output_type": "execute_result"
    }
   ],
   "source": [
    "pro_nom_arr[np.argmax(ven_suc_arr,axis=0)]"
   ]
  },
  {
   "cell_type": "markdown",
   "metadata": {},
   "source": [
    "#### 4. Calcular cuál es la sucursal que más vendió cada producto\n",
    "Tip: usar np.argmax\n"
   ]
  },
  {
   "cell_type": "code",
   "execution_count": 65,
   "metadata": {},
   "outputs": [
    {
     "data": {
      "text/plain": [
       "['Malbec sucursal 3',\n",
       " 'Cabernet sucursal 7',\n",
       " 'Syrah sucursal 4',\n",
       " 'Caberne Franc sucursal 4',\n",
       " 'Merlot sucursal 2',\n",
       " 'Pinot noir sucursal 6']"
      ]
     },
     "execution_count": 65,
     "metadata": {},
     "output_type": "execute_result"
    }
   ],
   "source": [
    "[str(y[0]) + \" sucursal \" + str(x + 1) for x, y in zip(np.argmax(ven_suc_arr,axis=1), pro_nom_arr)]"
   ]
  },
  {
   "cell_type": "markdown",
   "metadata": {},
   "source": [
    "#### 5. Calcular la facturación para cada sucursal\n",
    "\n",
    "Utilizando multiplicación matricial (matriz_ventas, matriz_precios) obtener la facturación para cada sucursal (es decir la sumatoria de cantidad vendidada * precio para cada producto).\n",
    "\n",
    "Nota: Se deberá utilizar la función matriz.transpose() para poder realizar la multiplicación matricial, dado que dos matrices A de forma (p,q) y B de forma (r,s) solo se puede multplicar si q=r\n"
   ]
  },
  {
   "cell_type": "code",
   "execution_count": 58,
   "metadata": {},
   "outputs": [
    {
     "data": {
      "text/plain": [
       "array([[436499],\n",
       "       [289281],\n",
       "       [429414],\n",
       "       [439821],\n",
       "       [322505],\n",
       "       [444655],\n",
       "       [419280]])"
      ]
     },
     "execution_count": 58,
     "metadata": {},
     "output_type": "execute_result"
    }
   ],
   "source": [
    "ven_suc_arr.transpose().dot(pre_pro_arr)"
   ]
  }
 ],
 "metadata": {
  "kernelspec": {
   "display_name": "Python 3",
   "language": "python",
   "name": "python3"
  },
  "language_info": {
   "codemirror_mode": {
    "name": "ipython",
    "version": 3
   },
   "file_extension": ".py",
   "mimetype": "text/x-python",
   "name": "python",
   "nbconvert_exporter": "python",
   "pygments_lexer": "ipython3",
   "version": "3.6.1"
  }
 },
 "nbformat": 4,
 "nbformat_minor": 1
}
