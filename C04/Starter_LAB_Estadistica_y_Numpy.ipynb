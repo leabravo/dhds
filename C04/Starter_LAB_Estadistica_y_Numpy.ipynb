{
 "cells": [
  {
   "cell_type": "markdown",
   "metadata": {},
   "source": [
    "## Laboratorio Arreglos y Matrices\n",
    "\n",
    "\n",
    "Ejecuta la celda de abajo para cargar los paquetes requeridos"
   ]
  },
  {
   "cell_type": "code",
   "execution_count": 2,
   "metadata": {
    "collapsed": true
   },
   "outputs": [],
   "source": [
    "import numpy as np\n",
    "import pandas as pd"
   ]
  },
  {
   "cell_type": "markdown",
   "metadata": {},
   "source": [
    "### Datos de ventas\n",
    "\n",
    "Para este lab vamos a estar usando una versión de datos de ventas de vinos en diferentes sucursales (archivo ```volumen_ventas_producto_sucursal.csv```) y el precio de cada vino (```precio_producto.csv```)"
   ]
  },
  {
   "cell_type": "markdown",
   "metadata": {},
   "source": [
    "#### Importar Ventas"
   ]
  },
  {
   "cell_type": "markdown",
   "metadata": {},
   "source": [
    "#### Importar precios"
   ]
  },
  {
   "cell_type": "markdown",
   "metadata": {
    "collapsed": true
   },
   "source": [
    "#### 1. Calcular la cantidad de unidades vendidas para cada sucursal\n",
    "\n",
    "Utilizar la matriz_ventas y funciones de numpy\n",
    "Primero transformar el dataframe de pandas en un array con las funciones iloc y values"
   ]
  },
  {
   "cell_type": "markdown",
   "metadata": {},
   "source": [
    "#### 2. Calcular la cantidad de unidades vendidas para cada producto\n",
    "\n",
    "Utilizar la matriz_ventas y funciones de numpy"
   ]
  },
  {
   "cell_type": "markdown",
   "metadata": {},
   "source": [
    "#### 3. Calcular cuál es el producto que más vendió cada sucursal\n",
    "Tip: usar np.argmax\n"
   ]
  },
  {
   "cell_type": "markdown",
   "metadata": {},
   "source": [
    "#### 4. Calcular cuál es la sucursal que más vendió cada producto\n",
    "Tip: usar np.argmax\n"
   ]
  },
  {
   "cell_type": "markdown",
   "metadata": {},
   "source": [
    "#### 5. Calcular la facturación para cada sucursal\n",
    "\n",
    "Utilizando multiplicación matricial (matriz_ventas, matriz_precios) obtener la facturación para cada sucursal (es decir la sumatoria de cantidad vendidada * precio para cada producto).\n",
    "\n",
    "Nota: Se deberá utilizar la función matriz.transpose() para poder realizar la multiplicación matricial, dado que dos matrices A de forma (p,q) y B de forma (r,s) solo se puede multplicar si q=r\n"
   ]
  },
  {
   "cell_type": "code",
   "execution_count": null,
   "metadata": {
    "collapsed": true
   },
   "outputs": [],
   "source": []
  }
 ],
 "metadata": {
  "kernelspec": {
   "display_name": "Python 2",
   "language": "python",
   "name": "python2"
  },
  "language_info": {
   "codemirror_mode": {
    "name": "ipython",
    "version": 2
   },
   "file_extension": ".py",
   "mimetype": "text/x-python",
   "name": "python",
   "nbconvert_exporter": "python",
   "pygments_lexer": "ipython2",
   "version": "2.7.11"
  }
 },
 "nbformat": 4,
 "nbformat_minor": 0
}
