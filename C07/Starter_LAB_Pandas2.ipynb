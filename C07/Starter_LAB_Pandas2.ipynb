{
 "cells": [
  {
   "cell_type": "markdown",
   "metadata": {},
   "source": [
    "# LAB: Utilizando Pandas con datos de oferta de departamentos en la CABA"
   ]
  },
  {
   "cell_type": "markdown",
   "metadata": {},
   "source": [
    "## Introducción\n",
    "\n",
    "El objetivo de este LAB es trabajar con los conceptos de agregación a través de `groupby` y `pivot tables` mencionadas en la sección teórica. \n",
    "\n",
    "Para eso usaremos un dataset elaborado por el Gobierno de la Ciudad de Buenos Aires que releva el \n",
    "\n",
    "> [p]recio de oferta de venta de terrenos de la Ciudad Autónoma de Buenos Aires, representado en puntos de valor del suelo correspondientes a cada parcela. Con el fin de analizar el precio de oferta, se toma como unidad de referencia el precio del metro cuadrado (m2). Se utiliza el precio en dólares, puesto que ésta es la moneda que se usa en el mercado como referencia para este tipo de transacciones. Otras variables consideradas son las dimensiones, ubicación geográfica, y la normativa del Código de Planeamiento Urbano que rige la zona en que el terreno analizado se localiza. \n",
    "\n",
    "Pueden descargar el dataset y otros elaborados para los años 2001-2015 desde este [link](\n",
    "https://data.buenosaires.gob.ar/dataset/departamentos-en-venta). En el pdf adjunto pueden encontrar una descripción sucinta de las variables relevadas."
   ]
  },
  {
   "cell_type": "markdown",
   "metadata": {},
   "source": [
    "Importamos los paquetes necesarios y cargamos los datos."
   ]
  },
  {
   "cell_type": "code",
   "execution_count": 1,
   "metadata": {
    "collapsed": true
   },
   "outputs": [],
   "source": [
    "import numpy as np\n",
    "import pandas as pd\n",
    "from scipy import stats, integrate\n",
    "import seaborn as sns\n",
    "import matplotlib.pyplot as plt\n",
    "sns.set(style=\"ticks\")"
   ]
  },
  {
   "cell_type": "code",
   "execution_count": 2,
   "metadata": {
    "collapsed": true
   },
   "outputs": [],
   "source": [
    "df = pd.read_csv(\"ED_deptos_venta_2014.csv\",encoding = \"latin1\", sep=\";\")"
   ]
  },
  {
   "cell_type": "code",
   "execution_count": 3,
   "metadata": {
    "scrolled": true
   },
   "outputs": [
    {
     "name": "stdout",
     "output_type": "stream",
     "text": [
      "<class 'pandas.core.frame.DataFrame'>\n",
      "Int64Index: 12724 entries, 1 to 12724\n",
      "Data columns (total 17 columns):\n",
      "CALLE         12724 non-null object\n",
      "NUMERO        12724 non-null int64\n",
      "M2            12724 non-null int64\n",
      "DOLARES       12724 non-null int64\n",
      "U_S_M2        12724 non-null float64\n",
      "AMBIENTES     12724 non-null int64\n",
      "ANTIGUEDAD    9942 non-null float64\n",
      "ORIENT        12724 non-null object\n",
      "BAULERA       12724 non-null object\n",
      "COCHERA       12724 non-null object\n",
      "BAÃ.OS        12724 non-null int64\n",
      "LAVADERO      12724 non-null object\n",
      "TERRAZA       12724 non-null object\n",
      "BARRIO        12724 non-null object\n",
      "COMUNA        12724 non-null int64\n",
      "LON           12724 non-null float64\n",
      "LAT           12724 non-null float64\n",
      "dtypes: float64(4), int64(6), object(7)\n",
      "memory usage: 1.7+ MB\n"
     ]
    }
   ],
   "source": [
    "# Veamos los tipos de las columnas...\n",
    "df.info()"
   ]
  },
  {
   "cell_type": "code",
   "execution_count": 4,
   "metadata": {},
   "outputs": [
    {
     "data": {
      "text/html": [
       "<div>\n",
       "<style>\n",
       "    .dataframe thead tr:only-child th {\n",
       "        text-align: right;\n",
       "    }\n",
       "\n",
       "    .dataframe thead th {\n",
       "        text-align: left;\n",
       "    }\n",
       "\n",
       "    .dataframe tbody tr th {\n",
       "        vertical-align: top;\n",
       "    }\n",
       "</style>\n",
       "<table border=\"1\" class=\"dataframe\">\n",
       "  <thead>\n",
       "    <tr style=\"text-align: right;\">\n",
       "      <th></th>\n",
       "      <th>CALLE</th>\n",
       "      <th>NUMERO</th>\n",
       "      <th>M2</th>\n",
       "      <th>DOLARES</th>\n",
       "      <th>U_S_M2</th>\n",
       "      <th>AMBIENTES</th>\n",
       "      <th>ANTIGUEDAD</th>\n",
       "      <th>ORIENT</th>\n",
       "      <th>BAULERA</th>\n",
       "      <th>COCHERA</th>\n",
       "      <th>BAÃ.OS</th>\n",
       "      <th>LAVADERO</th>\n",
       "      <th>TERRAZA</th>\n",
       "      <th>BARRIO</th>\n",
       "      <th>COMUNA</th>\n",
       "      <th>LON</th>\n",
       "      <th>LAT</th>\n",
       "    </tr>\n",
       "  </thead>\n",
       "  <tbody>\n",
       "    <tr>\n",
       "      <th>1</th>\n",
       "      <td>11 DE SEPTIEMBRE DE 1888</td>\n",
       "      <td>700</td>\n",
       "      <td>560</td>\n",
       "      <td>1270000</td>\n",
       "      <td>2267.9</td>\n",
       "      <td>5</td>\n",
       "      <td>20.0</td>\n",
       "      <td>FRENTE</td>\n",
       "      <td>Si</td>\n",
       "      <td>Si</td>\n",
       "      <td>4</td>\n",
       "      <td>No</td>\n",
       "      <td>Si</td>\n",
       "      <td>PALERMO</td>\n",
       "      <td>14</td>\n",
       "      <td>-58.439523</td>\n",
       "      <td>-34.570692</td>\n",
       "    </tr>\n",
       "    <tr>\n",
       "      <th>2</th>\n",
       "      <td>11 DE SEPTIEMBRE DE 1888</td>\n",
       "      <td>800</td>\n",
       "      <td>126</td>\n",
       "      <td>295000</td>\n",
       "      <td>2341.3</td>\n",
       "      <td>4</td>\n",
       "      <td>45.0</td>\n",
       "      <td>S/D</td>\n",
       "      <td>No</td>\n",
       "      <td>Si</td>\n",
       "      <td>0</td>\n",
       "      <td>No</td>\n",
       "      <td>No</td>\n",
       "      <td>PALERMO</td>\n",
       "      <td>14</td>\n",
       "      <td>-58.440256</td>\n",
       "      <td>-34.570313</td>\n",
       "    </tr>\n",
       "    <tr>\n",
       "      <th>3</th>\n",
       "      <td>11 DE SEPTIEMBRE DE 1888</td>\n",
       "      <td>900</td>\n",
       "      <td>109</td>\n",
       "      <td>320000</td>\n",
       "      <td>2935.8</td>\n",
       "      <td>4</td>\n",
       "      <td>20.0</td>\n",
       "      <td>FRENTE</td>\n",
       "      <td>Si</td>\n",
       "      <td>Si</td>\n",
       "      <td>3</td>\n",
       "      <td>Si</td>\n",
       "      <td>Si</td>\n",
       "      <td>PALERMO</td>\n",
       "      <td>14</td>\n",
       "      <td>-58.441321</td>\n",
       "      <td>-34.569487</td>\n",
       "    </tr>\n",
       "    <tr>\n",
       "      <th>4</th>\n",
       "      <td>11 DE SEPTIEMBRE DE 1888</td>\n",
       "      <td>900</td>\n",
       "      <td>150</td>\n",
       "      <td>400000</td>\n",
       "      <td>2666.7</td>\n",
       "      <td>4</td>\n",
       "      <td>37.0</td>\n",
       "      <td>FRENTE</td>\n",
       "      <td>Si</td>\n",
       "      <td>Si</td>\n",
       "      <td>2</td>\n",
       "      <td>Si</td>\n",
       "      <td>Si</td>\n",
       "      <td>PALERMO</td>\n",
       "      <td>14</td>\n",
       "      <td>-58.441321</td>\n",
       "      <td>-34.569487</td>\n",
       "    </tr>\n",
       "    <tr>\n",
       "      <th>5</th>\n",
       "      <td>11 DE SEPTIEMBRE DE 1888</td>\n",
       "      <td>900</td>\n",
       "      <td>270</td>\n",
       "      <td>950000</td>\n",
       "      <td>3518.5</td>\n",
       "      <td>4</td>\n",
       "      <td>30.0</td>\n",
       "      <td>FRENTE</td>\n",
       "      <td>No</td>\n",
       "      <td>No</td>\n",
       "      <td>3</td>\n",
       "      <td>No</td>\n",
       "      <td>Si</td>\n",
       "      <td>PALERMO</td>\n",
       "      <td>14</td>\n",
       "      <td>-58.441321</td>\n",
       "      <td>-34.569487</td>\n",
       "    </tr>\n",
       "  </tbody>\n",
       "</table>\n",
       "</div>"
      ],
      "text/plain": [
       "                      CALLE  NUMERO   M2  DOLARES  U_S_M2  AMBIENTES  \\\n",
       "1  11 DE SEPTIEMBRE DE 1888     700  560  1270000  2267.9          5   \n",
       "2  11 DE SEPTIEMBRE DE 1888     800  126   295000  2341.3          4   \n",
       "3  11 DE SEPTIEMBRE DE 1888     900  109   320000  2935.8          4   \n",
       "4  11 DE SEPTIEMBRE DE 1888     900  150   400000  2666.7          4   \n",
       "5  11 DE SEPTIEMBRE DE 1888     900  270   950000  3518.5          4   \n",
       "\n",
       "   ANTIGUEDAD  ORIENT BAULERA COCHERA  BAÃ.OS LAVADERO TERRAZA   BARRIO  \\\n",
       "1        20.0  FRENTE      Si      Si       4       No      Si  PALERMO   \n",
       "2        45.0     S/D      No      Si       0       No      No  PALERMO   \n",
       "3        20.0  FRENTE      Si      Si       3       Si      Si  PALERMO   \n",
       "4        37.0  FRENTE      Si      Si       2       Si      Si  PALERMO   \n",
       "5        30.0  FRENTE      No      No       3       No      Si  PALERMO   \n",
       "\n",
       "   COMUNA        LON        LAT  \n",
       "1      14 -58.439523 -34.570692  \n",
       "2      14 -58.440256 -34.570313  \n",
       "3      14 -58.441321 -34.569487  \n",
       "4      14 -58.441321 -34.569487  \n",
       "5      14 -58.441321 -34.569487  "
      ]
     },
     "execution_count": 4,
     "metadata": {},
     "output_type": "execute_result"
    }
   ],
   "source": [
    "# Revisamos que los datos se han importado correctamente\n",
    "\n",
    "df.head()"
   ]
  },
  {
   "cell_type": "markdown",
   "metadata": {},
   "source": [
    "### 1. ¿Cuál es el valor promedio del metro cuadrado en la CABA?"
   ]
  },
  {
   "cell_type": "code",
   "execution_count": 5,
   "metadata": {},
   "outputs": [
    {
     "data": {
      "text/plain": [
       "86.2639107198994"
      ]
     },
     "execution_count": 5,
     "metadata": {},
     "output_type": "execute_result"
    }
   ],
   "source": [
    "df['M2'].mean()"
   ]
  },
  {
   "cell_type": "markdown",
   "metadata": {},
   "source": [
    "### 2. ¿Cómo es la distribución cuartílica de la antigüedad de las viviendas de la CABA?"
   ]
  },
  {
   "cell_type": "code",
   "execution_count": 6,
   "metadata": {},
   "outputs": [
    {
     "data": {
      "text/plain": [
       "0.25     5.0\n",
       "0.50    30.0\n",
       "0.75    40.0\n",
       "Name: ANTIGUEDAD, dtype: float64"
      ]
     },
     "execution_count": 6,
     "metadata": {},
     "output_type": "execute_result"
    }
   ],
   "source": [
    "antig_qt = pd.qcut(df['ANTIGUEDAD'], 4)\n",
    "df['ANTIGUEDAD'].quantile([.25,.5,.75])"
   ]
  },
  {
   "cell_type": "markdown",
   "metadata": {
    "collapsed": true
   },
   "source": [
    "### 3. Calcular las distribuciones decílicas de la antigüedad y precios de la viviendas en CABA\n"
   ]
  },
  {
   "cell_type": "code",
   "execution_count": 63,
   "metadata": {},
   "outputs": [
    {
     "data": {
      "text/html": [
       "<div>\n",
       "<style>\n",
       "    .dataframe thead tr:only-child th {\n",
       "        text-align: right;\n",
       "    }\n",
       "\n",
       "    .dataframe thead th {\n",
       "        text-align: left;\n",
       "    }\n",
       "\n",
       "    .dataframe tbody tr th {\n",
       "        vertical-align: top;\n",
       "    }\n",
       "</style>\n",
       "<table border=\"1\" class=\"dataframe\">\n",
       "  <thead>\n",
       "    <tr>\n",
       "      <th></th>\n",
       "      <th colspan=\"2\" halign=\"left\">DOLARES</th>\n",
       "      <th>M2</th>\n",
       "    </tr>\n",
       "    <tr>\n",
       "      <th></th>\n",
       "      <th>count</th>\n",
       "      <th>mean</th>\n",
       "      <th>sum</th>\n",
       "    </tr>\n",
       "    <tr>\n",
       "      <th>ANTIGUEDAD</th>\n",
       "      <th></th>\n",
       "      <th></th>\n",
       "      <th></th>\n",
       "    </tr>\n",
       "  </thead>\n",
       "  <tbody>\n",
       "    <tr>\n",
       "      <th>(-0.001, 3.0]</th>\n",
       "      <td>2030</td>\n",
       "      <td>170084.162069</td>\n",
       "      <td>123689</td>\n",
       "    </tr>\n",
       "    <tr>\n",
       "      <th>(3.0, 10.0]</th>\n",
       "      <td>1069</td>\n",
       "      <td>238858.043031</td>\n",
       "      <td>84463</td>\n",
       "    </tr>\n",
       "    <tr>\n",
       "      <th>(10.0, 25.0]</th>\n",
       "      <td>1093</td>\n",
       "      <td>294179.550778</td>\n",
       "      <td>120515</td>\n",
       "    </tr>\n",
       "    <tr>\n",
       "      <th>(25.0, 30.0]</th>\n",
       "      <td>1004</td>\n",
       "      <td>210770.995020</td>\n",
       "      <td>92117</td>\n",
       "    </tr>\n",
       "    <tr>\n",
       "      <th>(30.0, 35.0]</th>\n",
       "      <td>1023</td>\n",
       "      <td>180166.040078</td>\n",
       "      <td>84355</td>\n",
       "    </tr>\n",
       "    <tr>\n",
       "      <th>(35.0, 40.0]</th>\n",
       "      <td>1390</td>\n",
       "      <td>180789.561151</td>\n",
       "      <td>115611</td>\n",
       "    </tr>\n",
       "    <tr>\n",
       "      <th>(40.0, 45.0]</th>\n",
       "      <td>605</td>\n",
       "      <td>171877.917355</td>\n",
       "      <td>49120</td>\n",
       "    </tr>\n",
       "    <tr>\n",
       "      <th>(45.0, 55.0]</th>\n",
       "      <td>799</td>\n",
       "      <td>198628.468085</td>\n",
       "      <td>72858</td>\n",
       "    </tr>\n",
       "    <tr>\n",
       "      <th>(55.0, 115.0]</th>\n",
       "      <td>929</td>\n",
       "      <td>251695.238967</td>\n",
       "      <td>111840</td>\n",
       "    </tr>\n",
       "  </tbody>\n",
       "</table>\n",
       "</div>"
      ],
      "text/plain": [
       "              DOLARES                     M2\n",
       "                count           mean     sum\n",
       "ANTIGUEDAD                                  \n",
       "(-0.001, 3.0]    2030  170084.162069  123689\n",
       "(3.0, 10.0]      1069  238858.043031   84463\n",
       "(10.0, 25.0]     1093  294179.550778  120515\n",
       "(25.0, 30.0]     1004  210770.995020   92117\n",
       "(30.0, 35.0]     1023  180166.040078   84355\n",
       "(35.0, 40.0]     1390  180789.561151  115611\n",
       "(40.0, 45.0]      605  171877.917355   49120\n",
       "(45.0, 55.0]      799  198628.468085   72858\n",
       "(55.0, 115.0]     929  251695.238967  111840"
      ]
     },
     "execution_count": 63,
     "metadata": {},
     "output_type": "execute_result"
    }
   ],
   "source": [
    "antig_qt_dec = pd.qcut(df['ANTIGUEDAD'], [.1,.2,.3,.4,.5,.6,.7,.8,.9,1])\n",
    "antig_dist_dol = df.pivot_table(['DOLARES', 'M2'], antig_qt_dec, aggfunc={'DOLARES':['mean', 'count'], 'M2':'sum'})\n",
    "antig_dist_dol"
   ]
  },
  {
   "cell_type": "markdown",
   "metadata": {},
   "source": [
    "### 4. ¿Cuál es la media de precio por metro cuadrado para cada barrio de la CABA? Ordenar los datos para indicar cuál es el barrio más caro.\n",
    "Nota: realizar el cálculo tanto con groupby como con pivot tables"
   ]
  },
  {
   "cell_type": "code",
   "execution_count": null,
   "metadata": {
    "collapsed": true
   },
   "outputs": [],
   "source": []
  },
  {
   "cell_type": "code",
   "execution_count": null,
   "metadata": {
    "collapsed": true
   },
   "outputs": [],
   "source": []
  },
  {
   "cell_type": "markdown",
   "metadata": {},
   "source": [
    "### 5. ¿En qué barrio hay una mayor dispersión de precios de metro cuadrado? Ordenar los valores para identificar el mayor.\n",
    "\n",
    "(Recordar la fórmula del coeficiente de variación para medir la dispersión)"
   ]
  },
  {
   "cell_type": "markdown",
   "metadata": {},
   "source": [
    "**Pistas**\n",
    "* Una primera opción es definir una función con arrays y utilizar `.apply()`"
   ]
  },
  {
   "cell_type": "code",
   "execution_count": null,
   "metadata": {
    "collapsed": true
   },
   "outputs": [],
   "source": []
  },
  {
   "cell_type": "markdown",
   "metadata": {},
   "source": [
    "* Una segunda, es generar dos series: \n",
    "  - una con el método `.std()` y dividirla por otra serie generada con `mean()`"
   ]
  },
  {
   "cell_type": "code",
   "execution_count": null,
   "metadata": {
    "collapsed": true
   },
   "outputs": [],
   "source": []
  },
  {
   "cell_type": "markdown",
   "metadata": {},
   "source": [
    "**Bonus:** ¿cuál le parece mejor y por qué?"
   ]
  },
  {
   "cell_type": "code",
   "execution_count": null,
   "metadata": {
    "collapsed": true
   },
   "outputs": [],
   "source": []
  },
  {
   "cell_type": "markdown",
   "metadata": {},
   "source": [
    "### 6. ¿En qué barrio los departamentos son más grandes? \n",
    "Nota: se puede realizar el cálculo tanto con groupby como con pivot tables"
   ]
  },
  {
   "cell_type": "code",
   "execution_count": null,
   "metadata": {
    "collapsed": true
   },
   "outputs": [],
   "source": []
  },
  {
   "cell_type": "code",
   "execution_count": null,
   "metadata": {
    "collapsed": true
   },
   "outputs": [],
   "source": []
  },
  {
   "cell_type": "markdown",
   "metadata": {},
   "source": [
    "### 7. En general, puede observarse alguna diferencia entre el precio mediano de aquellos departamentos que tienen terraza y los que no? ¿Y en el tamaño?"
   ]
  },
  {
   "cell_type": "code",
   "execution_count": null,
   "metadata": {
    "collapsed": true
   },
   "outputs": [],
   "source": []
  },
  {
   "cell_type": "code",
   "execution_count": null,
   "metadata": {
    "collapsed": true
   },
   "outputs": [],
   "source": []
  },
  {
   "cell_type": "markdown",
   "metadata": {},
   "source": [
    "### 8. Genere un `DataFrame` que agregue la información del precio por M2 (`U_S_M2`), ambientes (`AMBIENTES`) y antigüedad (`ANTIGUEDAD`) a nivel de `COMUNA` y barrio (`BARRIO`). Proporcione información tanto de la tendencia central como de la dispersión de ambas distribuciones."
   ]
  },
  {
   "cell_type": "code",
   "execution_count": null,
   "metadata": {
    "collapsed": true
   },
   "outputs": [],
   "source": []
  },
  {
   "cell_type": "markdown",
   "metadata": {},
   "source": [
    "### 9. Si tuvieran que tomar una decisión sobre dónde invertir en una casa... ¿qué barrio elegirían? ¿Por qué?"
   ]
  },
  {
   "cell_type": "code",
   "execution_count": null,
   "metadata": {
    "collapsed": true
   },
   "outputs": [],
   "source": []
  }
 ],
 "metadata": {
  "kernelspec": {
   "display_name": "Python 3",
   "language": "python",
   "name": "python3"
  },
  "language_info": {
   "codemirror_mode": {
    "name": "ipython",
    "version": 3
   },
   "file_extension": ".py",
   "mimetype": "text/x-python",
   "name": "python",
   "nbconvert_exporter": "python",
   "pygments_lexer": "ipython3",
   "version": "3.6.1"
  }
 },
 "nbformat": 4,
 "nbformat_minor": 2
}
