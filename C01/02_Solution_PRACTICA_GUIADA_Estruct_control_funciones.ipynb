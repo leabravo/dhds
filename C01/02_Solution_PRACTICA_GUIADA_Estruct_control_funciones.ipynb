{
 "cells": [
  {
   "cell_type": "code",
   "execution_count": 1,
   "metadata": {},
   "outputs": [
    {
     "name": "stdout",
     "output_type": "stream",
     "text": [
      "¿Cuánto pesa tu valija? 10\n",
      "Gracias.\n"
     ]
    }
   ],
   "source": [
    "# Si la condición es verdadera, entonces se interpreta el bloque indentado\n",
    "# Si la condición no es cierta, se saltean las sentencias indentadas.\n",
    "# Usar un número menor a 50 para este ejemplo\n",
    "\n",
    "weight = float(input(\"¿Cuánto pesa tu valija? \"))\n",
    "if weight > 50:\n",
    "        print(\"Hay un recargo de $25 para equipaje de ese peso.\")\n",
    "print(\"Gracias.\")"
   ]
  },
  {
   "cell_type": "code",
   "execution_count": 2,
   "metadata": {},
   "outputs": [
    {
     "name": "stdout",
     "output_type": "stream",
     "text": [
      "¿Cuánto pesa tu valija? 30\n",
      "Gracias.\n"
     ]
    }
   ],
   "source": [
    "# Si la condición es verdadera, entonces se interpreta el bloque indentado\n",
    "# Si la condición no es cierta, se saltean las sentencias indentadas.\n",
    "# Usar un número menor a 50 para este ejemplo\n",
    "\n",
    "weight = float(input(\"¿Cuánto pesa tu valija? \"))\n",
    "if weight > 50:\n",
    "        print(\"Hay un recargo de $25 para equipaje de ese peso.\")\n",
    "print(\"Gracias.\")"
   ]
  },
  {
   "cell_type": "code",
   "execution_count": 3,
   "metadata": {},
   "outputs": [
    {
     "name": "stdout",
     "output_type": "stream",
     "text": [
      "¿Cuál es la temperatura? 40\n",
      "Usá shorts.\n",
      "Hacé un poco de ejercicio afuera.\n"
     ]
    }
   ],
   "source": [
    "# Las cuatro líneas centrales son una sentencia if-else. \n",
    "# Hay dos bloques indentados: uno, como en la instrucción if simple, viene justo después del encabezado \n",
    "# if y se ejecuta cuando la condición en el encabezado if es verdadera. \n",
    "# En el formulario if-else esto es seguido por una línea else: seguida por otro bloque indentado\n",
    "# que sólo se ejecuta cuando la condición original es falsa. \n",
    "# En una instrucción if-else  se ejecuta exactamente uno de los dos posibles bloques indentados.\n",
    "\n",
    "temperature = float(input('¿Cuál es la temperatura? '))\n",
    "if temperature > 30:\n",
    "    print('Usá shorts.')\n",
    "else:\n",
    "    print('Usá pantalones largos')\n",
    "print('Hacé un poco de ejercicio afuera.')"
   ]
  },
  {
   "cell_type": "code",
   "execution_count": 4,
   "metadata": {},
   "outputs": [
    {
     "name": "stdout",
     "output_type": "stream",
     "text": [
      "Por favor, ingresar un entero: 2\n",
      "Más\n"
     ]
    }
   ],
   "source": [
    "# El if, cada elif, y la línea final else están todos alineados. \n",
    "# Puede haber cualquier número de líneas elif, cada una seguida por un bloque indentado.\n",
    "# Con esta construcción se ejecuta exactamente uno de los bloques indentados. \n",
    "# Es el que corresponde a la primera condición verdadera.\n",
    "\n",
    "x = int(input(\"Por favor, ingresar un entero: \"))\n",
    "\n",
    "if x < 0:\n",
    "    x = 0\n",
    "    print ('Negativo transformado en cero')\n",
    "elif x == 0:\n",
    "    print ('Cero')\n",
    "elif x == 1:\n",
    "    print ('Uno')\n",
    "else:\n",
    "    print ('Más')"
   ]
  },
  {
   "cell_type": "code",
   "execution_count": 5,
   "metadata": {},
   "outputs": [
    {
     "name": "stdout",
     "output_type": "stream",
     "text": [
      "cat 3\n",
      "window 6\n",
      "defenestrate 12\n"
     ]
    }
   ],
   "source": [
    "words = ['cat', 'window', 'defenestrate']\n",
    "for w in words:\n",
    "    print (w, len(w))"
   ]
  },
  {
   "cell_type": "code",
   "execution_count": 6,
   "metadata": {
    "collapsed": true
   },
   "outputs": [],
   "source": [
    "def printme( str ):\n",
    "   \"Esto imprime el string pasado en la función\"\n",
    "   print (str)\n",
    "   return"
   ]
  },
  {
   "cell_type": "code",
   "execution_count": 7,
   "metadata": {},
   "outputs": [
    {
     "name": "stdout",
     "output_type": "stream",
     "text": [
      "El tráfico de Beltway me hace doler la cabeza.\n",
      "Parece que hay un lugar para estacionar ahí\n"
     ]
    }
   ],
   "source": [
    "printme(\"El tráfico de Beltway me hace doler la cabeza.\")\n",
    "printme(\"Parece que hay un lugar para estacionar ahí\")"
   ]
  }
 ],
 "metadata": {
  "kernelspec": {
   "display_name": "Python 3",
   "language": "python",
   "name": "python3"
  },
  "language_info": {
   "codemirror_mode": {
    "name": "ipython",
    "version": 3
   },
   "file_extension": ".py",
   "mimetype": "text/x-python",
   "name": "python",
   "nbconvert_exporter": "python",
   "pygments_lexer": "ipython3",
   "version": "3.6.1"
  }
 },
 "nbformat": 4,
 "nbformat_minor": 1
}
