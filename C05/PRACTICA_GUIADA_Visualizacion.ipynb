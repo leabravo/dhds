{
 "cells": [
  {
   "cell_type": "markdown",
   "metadata": {},
   "source": [
    "# Visualización\n",
    "\n",
    "\n",
    "La visualización es un recurso **útil y/o necesario** para el **análisis exploratorio** de los datos y la **presentación de resultados**. Veremos unas serie de gráficos que *resumen información estadística* de una base de datos determinada (muestra, población, etc.), tales como:"
   ]
  },
  {
   "cell_type": "markdown",
   "metadata": {},
   "source": [
    "# <center>\n",
    "<img src='http://www.statisticsviews.com/SpringboardWebApp/userfiles/stats/image/Ajay%20Ohri/Factorplot%20from%20Python%20tutorial.png'>\n"
   ]
  },
  {
   "cell_type": "markdown",
   "metadata": {},
   "source": [
    "1. Histogramas \n",
    "2. Boxplots (la imagen de arriba)\n",
    "3. De dispersión (scatterplots)\n",
    "4. De líneas (plots)\n",
    "5. De barras (bar, barh)\n",
    "6. Paneles combinados\n",
    "\n",
    "Los paneles combinados pueden incluir información sobre una misma variable o, bien, pueden mostrar la *relación entre dos (o más) variables* de una base de datos. En estos casos, recurrimos a los jointplots o los pairplots.\n",
    "\n",
    "Recordemos que siempre tenemos que **importar las librerías** y **cargar los datos**."
   ]
  },
  {
   "cell_type": "markdown",
   "metadata": {},
   "source": [
    "Hay diversas librerías/bibliotecas para implementar visualizaciones y, entre ellas, muchas se basan en *matplotlib*. Aquí veremos las siguientes:\n",
    "* Matplotlib\n",
    "* Seaborn"
   ]
  },
  {
   "cell_type": "markdown",
   "metadata": {},
   "source": [
    "## Retomando estadística descriptiva\n",
    "\n",
    "### Histogramas\n",
    "Los histogramas se utilizan para observar la función de densidad, es decir, la distribución de frecuencia de los valores de una variable de interés.\n",
    "\n",
    "Documentación de Matplotlib: https://matplotlib.org/1.2.1/examples/pylab_examples/histogram_demo.html"
   ]
  },
  {
   "cell_type": "code",
   "execution_count": null,
   "metadata": {
    "collapsed": true
   },
   "outputs": [],
   "source": [
    "# Importamos la funcionalidad necesaria\n",
    "import numpy as np\n",
    "import matplotlib.pyplot as plt\n",
    "%matplotlib inline  \n",
    "\n",
    "# Vamos a generar una distribución normalmente distribuida\n",
    "# Definimos los parámetros\n",
    "media = 250\n",
    "desvio = 50\n",
    "\n",
    "# Generamos la distribución\n",
    "x = np.random.normal(media, desvio, 10000)"
   ]
  },
  {
   "cell_type": "code",
   "execution_count": null,
   "metadata": {},
   "outputs": [],
   "source": [
    "# Ploteamos el histograma\n",
    "plt.figure(figsize=(10,6))\n",
    "\n",
    "plt.hist(x, bins=35, color='lightblue')\n",
    "plt.xlabel('Valores')\n",
    "plt.ylabel('Frecuencia')\n",
    "plt.title('Histograma')\n",
    "plt.show()"
   ]
  },
  {
   "cell_type": "markdown",
   "metadata": {},
   "source": [
    "## Boxplots"
   ]
  },
  {
   "cell_type": "markdown",
   "metadata": {},
   "source": [
    "Los boxplots resumen la distribución en cuartiles, permitiendo identificar cuáles son los rangos de valores de cada uno."
   ]
  },
  {
   "cell_type": "markdown",
   "metadata": {},
   "source": [
    "#### Primero carguemos los datos con pandas\n",
    "\n",
    "Nuestro dataset está almacenado en el archivo ```sales_info.csv```"
   ]
  },
  {
   "cell_type": "code",
   "execution_count": null,
   "metadata": {},
   "outputs": [],
   "source": [
    "import pandas as pd\n",
    "import matplotlib.pyplot as plt\n",
    "import seaborn as sns\n",
    "%matplotlib inline\n",
    "\n",
    "data = pd.read_csv('../Data/sales.csv')"
   ]
  },
  {
   "cell_type": "code",
   "execution_count": null,
   "metadata": {},
   "outputs": [],
   "source": [
    "# veamos qué variables tiene la data\n",
    "data.head()"
   ]
  },
  {
   "cell_type": "markdown",
   "metadata": {},
   "source": [
    "#### Ahora veamos la documentación\n",
    "\n",
    "Documentación de Seaborn: https://seaborn.pydata.org/generated/seaborn.boxplot.html"
   ]
  },
  {
   "cell_type": "code",
   "execution_count": null,
   "metadata": {
    "scrolled": true
   },
   "outputs": [],
   "source": [
    "# Listamos las columnas del dataframe\n",
    "data.columns"
   ]
  },
  {
   "cell_type": "code",
   "execution_count": null,
   "metadata": {},
   "outputs": [],
   "source": [
    "# Probemos qué pasa si introducimos el nombre de las variables tal como aparece\n",
    "sns.boxplot(x=' Product', y=' Price', data=data) \n",
    "plt.show()"
   ]
  },
  {
   "cell_type": "markdown",
   "metadata": {},
   "source": [
    "## Boxplot + histograma"
   ]
  },
  {
   "cell_type": "code",
   "execution_count": null,
   "metadata": {},
   "outputs": [],
   "source": [
    "from matplotlib.pyplot import *\n",
    "\n",
    "# Creamos un nuevo dataset\n",
    "dataset = [113, 115, 119, 121, 124, 124, 125, 126, 126, 126, 127, 127, 128, 129, 130, 130, 131, 132, 133, 136]\n",
    "\n",
    "# Características generales del próximo gráfico que vayamos a mostrar\n",
    "figure(figsize=(20,10))\n",
    "\n",
    "# Forma de la grilla y posición del subplot\n",
    "plt.subplot(1,2,1)\n",
    "plt.boxplot(dataset, vert=False)\n",
    "\n",
    "# Otro subplot\n",
    "plt.subplot(1,2,2)\n",
    "plt.hist(dataset, color='green')\n",
    "\n",
    "# Mostramos el gráfico\n",
    "plt.show()"
   ]
  },
  {
   "cell_type": "markdown",
   "metadata": {},
   "source": [
    "## Set de gráficos "
   ]
  },
  {
   "cell_type": "code",
   "execution_count": null,
   "metadata": {
    "collapsed": true
   },
   "outputs": [],
   "source": [
    "figure?"
   ]
  },
  {
   "cell_type": "code",
   "execution_count": null,
   "metadata": {
    "scrolled": false
   },
   "outputs": [],
   "source": [
    "from matplotlib.pyplot import *\n",
    "\n",
    "# Generamos x e y\n",
    "x = [0,1,2,3,4,5,6,7,8,9]\n",
    "y = [9,4,4,5,7,3,2,1,4,3]\n",
    "\n",
    "# Generamos el entorno de la figura\n",
    "figure(figsize=(20, 10))\n",
    "\n",
    "# Dividimos el área en áreas de 2 filas x 3 columnas (grids) \n",
    "# para generar distintas vistas de los datos\n",
    "\n",
    "# bloque superior\n",
    "subplot(2, 3, 1) # seleccionamos el #1\n",
    "plot(x, y) # gráfico que muestra la relación lineal entre las variables\n",
    "\n",
    "subplot(2, 3, 2) # seleccionamos el #2\n",
    "bar(x, y) # gráfico de barras\n",
    "\n",
    "subplot(2, 3, 3) # seleccionamos el #3\n",
    "barh(x, y) # gráfico de barras horizontales\n",
    "\n",
    "# bloque inferior\n",
    "subplot(2, 3, 4) # seleccionamos el #4\n",
    "x1 = [0,1,2,3,4,5,6,7,8,9] # Necesitamos replicar la info de una de las series para apilarla (aquí x porque actúa como índice)\n",
    "bar(x, x1) # primero fijamos x=x1, que luego indicaremos como bottom\n",
    "bar(x, y, bottom=x1, color = 'red') # ahora apilamos y a x=x1\n",
    "\n",
    "subplot(2, 3, 5) # seleccionamos el #5\n",
    "boxplot(y) \n",
    "\n",
    "subplot(2, 3, 6) # seleccionamos el #6\n",
    "scatter(x, y)\n",
    "\n",
    "show()"
   ]
  },
  {
   "cell_type": "markdown",
   "metadata": {
    "collapsed": true
   },
   "source": [
    "## Scatter plots"
   ]
  },
  {
   "cell_type": "code",
   "execution_count": null,
   "metadata": {},
   "outputs": [],
   "source": [
    "import matplotlib.pyplot as plt\n",
    "import numpy as np\n",
    "\n",
    "# generamos los valores para w\n",
    "w = np.random.randn(1000)\n",
    "\n",
    "# generamos valores random para z1\n",
    "z1 = np.random.randn(len(w))\n",
    "\n",
    "# generamos valores para z2\n",
    "z2 = 1.3 + np.exp(w)\n",
    "\n",
    "# generamos el entorno de la figura\n",
    "figure(figsize=(15,8))\n",
    "\n",
    "# definimos primera para de nuestra figura\n",
    "ax1 = plt.subplot(121)\n",
    "plt.scatter(w, z1, color='indigo', alpha=0.3, edgecolors='white', label='random')\n",
    "plt.xlabel('valores random')\n",
    "plt.grid(True)\n",
    "plt.legend()\n",
    "\n",
    "ax2 = plt.subplot(122, sharey=ax1, sharex=ax1)\n",
    "plt.scatter(w, z2, color='green', alpha=0.3, edgecolors='grey', label='exp')\n",
    "plt.xlabel('relación exponencial')\n",
    "plt.grid(True)\n",
    "plt.legend()\n",
    "plt.show()"
   ]
  },
  {
   "cell_type": "markdown",
   "metadata": {},
   "source": [
    " * ¿Qué tipo de relación observa entre las variables del primer subplot? ¿Puede hablar de asociación o correlación? \n",
    " * ¿Y en el segundo subplot?\n",
    " * ¿Puedes calcular la covarianza de estas variables?"
   ]
  },
  {
   "cell_type": "code",
   "execution_count": null,
   "metadata": {},
   "outputs": [],
   "source": [
    "np.cov(w,z1)"
   ]
  },
  {
   "cell_type": "code",
   "execution_count": null,
   "metadata": {},
   "outputs": [],
   "source": [
    "np.cov(w,z2)"
   ]
  },
  {
   "cell_type": "code",
   "execution_count": null,
   "metadata": {},
   "outputs": [],
   "source": [
    "np.corrcoef(w,z1)"
   ]
  },
  {
   "cell_type": "code",
   "execution_count": null,
   "metadata": {},
   "outputs": [],
   "source": [
    "np.corrcoef(w,z2)"
   ]
  }
 ],
 "metadata": {
  "kernelspec": {
   "display_name": "Python 3",
   "language": "python",
   "name": "python3"
  },
  "language_info": {
   "codemirror_mode": {
    "name": "ipython",
    "version": 3
   },
   "file_extension": ".py",
   "mimetype": "text/x-python",
   "name": "python",
   "nbconvert_exporter": "python",
   "pygments_lexer": "ipython3",
   "version": "3.6.1"
  }
 },
 "nbformat": 4,
 "nbformat_minor": 2
}
