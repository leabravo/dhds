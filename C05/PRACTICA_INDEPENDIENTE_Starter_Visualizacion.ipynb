{
 "cells": [
  {
   "cell_type": "markdown",
   "metadata": {},
   "source": [
    "# Visualización con *salary.csv*"
   ]
  },
  {
   "cell_type": "markdown",
   "metadata": {},
   "source": [
    "El dataset *salary.csv* contiene salarios de profesores universitarios de una universidad de Estados Unidos. Nos han solicitado analizar gráficamente el dataset y detectar discrepancias de ingresos entre grupos distintos."
   ]
  },
  {
   "cell_type": "markdown",
   "metadata": {},
   "source": [
    "### Importamos los paquetes requeridos "
   ]
  },
  {
   "cell_type": "code",
   "execution_count": null,
   "metadata": {
    "collapsed": true
   },
   "outputs": [],
   "source": [
    "# Paquetes numéricos y estadísticos\n",
    "import numpy as np\n",
    "import scipy.stats as stats\n",
    "\n",
    "# Pandas maneja la carga y manipulación del dataset\n",
    "import pandas as pd\n",
    "\n",
    "# Funciones de plotting\n",
    "import matplotlib.pyplot as plt\n",
    "import seaborn as sns\n",
    "\n",
    "# Configurar matplotlib para que se muestre en la notebook\n",
    "%matplotlib inline"
   ]
  },
  {
   "cell_type": "markdown",
   "metadata": {},
   "source": [
    "### Cargamos los datos"
   ]
  },
  {
   "cell_type": "code",
   "execution_count": null,
   "metadata": {
    "collapsed": true
   },
   "outputs": [],
   "source": [
    "# leemos el dataset con pandas (ver práctica guiada)\n"
   ]
  },
  {
   "cell_type": "code",
   "execution_count": null,
   "metadata": {
    "collapsed": true
   },
   "outputs": [],
   "source": [
    "# chequeamos las primeras líneas del dataset\n"
   ]
  },
  {
   "cell_type": "markdown",
   "metadata": {},
   "source": [
    "* ¿El nombre de las columnas es suficientemente claro? "
   ]
  },
  {
   "cell_type": "code",
   "execution_count": null,
   "metadata": {
    "collapsed": true
   },
   "outputs": [],
   "source": [
    "salary.columns"
   ]
  },
  {
   "cell_type": "code",
   "execution_count": null,
   "metadata": {
    "collapsed": true
   },
   "outputs": [],
   "source": []
  },
  {
   "cell_type": "markdown",
   "metadata": {},
   "source": [
    "Como conocemos al información de antemano, podemos renombar las columnas para evitar malos entendidos a posteriori. El código para esto es:\n",
    "\n",
    "```salary.columns = ['gender', 'professor_rank', 'years_in_job', 'degree_level', 'years_since_degree', 'yearly_salary']```"
   ]
  },
  {
   "cell_type": "code",
   "execution_count": null,
   "metadata": {
    "collapsed": true
   },
   "outputs": [],
   "source": [
    "# ahora vamos a nombrar las columnas secuencialmente\n"
   ]
  },
  {
   "cell_type": "code",
   "execution_count": null,
   "metadata": {
    "collapsed": true
   },
   "outputs": [],
   "source": [
    "salary.head()"
   ]
  },
  {
   "cell_type": "markdown",
   "metadata": {},
   "source": [
    "* ¿Cuántas columnas tenemos?"
   ]
  },
  {
   "cell_type": "code",
   "execution_count": null,
   "metadata": {
    "collapsed": true
   },
   "outputs": [],
   "source": []
  },
  {
   "cell_type": "markdown",
   "metadata": {},
   "source": [
    "#### Describa brevemente el dataset\n",
    "¿Qué información contiene? \n",
    "\n",
    "¿Cuántos casos? \n",
    "\n",
    "¿Qué tipo de datos posee?\n",
    "\n"
   ]
  },
  {
   "cell_type": "markdown",
   "metadata": {},
   "source": [
    "### Ploteo exploratorio de los datos"
   ]
  },
  {
   "cell_type": "markdown",
   "metadata": {},
   "source": [
    "#### Scatter plot de 'antigüedad en el puesto de trabajo' y 'salario anual'"
   ]
  },
  {
   "cell_type": "code",
   "execution_count": null,
   "metadata": {
    "collapsed": true
   },
   "outputs": [],
   "source": [
    "# construimos un subset con los datos que registran nuestras variables de interés\n",
    "\n"
   ]
  },
  {
   "cell_type": "code",
   "execution_count": null,
   "metadata": {
    "collapsed": true
   },
   "outputs": [],
   "source": [
    "# chequeemos qué forma tienen estos datos\n"
   ]
  },
  {
   "cell_type": "code",
   "execution_count": null,
   "metadata": {
    "collapsed": true
   },
   "outputs": [],
   "source": [
    "# corroboramos documentación y opciones de ploteo\n",
    "plt.plot?"
   ]
  },
  {
   "cell_type": "code",
   "execution_count": null,
   "metadata": {
    "collapsed": true
   },
   "outputs": [],
   "source": [
    "# ploteamos la imagen\n",
    "\n",
    "plt.show()"
   ]
  },
  {
   "cell_type": "markdown",
   "metadata": {},
   "source": [
    "¿Consideras adecuado el tamaño de la imagen? ¿Y el tipo o el color del marcador?"
   ]
  },
  {
   "cell_type": "code",
   "execution_count": null,
   "metadata": {
    "collapsed": true
   },
   "outputs": [],
   "source": [
    "# veamos opciones de imagen\n",
    "plt.figure?"
   ]
  },
  {
   "cell_type": "code",
   "execution_count": null,
   "metadata": {
    "collapsed": true
   },
   "outputs": [],
   "source": [
    "# agrandemos la imagen y modificamos los marcadores\n",
    "\n",
    "\n",
    "plt.show()"
   ]
  },
  {
   "cell_type": "code",
   "execution_count": null,
   "metadata": {
    "collapsed": true
   },
   "outputs": [],
   "source": [
    "# indaguemos sobre opciones de títulos y etiquetas\n",
    "plt.title?"
   ]
  },
  {
   "cell_type": "code",
   "execution_count": null,
   "metadata": {
    "collapsed": true
   },
   "outputs": [],
   "source": [
    "plt.xlabel?"
   ]
  },
  {
   "cell_type": "code",
   "execution_count": null,
   "metadata": {
    "collapsed": true
   },
   "outputs": [],
   "source": [
    "# incluyamos nombres de los ejes y título al gráfico\n",
    "plt.figure(figsize = (12, 8))\n",
    "\n",
    "# aumentamos el tamaño de los puntos\n",
    "\n",
    "\n",
    "# nombre eje x\n",
    "\n",
    "\n",
    "# nombre eje y\n",
    "\n",
    "\n",
    "# título del gráfico\n",
    "\n",
    "plt.show()"
   ]
  },
  {
   "cell_type": "markdown",
   "metadata": {},
   "source": [
    "#### sns.jointplot()"
   ]
  },
  {
   "cell_type": "code",
   "execution_count": null,
   "metadata": {
    "collapsed": true
   },
   "outputs": [],
   "source": [
    "# veamos de qué se trata el jointplot de seaborn\n",
    "sns.jointplot?"
   ]
  },
  {
   "cell_type": "code",
   "execution_count": null,
   "metadata": {
    "collapsed": true
   },
   "outputs": [],
   "source": [
    "# ploteamos nuestras dos variables de interés con sus respectivos histogramas\n",
    "\n",
    "\n"
   ]
  },
  {
   "cell_type": "code",
   "execution_count": null,
   "metadata": {
    "collapsed": true
   },
   "outputs": [],
   "source": [
    "# es posible incluir una regresión lineal entre ambas variables y su distribución conjunta activando KIND='REG'\n",
    "\n"
   ]
  },
  {
   "cell_type": "markdown",
   "metadata": {},
   "source": [
    "Aquí hemos trabajado con todos los datos de forma conjunta... pero esto no sería de gran ayuda si, por ejemplo, necesitáramos analizar las diferencias salariales por género o puesto de trabajo."
   ]
  },
  {
   "cell_type": "markdown",
   "metadata": {},
   "source": [
    "#### sns.pairplot()\n",
    "\n",
    "#### Pair plots de *todo* el dataset"
   ]
  },
  {
   "cell_type": "code",
   "execution_count": null,
   "metadata": {
    "collapsed": true
   },
   "outputs": [],
   "source": [
    "# veamos de qué se trata el pairplot de seaborn\n",
    "sns.pairplot?"
   ]
  },
  {
   "cell_type": "code",
   "execution_count": null,
   "metadata": {
    "collapsed": true
   },
   "outputs": [],
   "source": [
    "# usemos un paneo global de las variables\n"
   ]
  },
  {
   "cell_type": "markdown",
   "metadata": {},
   "source": [
    "Hemos perdido nuestras variables de interés... de las 6 columnas existentes en 'salary', sólo fue posible graficar 3, ¿por qué? ¿qué tipo de dato contienen estas variables? ¿y las omitidas?"
   ]
  },
  {
   "cell_type": "markdown",
   "metadata": {},
   "source": [
    "### Retomemos nuesto análisis... \n",
    "\n",
    "### Ploteo desagregado por categorías"
   ]
  },
  {
   "cell_type": "code",
   "execution_count": null,
   "metadata": {
    "collapsed": true
   },
   "outputs": [],
   "source": [
    "# definamos un subset de nuestro dataset\n",
    "subset = salary[['gender','professor_rank','years_in_job','yearly_salary']] # pido columnas dentro del corchete\n",
    "subset.head()"
   ]
  },
  {
   "cell_type": "markdown",
   "metadata": {},
   "source": [
    "#### Box plots"
   ]
  },
  {
   "cell_type": "code",
   "execution_count": null,
   "metadata": {
    "collapsed": true
   },
   "outputs": [],
   "source": [
    "# analicemos la distribución de 'gender' con un boxplot\n"
   ]
  },
  {
   "cell_type": "code",
   "execution_count": null,
   "metadata": {
    "collapsed": true
   },
   "outputs": [],
   "source": [
    "# analicemos la distribución de 'professor_rank' con un boxplot\n"
   ]
  },
  {
   "cell_type": "markdown",
   "metadata": {},
   "source": [
    "A primera visata, será ncesario profundizar nuestro entendimiento sobre las diferencias salariales entre las categorías de 'gender' y 'professor_rank'. Para ello, nos sería de suma utilidad discriminar categorías por forma o color para plotearlas conjuntamente y, a la vez, identificar subgrupos.\n",
    "\n",
    "Veamos cuán factible es combinar ambas variables categóricas..."
   ]
  },
  {
   "cell_type": "markdown",
   "metadata": {},
   "source": [
    "#### Gráfico de barras"
   ]
  },
  {
   "cell_type": "code",
   "execution_count": null,
   "metadata": {
    "collapsed": true
   },
   "outputs": [],
   "source": [
    "# complementariamente, esta información se puede presentar en un gráfico de barras\n"
   ]
  },
  {
   "cell_type": "markdown",
   "metadata": {},
   "source": [
    "* ¿La media per se refleja la heterogeneidad de cada subgrupo?"
   ]
  },
  {
   "cell_type": "markdown",
   "metadata": {},
   "source": [
    "Para acceder a los valores de la columna podemos usar distintas opciones:\n",
    "\n",
    "* ```salary.gender.values```\n",
    "\n",
    "* ```salary[['gender']].values```"
   ]
  },
  {
   "cell_type": "code",
   "execution_count": null,
   "metadata": {
    "collapsed": true
   },
   "outputs": [],
   "source": [
    "# construimos variables que nos permitan realizar la desagregación deseada\n",
    "gender = salary.gender.values\n",
    "rank = salary.professor_rank.values\n",
    "\n",
    "# identificamos las categorías de cada variable, llamando una única vez a cada categoría\n",
    "gender_values = np.unique(gender)\n",
    "rank_values = np.unique(rank)\n",
    "\n",
    "print(\"Valores de Gender: \", gender_values)\n",
    "print(\"Valores de Rank: \", rank_values)"
   ]
  },
  {
   "cell_type": "markdown",
   "metadata": {},
   "source": [
    "* ¿Que se observa respecto de la cantidad de observaciones desagregada por categoría? ¿Y respecto de la brecha de ingresos?"
   ]
  },
  {
   "cell_type": "markdown",
   "metadata": {},
   "source": [
    "#### sns.FacetGrid()"
   ]
  },
  {
   "cell_type": "code",
   "execution_count": 1,
   "metadata": {},
   "outputs": [
    {
     "name": "stdout",
     "output_type": "stream",
     "text": [
      "Object `sns.FacetGrid` not found.\n"
     ]
    }
   ],
   "source": [
    "# veamos de qué se trata el FacetGrid de seaborn\n",
    "sns.FacetGrid?"
   ]
  },
  {
   "cell_type": "code",
   "execution_count": null,
   "metadata": {
    "collapsed": true
   },
   "outputs": [],
   "source": [
    "# con FACETGRID podemos plotear todas las combinaciones posibles a partir de las categorías de nuestras variables\n",
    "sns.set(style=\"ticks\", color_codes=True)\n",
    "\n"
   ]
  },
  {
   "cell_type": "markdown",
   "metadata": {},
   "source": [
    "#### Scatter plot combinado"
   ]
  },
  {
   "cell_type": "code",
   "execution_count": null,
   "metadata": {
    "collapsed": true
   },
   "outputs": [],
   "source": [
    "plt.style.use('fivethirtyeight')\n",
    "fig = plt.figure(figsize=(12,8))\n",
    "axes = fig.gca()\n",
    "\n",
    "# a partir de las nuevas variables, generamos un loop\n",
    "for g in gender_values:\n",
    "    if g == 'female':\n",
    "        color = 'darkred'\n",
    "    elif g == 'male':\n",
    "        color = 'steelblue'\n",
    "        \n",
    "    for r in rank_values:        \n",
    "        if r == 'full':\n",
    "            # Representa el punto como un '+'\n",
    "            point_marker = '+'\n",
    "        elif r == 'associate':\n",
    "            # Representa el punto como un cuadrado ('s' de square en inglés)\n",
    "            point_marker = 's'\n",
    "        elif r == 'assistant':\n",
    "            # Representa el punto como un triangulo con punta hacia arriba\n",
    "            point_marker = '^'\n",
    "            \n",
    "        current_years = [y for y, g_, r_ in zip(years_in_job, gender, rank) if g_ == g and r_ == r]\n",
    "        current_salaries = [s for s, g_, r_ in zip(yearly_salary, gender, rank) if g_ == g and r_ == r]\n",
    "\n",
    "        axes.scatter(current_years, current_salaries, c=color, marker=point_marker, s=150,\n",
    "                     label=' '.join([r, g]))\n",
    "\n",
    "axes.set_title('Antigüedad vs Salario', fontsize=20)\n",
    "axes.set_xlabel('Antigüedad en el puesto de trabajo', fontsize=16)\n",
    "axes.set_ylabel('Salario anual', fontsize=16)\n",
    "\n",
    "handles, labels = plt.gca().get_legend_handles_labels()\n",
    "by_label = {l:h for l, h in zip(labels, handles)}\n",
    "plt.legend(by_label.values(), by_label.keys(), loc = 'center right', fontsize=12)"
   ]
  },
  {
   "cell_type": "code",
   "execution_count": null,
   "metadata": {
    "collapsed": true
   },
   "outputs": [],
   "source": []
  }
 ],
 "metadata": {
  "kernelspec": {
   "display_name": "Python 3",
   "language": "python",
   "name": "python3"
  },
  "language_info": {
   "codemirror_mode": {
    "name": "ipython",
    "version": 3
   },
   "file_extension": ".py",
   "mimetype": "text/x-python",
   "name": "python",
   "nbconvert_exporter": "python",
   "pygments_lexer": "ipython3",
   "version": "3.6.1"
  }
 },
 "nbformat": 4,
 "nbformat_minor": 2
}
