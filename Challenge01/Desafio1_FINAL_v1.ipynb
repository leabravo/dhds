{
 "cells": [
  {
   "cell_type": "markdown",
   "metadata": {
    "collapsed": true
   },
   "source": [
    "# DESAFIO 1"
   ]
  },
  {
   "cell_type": "markdown",
   "metadata": {},
   "source": [
    "## Paso 1. Abrir el dataset SATscore2015.csv. Investigar la estructura de los datos y responder"
   ]
  },
  {
   "cell_type": "markdown",
   "metadata": {},
   "source": [
    "### 1. ¿Qué es lo que describen los datos?"
   ]
  },
  {
   "cell_type": "markdown",
   "metadata": {
    "collapsed": true
   },
   "source": [
    "Los datos muestran los puntajes promedio de exámenes SAT por Estado en EE.UU. \n",
    "Se ofrece puntaje de resultados totales y en las áreas de matemática y escritura. Cada sección otroga entre 200 y 800 puntos, es decir que como resultado total de la evaluación pueden obtenerse entre 600 y 2400 puntos. \n",
    "El examen SAT evalúa además 'critical reading', que no está incluido en este dataset.  "
   ]
  },
  {
   "cell_type": "markdown",
   "metadata": {
    "collapsed": true
   },
   "source": [
    "### 2. ¿Se ve algún problema en los datos? ¿Están completos?"
   ]
  },
  {
   "cell_type": "markdown",
   "metadata": {
    "collapsed": true
   },
   "source": [
    "A simple vista los datos de la columna \"Mathematics\" están entrecomillados y falta el dato para el estado de Virginia (38). En \"Writing\" aparece un valor por encima de 800 (38, Pennsylvania, 842). En ambos casos, los valores pordrían ser reemplazados por los datos correspondientes -si están disponibles- o por la media de cada columna."
   ]
  },
  {
   "cell_type": "markdown",
   "metadata": {
    "collapsed": true
   },
   "source": [
    "### 3. ¿Qué representan las filas? ¿Y las columnas?"
   ]
  },
  {
   "cell_type": "markdown",
   "metadata": {
    "collapsed": true
   },
   "source": [
    "Las filas representan los estados de EE.UU. y las columas los puntajes."
   ]
  },
  {
   "cell_type": "markdown",
   "metadata": {
    "collapsed": true
   },
   "source": [
    "### 4. Creá un diccionario de datos para el dataset en formato texto. En el mismo deben describirse las diferentes variables, su nivel de medición y dar alguna(s) medida(s) descriptiva(s) de cada una."
   ]
  },
  {
   "cell_type": "markdown",
   "metadata": {
    "collapsed": true
   },
   "source": [
    "Variable 1: estados => nominal \n",
    "\n",
    "Variable 2: maths => numérica (discreta)\n",
    "\n",
    "Variable 3: writing => numérica (discreta) \n",
    "\n",
    "Variable 4: total => numérica (discreta)"
   ]
  },
  {
   "cell_type": "markdown",
   "metadata": {
    "collapsed": true
   },
   "source": [
    "## Paso 2. Cargar el dataset"
   ]
  },
  {
   "cell_type": "markdown",
   "metadata": {},
   "source": [
    "### 5. Cargá los datos en una lista de listas"
   ]
  },
  {
   "cell_type": "code",
   "execution_count": 1,
   "metadata": {
    "collapsed": true
   },
   "outputs": [],
   "source": [
    "import numpy as np\n",
    "import scipy.stats as stats\n",
    "import csv\n",
    "import seaborn as sns\n",
    "import pandas as pd\n",
    "import matplotlib.pyplot as plt\n",
    "%matplotlib inline\n",
    "data = pd.read_csv('SATscore2015.csv')"
   ]
  },
  {
   "cell_type": "markdown",
   "metadata": {},
   "source": [
    "### 6. Visualizá (print) los datos"
   ]
  },
  {
   "cell_type": "code",
   "execution_count": 2,
   "metadata": {},
   "outputs": [
    {
     "name": "stdout",
     "output_type": "stream",
     "text": [
      "                   State Mathematics  Writing  Total SAT score\n",
      "0                Alabama         538      533             1616\n",
      "1                 Alaska         503      482             1494\n",
      "2                Arizona         527      502             1552\n",
      "3               Arkansas         569      551             1688\n",
      "4             California         506      491             1492\n",
      "5               Colorado         587      567             1736\n",
      "6            Connecticut         506      504             1514\n",
      "7               Delaware         461      445             1368\n",
      "8   District of Columbia         440      432             1313\n",
      "9                Florida         480      468             1434\n",
      "10               Georgia         485      475             1450\n",
      "11                Hawaii         508      477             1472\n",
      "12                 Idaho         463      442             1372\n",
      "13              Illinois         616      587             1802\n",
      "14               Indiana         499      478             1473\n",
      "15                  Iowa         600      566             1755\n",
      "16                Kansas         592      568             1748\n",
      "17              Kentucky         587      574             1749\n",
      "18             Louisiana         559      553             1675\n",
      "19                 Maine         473      451             1392\n",
      "20              Maryland         493      478             1462\n",
      "21         Massachusetts         529      507             1552\n",
      "22              Michigan         609      585             1788\n",
      "23             Minnesota         607      576             1778\n",
      "24           Mississippi         563      570             1713\n",
      "25              Missouri         599      582             1777\n",
      "26               Montana         556      538             1655\n",
      "27              Nebraska         590      576             1755\n",
      "28                Nevada         494      470             1458\n",
      "29         New Hampshire         530      511             1566\n",
      "30            New Jersey         521      499             1520\n",
      "31            New Mexico         544      528             1623\n",
      "32              New York         502      478             1469\n",
      "33        North Carolina         504      476             1478\n",
      "34          North Dakota         608      586             1791\n",
      "35                  Ohio         563      537             1657\n",
      "36              Oklahoma         569      548             1693\n",
      "37                Oregon         521      502             1546\n",
      "38          Pennsylvania         504      842             1485\n",
      "39           Puerto Rico         450      450             1363\n",
      "40          Rhode Island         494      484             1472\n",
      "41        South Carolina         487      467             1442\n",
      "42          South Dakota         597      564             1753\n",
      "43             Tennessee         574      568             1723\n",
      "44                 Texas         486      454             1410\n",
      "45                  Utah         575      554             1708\n",
      "46               Vermont         524      507             1554\n",
      "47              Virginia           .      499             1533\n",
      "48        Virgin Islands         388      412             1214\n",
      "49            Washington         510      484             1496\n",
      "50         West Virginia         497      495             1501\n",
      "51             Wisconsin         605      575             1771\n",
      "52               Wyoming         586      562             1737\n"
     ]
    }
   ],
   "source": [
    "print(data)"
   ]
  },
  {
   "cell_type": "code",
   "execution_count": 3,
   "metadata": {},
   "outputs": [
    {
     "name": "stdout",
     "output_type": "stream",
     "text": [
      "<class 'pandas.core.frame.DataFrame'>\n",
      "RangeIndex: 53 entries, 0 to 52\n",
      "Data columns (total 4 columns):\n",
      "State              53 non-null object\n",
      "Mathematics        53 non-null object\n",
      "Writing            53 non-null int64\n",
      "Total SAT score    53 non-null int64\n",
      "dtypes: int64(2), object(2)\n",
      "memory usage: 1.7+ KB\n"
     ]
    }
   ],
   "source": [
    "data.info()"
   ]
  },
  {
   "cell_type": "markdown",
   "metadata": {},
   "source": [
    "### 7. Extraé una lista de las etiquetas de los datos y removela del dataset"
   ]
  },
  {
   "cell_type": "code",
   "execution_count": 4,
   "metadata": {},
   "outputs": [
    {
     "data": {
      "text/plain": [
       "Index(['State', 'Mathematics', 'Writing', 'Total SAT score'], dtype='object')"
      ]
     },
     "execution_count": 4,
     "metadata": {},
     "output_type": "execute_result"
    }
   ],
   "source": [
    "etiquetas = data.columns\n",
    "etiquetas"
   ]
  },
  {
   "cell_type": "code",
   "execution_count": 5,
   "metadata": {},
   "outputs": [
    {
     "data": {
      "text/html": [
       "<div>\n",
       "<style>\n",
       "    .dataframe thead tr:only-child th {\n",
       "        text-align: right;\n",
       "    }\n",
       "\n",
       "    .dataframe thead th {\n",
       "        text-align: left;\n",
       "    }\n",
       "\n",
       "    .dataframe tbody tr th {\n",
       "        vertical-align: top;\n",
       "    }\n",
       "</style>\n",
       "<table border=\"1\" class=\"dataframe\">\n",
       "  <thead>\n",
       "    <tr style=\"text-align: right;\">\n",
       "      <th></th>\n",
       "      <th>Mathematics</th>\n",
       "      <th>Writing</th>\n",
       "      <th>Total SAT score</th>\n",
       "    </tr>\n",
       "  </thead>\n",
       "  <tbody>\n",
       "    <tr>\n",
       "      <th>0</th>\n",
       "      <td>538</td>\n",
       "      <td>533</td>\n",
       "      <td>1616</td>\n",
       "    </tr>\n",
       "    <tr>\n",
       "      <th>1</th>\n",
       "      <td>503</td>\n",
       "      <td>482</td>\n",
       "      <td>1494</td>\n",
       "    </tr>\n",
       "    <tr>\n",
       "      <th>2</th>\n",
       "      <td>527</td>\n",
       "      <td>502</td>\n",
       "      <td>1552</td>\n",
       "    </tr>\n",
       "    <tr>\n",
       "      <th>3</th>\n",
       "      <td>569</td>\n",
       "      <td>551</td>\n",
       "      <td>1688</td>\n",
       "    </tr>\n",
       "    <tr>\n",
       "      <th>4</th>\n",
       "      <td>506</td>\n",
       "      <td>491</td>\n",
       "      <td>1492</td>\n",
       "    </tr>\n",
       "  </tbody>\n",
       "</table>\n",
       "</div>"
      ],
      "text/plain": [
       "  Mathematics  Writing  Total SAT score\n",
       "0         538      533             1616\n",
       "1         503      482             1494\n",
       "2         527      502             1552\n",
       "3         569      551             1688\n",
       "4         506      491             1492"
      ]
     },
     "execution_count": 5,
     "metadata": {},
     "output_type": "execute_result"
    }
   ],
   "source": [
    "scores = data.iloc[:,1:]\n",
    "scores[0:5]"
   ]
  },
  {
   "cell_type": "markdown",
   "metadata": {},
   "source": [
    "### 8. Creá una lista con los nombres de los Estados del dataset. (Pista: usá la lista de etiquetas como índice)"
   ]
  },
  {
   "cell_type": "code",
   "execution_count": 6,
   "metadata": {},
   "outputs": [
    {
     "data": {
      "text/html": [
       "<div>\n",
       "<style>\n",
       "    .dataframe thead tr:only-child th {\n",
       "        text-align: right;\n",
       "    }\n",
       "\n",
       "    .dataframe thead th {\n",
       "        text-align: left;\n",
       "    }\n",
       "\n",
       "    .dataframe tbody tr th {\n",
       "        vertical-align: top;\n",
       "    }\n",
       "</style>\n",
       "<table border=\"1\" class=\"dataframe\">\n",
       "  <thead>\n",
       "    <tr style=\"text-align: right;\">\n",
       "      <th></th>\n",
       "      <th>State</th>\n",
       "    </tr>\n",
       "  </thead>\n",
       "  <tbody>\n",
       "    <tr>\n",
       "      <th>1</th>\n",
       "      <td>Alaska</td>\n",
       "    </tr>\n",
       "    <tr>\n",
       "      <th>2</th>\n",
       "      <td>Arizona</td>\n",
       "    </tr>\n",
       "    <tr>\n",
       "      <th>3</th>\n",
       "      <td>Arkansas</td>\n",
       "    </tr>\n",
       "    <tr>\n",
       "      <th>4</th>\n",
       "      <td>California</td>\n",
       "    </tr>\n",
       "    <tr>\n",
       "      <th>5</th>\n",
       "      <td>Colorado</td>\n",
       "    </tr>\n",
       "  </tbody>\n",
       "</table>\n",
       "</div>"
      ],
      "text/plain": [
       "        State\n",
       "1      Alaska\n",
       "2     Arizona\n",
       "3    Arkansas\n",
       "4  California\n",
       "5    Colorado"
      ]
     },
     "execution_count": 6,
     "metadata": {},
     "output_type": "execute_result"
    }
   ],
   "source": [
    "estados = data.iloc[1:,:1]\n",
    "estados[0:5]"
   ]
  },
  {
   "cell_type": "markdown",
   "metadata": {},
   "source": [
    "### 9. Imprimí los tipos de cada columna"
   ]
  },
  {
   "cell_type": "code",
   "execution_count": 7,
   "metadata": {},
   "outputs": [
    {
     "name": "stdout",
     "output_type": "stream",
     "text": [
      "Index(['State', 'Mathematics', 'Writing', 'Total SAT score'], dtype='object')\n",
      "<class 'str'>\n",
      "<class 'str'>\n",
      "<class 'str'>\n",
      "<class 'str'>\n"
     ]
    }
   ],
   "source": [
    "print(data.columns)\n",
    "print(type('State'))\n",
    "print(type('Mathematics'))\n",
    "print(type('Writing'))\n",
    "print(type('Total SAT score'))"
   ]
  },
  {
   "cell_type": "code",
   "execution_count": 8,
   "metadata": {},
   "outputs": [
    {
     "name": "stdout",
     "output_type": "stream",
     "text": [
      "<class 'pandas.core.frame.DataFrame'>\n",
      "RangeIndex: 53 entries, 0 to 52\n",
      "Data columns (total 4 columns):\n",
      "State              53 non-null object\n",
      "Mathematics        53 non-null object\n",
      "Writing            53 non-null int64\n",
      "Total SAT score    53 non-null int64\n",
      "dtypes: int64(2), object(2)\n",
      "memory usage: 1.7+ KB\n"
     ]
    }
   ],
   "source": [
    "data.info()"
   ]
  },
  {
   "cell_type": "markdown",
   "metadata": {},
   "source": [
    "### 10. ¿Hay algún tipo que deba ser cambiado? Si es así, transformalo al tipo que corresponde"
   ]
  },
  {
   "cell_type": "code",
   "execution_count": 9,
   "metadata": {
    "collapsed": true
   },
   "outputs": [],
   "source": [
    "# Reemplazamos el caracter extraño por el resultado \n",
    "# (Fuente: https://nces.ed.gov/programs/digest/d15/tables/dt15_226.40.asp?current=yes)\n",
    "data.iloc[47:48,1:2] = 516"
   ]
  },
  {
   "cell_type": "code",
   "execution_count": 10,
   "metadata": {
    "collapsed": true
   },
   "outputs": [],
   "source": [
    "#La columna Mathematics tiene que ser int64\n",
    "data['Mathematics'] = pd.to_numeric(data['Mathematics'])"
   ]
  },
  {
   "cell_type": "code",
   "execution_count": 11,
   "metadata": {},
   "outputs": [
    {
     "name": "stdout",
     "output_type": "stream",
     "text": [
      "<class 'pandas.core.frame.DataFrame'>\n",
      "RangeIndex: 53 entries, 0 to 52\n",
      "Data columns (total 4 columns):\n",
      "State              53 non-null object\n",
      "Mathematics        53 non-null int64\n",
      "Writing            53 non-null int64\n",
      "Total SAT score    53 non-null int64\n",
      "dtypes: int64(3), object(1)\n",
      "memory usage: 1.7+ KB\n"
     ]
    }
   ],
   "source": [
    "data.info()"
   ]
  },
  {
   "cell_type": "code",
   "execution_count": 12,
   "metadata": {},
   "outputs": [
    {
     "data": {
      "text/plain": [
       "array([538, 503, 527, 569, 506, 587, 506, 461, 440, 480, 485, 508, 463,\n",
       "       616, 499, 600, 592, 587, 559, 473, 493, 529, 609, 607, 563, 599,\n",
       "       556, 590, 494, 530, 521, 544, 502, 504, 608, 563, 569, 521, 504,\n",
       "       450, 494, 487, 597, 574, 486, 575, 524, 516, 388, 510, 497, 605, 586])"
      ]
     },
     "execution_count": 12,
     "metadata": {},
     "output_type": "execute_result"
    }
   ],
   "source": [
    "mat = np.array(data[\"Mathematics\"])\n",
    "mat"
   ]
  },
  {
   "cell_type": "code",
   "execution_count": 42,
   "metadata": {},
   "outputs": [
    {
     "data": {
      "text/html": [
       "<div>\n",
       "<style>\n",
       "    .dataframe thead tr:only-child th {\n",
       "        text-align: right;\n",
       "    }\n",
       "\n",
       "    .dataframe thead th {\n",
       "        text-align: left;\n",
       "    }\n",
       "\n",
       "    .dataframe tbody tr th {\n",
       "        vertical-align: top;\n",
       "    }\n",
       "</style>\n",
       "<table border=\"1\" class=\"dataframe\">\n",
       "  <thead>\n",
       "    <tr style=\"text-align: right;\">\n",
       "      <th></th>\n",
       "      <th>State</th>\n",
       "      <th>GDP 2016</th>\n",
       "      <th>% of Nation</th>\n",
       "      <th>Pop. dens.Rank</th>\n",
       "      <th>Density\n",
       "(Pop.\n",
       "/ km²)</th>\n",
       "      <th>Pop.Rank</th>\n",
       "      <th>2015\n",
       "population</th>\n",
       "      <th>Immigrant \n",
       "Population</th>\n",
       "      <th>% Inmigrant \n",
       "Pop.</th>\n",
       "      <th>Land Rank</th>\n",
       "      <th>Land\n",
       "area\n",
       "(km²)</th>\n",
       "      <th>GINI rank</th>\n",
       "      <th>GINI\n",
       "value</th>\n",
       "      <th>Budget per pupil 2014</th>\n",
       "      <th>Mathematics</th>\n",
       "      <th>Writing</th>\n",
       "      <th>Total SAT score</th>\n",
       "    </tr>\n",
       "  </thead>\n",
       "  <tbody>\n",
       "    <tr>\n",
       "      <th>1</th>\n",
       "      <td>Alaska</td>\n",
       "      <td>50713</td>\n",
       "      <td>0.27</td>\n",
       "      <td>50.0</td>\n",
       "      <td>0.0</td>\n",
       "      <td>48.0</td>\n",
       "      <td>738432.0</td>\n",
       "      <td>54000.0</td>\n",
       "      <td>0.073128</td>\n",
       "      <td>1.0</td>\n",
       "      <td>1477953.4</td>\n",
       "      <td>1.0</td>\n",
       "      <td>0.418</td>\n",
       "      <td>18416</td>\n",
       "      <td>503.0</td>\n",
       "      <td>482.0</td>\n",
       "      <td>1494.0</td>\n",
       "    </tr>\n",
       "    <tr>\n",
       "      <th>2</th>\n",
       "      <td>Arizona</td>\n",
       "      <td>302952</td>\n",
       "      <td>1.64</td>\n",
       "      <td>33.0</td>\n",
       "      <td>23.0</td>\n",
       "      <td>14.0</td>\n",
       "      <td>6828065.0</td>\n",
       "      <td>896000.0</td>\n",
       "      <td>0.131223</td>\n",
       "      <td>6.0</td>\n",
       "      <td>294207.1</td>\n",
       "      <td>30.0</td>\n",
       "      <td>0.468</td>\n",
       "      <td>7528</td>\n",
       "      <td>527.0</td>\n",
       "      <td>502.0</td>\n",
       "      <td>1552.0</td>\n",
       "    </tr>\n",
       "    <tr>\n",
       "      <th>3</th>\n",
       "      <td>Arkansas</td>\n",
       "      <td>120689</td>\n",
       "      <td>0.65</td>\n",
       "      <td>34.0</td>\n",
       "      <td>22.0</td>\n",
       "      <td>33.0</td>\n",
       "      <td>2978204.0</td>\n",
       "      <td>139000.0</td>\n",
       "      <td>0.046672</td>\n",
       "      <td>27.0</td>\n",
       "      <td>134770.0</td>\n",
       "      <td>34.0</td>\n",
       "      <td>0.471</td>\n",
       "      <td>9616</td>\n",
       "      <td>569.0</td>\n",
       "      <td>551.0</td>\n",
       "      <td>1688.0</td>\n",
       "    </tr>\n",
       "    <tr>\n",
       "      <th>4</th>\n",
       "      <td>California</td>\n",
       "      <td>2602672</td>\n",
       "      <td>14.10</td>\n",
       "      <td>11.0</td>\n",
       "      <td>97.0</td>\n",
       "      <td>1.0</td>\n",
       "      <td>39144818.0</td>\n",
       "      <td>10390000.0</td>\n",
       "      <td>0.265425</td>\n",
       "      <td>3.0</td>\n",
       "      <td>423970.7</td>\n",
       "      <td>47.0</td>\n",
       "      <td>0.489</td>\n",
       "      <td>9595</td>\n",
       "      <td>506.0</td>\n",
       "      <td>491.0</td>\n",
       "      <td>1492.0</td>\n",
       "    </tr>\n",
       "    <tr>\n",
       "      <th>5</th>\n",
       "      <td>Colorado</td>\n",
       "      <td>323692</td>\n",
       "      <td>1.75</td>\n",
       "      <td>37.0</td>\n",
       "      <td>20.0</td>\n",
       "      <td>22.0</td>\n",
       "      <td>5456574.0</td>\n",
       "      <td>516000.0</td>\n",
       "      <td>0.094565</td>\n",
       "      <td>8.0</td>\n",
       "      <td>268431.5</td>\n",
       "      <td>20.0</td>\n",
       "      <td>0.458</td>\n",
       "      <td>8985</td>\n",
       "      <td>587.0</td>\n",
       "      <td>567.0</td>\n",
       "      <td>1736.0</td>\n",
       "    </tr>\n",
       "  </tbody>\n",
       "</table>\n",
       "</div>"
      ],
      "text/plain": [
       "        State  GDP 2016  % of Nation  Pop. dens.Rank  Density\\n(Pop.\\n/ km²)  \\\n",
       "1      Alaska     50713         0.27            50.0                     0.0   \n",
       "2     Arizona    302952         1.64            33.0                    23.0   \n",
       "3    Arkansas    120689         0.65            34.0                    22.0   \n",
       "4  California   2602672        14.10            11.0                    97.0   \n",
       "5    Colorado    323692         1.75            37.0                    20.0   \n",
       "\n",
       "   Pop.Rank  2015\\npopulation  Immigrant \\nPopulation  % Inmigrant \\nPop.  \\\n",
       "1      48.0          738432.0                 54000.0            0.073128   \n",
       "2      14.0         6828065.0                896000.0            0.131223   \n",
       "3      33.0         2978204.0                139000.0            0.046672   \n",
       "4       1.0        39144818.0              10390000.0            0.265425   \n",
       "5      22.0         5456574.0                516000.0            0.094565   \n",
       "\n",
       "   Land Rank  Land\\narea\\n(km²)  GINI rank  GINI\\nvalue  \\\n",
       "1        1.0          1477953.4        1.0        0.418   \n",
       "2        6.0           294207.1       30.0        0.468   \n",
       "3       27.0           134770.0       34.0        0.471   \n",
       "4        3.0           423970.7       47.0        0.489   \n",
       "5        8.0           268431.5       20.0        0.458   \n",
       "\n",
       "   Budget per pupil 2014  Mathematics  Writing  Total SAT score  \n",
       "1                  18416        503.0    482.0           1494.0  \n",
       "2                   7528        527.0    502.0           1552.0  \n",
       "3                   9616        569.0    551.0           1688.0  \n",
       "4                   9595        506.0    491.0           1492.0  \n",
       "5                   8985        587.0    567.0           1736.0  "
      ]
     },
     "execution_count": 42,
     "metadata": {},
     "output_type": "execute_result"
    }
   ],
   "source": [
    "data.head()"
   ]
  },
  {
   "cell_type": "code",
   "execution_count": 14,
   "metadata": {},
   "outputs": [
    {
     "name": "stdout",
     "output_type": "stream",
     "text": [
      "0     True\n",
      "1     True\n",
      "2     True\n",
      "3     True\n",
      "4     True\n",
      "5     True\n",
      "6     True\n",
      "7     True\n",
      "8     True\n",
      "9     True\n",
      "10    True\n",
      "11    True\n",
      "12    True\n",
      "13    True\n",
      "14    True\n",
      "15    True\n",
      "16    True\n",
      "17    True\n",
      "18    True\n",
      "19    True\n",
      "20    True\n",
      "21    True\n",
      "22    True\n",
      "23    True\n",
      "24    True\n",
      "25    True\n",
      "26    True\n",
      "27    True\n",
      "28    True\n",
      "29    True\n",
      "30    True\n",
      "31    True\n",
      "32    True\n",
      "33    True\n",
      "34    True\n",
      "35    True\n",
      "36    True\n",
      "37    True\n",
      "38    True\n",
      "39    True\n",
      "40    True\n",
      "41    True\n",
      "42    True\n",
      "43    True\n",
      "44    True\n",
      "45    True\n",
      "46    True\n",
      "47    True\n",
      "48    True\n",
      "49    True\n",
      "50    True\n",
      "51    True\n",
      "52    True\n",
      "Name: Mathematics, dtype: bool\n",
      "0     True\n",
      "1     True\n",
      "2     True\n",
      "3     True\n",
      "4     True\n",
      "5     True\n",
      "6     True\n",
      "7     True\n",
      "8     True\n",
      "9     True\n",
      "10    True\n",
      "11    True\n",
      "12    True\n",
      "13    True\n",
      "14    True\n",
      "15    True\n",
      "16    True\n",
      "17    True\n",
      "18    True\n",
      "19    True\n",
      "20    True\n",
      "21    True\n",
      "22    True\n",
      "23    True\n",
      "24    True\n",
      "25    True\n",
      "26    True\n",
      "27    True\n",
      "28    True\n",
      "29    True\n",
      "30    True\n",
      "31    True\n",
      "32    True\n",
      "33    True\n",
      "34    True\n",
      "35    True\n",
      "36    True\n",
      "37    True\n",
      "38    True\n",
      "39    True\n",
      "40    True\n",
      "41    True\n",
      "42    True\n",
      "43    True\n",
      "44    True\n",
      "45    True\n",
      "46    True\n",
      "47    True\n",
      "48    True\n",
      "49    True\n",
      "50    True\n",
      "51    True\n",
      "52    True\n",
      "Name: Mathematics, dtype: bool\n"
     ]
    }
   ],
   "source": [
    "# Chequeamos que los valores estén dentro del rango SAT\n",
    "math = data['Mathematics'].astype(int)\n",
    "print(math >= 200) \n",
    "print(math <= 800)"
   ]
  },
  {
   "cell_type": "code",
   "execution_count": 15,
   "metadata": {},
   "outputs": [
    {
     "data": {
      "text/plain": [
       "count     53.000000\n",
       "mean     531.962264\n",
       "std       51.895962\n",
       "min      388.000000\n",
       "25%      497.000000\n",
       "50%      524.000000\n",
       "75%      575.000000\n",
       "max      616.000000\n",
       "Name: Mathematics, dtype: float64"
      ]
     },
     "execution_count": 15,
     "metadata": {},
     "output_type": "execute_result"
    }
   ],
   "source": [
    "# Calculamos descriptivos de 'Mathematics' \n",
    "math.describe()"
   ]
  },
  {
   "cell_type": "code",
   "execution_count": 16,
   "metadata": {
    "collapsed": true
   },
   "outputs": [],
   "source": [
    "# Repetimos los procedimientos anteriores\n",
    "writing = data['Writing'].astype(int)"
   ]
  },
  {
   "cell_type": "code",
   "execution_count": 17,
   "metadata": {},
   "outputs": [
    {
     "name": "stdout",
     "output_type": "stream",
     "text": [
      "0     True\n",
      "1     True\n",
      "2     True\n",
      "3     True\n",
      "4     True\n",
      "5     True\n",
      "6     True\n",
      "7     True\n",
      "8     True\n",
      "9     True\n",
      "10    True\n",
      "11    True\n",
      "12    True\n",
      "13    True\n",
      "14    True\n",
      "15    True\n",
      "16    True\n",
      "17    True\n",
      "18    True\n",
      "19    True\n",
      "20    True\n",
      "21    True\n",
      "22    True\n",
      "23    True\n",
      "24    True\n",
      "25    True\n",
      "26    True\n",
      "27    True\n",
      "28    True\n",
      "29    True\n",
      "30    True\n",
      "31    True\n",
      "32    True\n",
      "33    True\n",
      "34    True\n",
      "35    True\n",
      "36    True\n",
      "37    True\n",
      "38    True\n",
      "39    True\n",
      "40    True\n",
      "41    True\n",
      "42    True\n",
      "43    True\n",
      "44    True\n",
      "45    True\n",
      "46    True\n",
      "47    True\n",
      "48    True\n",
      "49    True\n",
      "50    True\n",
      "51    True\n",
      "52    True\n",
      "Name: Writing, dtype: bool\n",
      "0      True\n",
      "1      True\n",
      "2      True\n",
      "3      True\n",
      "4      True\n",
      "5      True\n",
      "6      True\n",
      "7      True\n",
      "8      True\n",
      "9      True\n",
      "10     True\n",
      "11     True\n",
      "12     True\n",
      "13     True\n",
      "14     True\n",
      "15     True\n",
      "16     True\n",
      "17     True\n",
      "18     True\n",
      "19     True\n",
      "20     True\n",
      "21     True\n",
      "22     True\n",
      "23     True\n",
      "24     True\n",
      "25     True\n",
      "26     True\n",
      "27     True\n",
      "28     True\n",
      "29     True\n",
      "30     True\n",
      "31     True\n",
      "32     True\n",
      "33     True\n",
      "34     True\n",
      "35     True\n",
      "36     True\n",
      "37     True\n",
      "38    False\n",
      "39     True\n",
      "40     True\n",
      "41     True\n",
      "42     True\n",
      "43     True\n",
      "44     True\n",
      "45     True\n",
      "46     True\n",
      "47     True\n",
      "48     True\n",
      "49     True\n",
      "50     True\n",
      "51     True\n",
      "52     True\n",
      "Name: Writing, dtype: bool\n"
     ]
    }
   ],
   "source": [
    "print(writing >= 200) \n",
    "print(writing <= 800)"
   ]
  },
  {
   "cell_type": "code",
   "execution_count": 18,
   "metadata": {},
   "outputs": [
    {
     "data": {
      "text/plain": [
       "842"
      ]
     },
     "execution_count": 18,
     "metadata": {},
     "output_type": "execute_result"
    }
   ],
   "source": [
    "# Descubrimos un valor excedido (38)\n",
    "writing[38] "
   ]
  },
  {
   "cell_type": "code",
   "execution_count": 19,
   "metadata": {
    "collapsed": true
   },
   "outputs": [],
   "source": [
    "# Corregimos el valor (Fuente: https://nces.ed.gov/programs/digest/d15/tables/dt15_226.40.asp?current=yes)\n",
    "writing[38] = 482"
   ]
  },
  {
   "cell_type": "code",
   "execution_count": 20,
   "metadata": {},
   "outputs": [
    {
     "data": {
      "text/plain": [
       "count     53.000000\n",
       "mean     514.150943\n",
       "std       48.174920\n",
       "min      412.000000\n",
       "25%      478.000000\n",
       "50%      504.000000\n",
       "75%      564.000000\n",
       "max      587.000000\n",
       "Name: Writing, dtype: float64"
      ]
     },
     "execution_count": 20,
     "metadata": {},
     "output_type": "execute_result"
    }
   ],
   "source": [
    "# Calculamos descriptivos de 'Writing' \n",
    "writing.describe()"
   ]
  },
  {
   "cell_type": "code",
   "execution_count": 21,
   "metadata": {},
   "outputs": [
    {
     "name": "stdout",
     "output_type": "stream",
     "text": [
      "0     True\n",
      "1     True\n",
      "2     True\n",
      "3     True\n",
      "4     True\n",
      "5     True\n",
      "6     True\n",
      "7     True\n",
      "8     True\n",
      "9     True\n",
      "10    True\n",
      "11    True\n",
      "12    True\n",
      "13    True\n",
      "14    True\n",
      "15    True\n",
      "16    True\n",
      "17    True\n",
      "18    True\n",
      "19    True\n",
      "20    True\n",
      "21    True\n",
      "22    True\n",
      "23    True\n",
      "24    True\n",
      "25    True\n",
      "26    True\n",
      "27    True\n",
      "28    True\n",
      "29    True\n",
      "30    True\n",
      "31    True\n",
      "32    True\n",
      "33    True\n",
      "34    True\n",
      "35    True\n",
      "36    True\n",
      "37    True\n",
      "38    True\n",
      "39    True\n",
      "40    True\n",
      "41    True\n",
      "42    True\n",
      "43    True\n",
      "44    True\n",
      "45    True\n",
      "46    True\n",
      "47    True\n",
      "48    True\n",
      "49    True\n",
      "50    True\n",
      "51    True\n",
      "52    True\n",
      "Name: Total SAT score, dtype: bool\n",
      "0     True\n",
      "1     True\n",
      "2     True\n",
      "3     True\n",
      "4     True\n",
      "5     True\n",
      "6     True\n",
      "7     True\n",
      "8     True\n",
      "9     True\n",
      "10    True\n",
      "11    True\n",
      "12    True\n",
      "13    True\n",
      "14    True\n",
      "15    True\n",
      "16    True\n",
      "17    True\n",
      "18    True\n",
      "19    True\n",
      "20    True\n",
      "21    True\n",
      "22    True\n",
      "23    True\n",
      "24    True\n",
      "25    True\n",
      "26    True\n",
      "27    True\n",
      "28    True\n",
      "29    True\n",
      "30    True\n",
      "31    True\n",
      "32    True\n",
      "33    True\n",
      "34    True\n",
      "35    True\n",
      "36    True\n",
      "37    True\n",
      "38    True\n",
      "39    True\n",
      "40    True\n",
      "41    True\n",
      "42    True\n",
      "43    True\n",
      "44    True\n",
      "45    True\n",
      "46    True\n",
      "47    True\n",
      "48    True\n",
      "49    True\n",
      "50    True\n",
      "51    True\n",
      "52    True\n",
      "Name: Total SAT score, dtype: bool\n"
     ]
    }
   ],
   "source": [
    "total = data['Total SAT score'].astype(int)\n",
    "print(total >= 600) \n",
    "print(total <= 2400)"
   ]
  },
  {
   "cell_type": "code",
   "execution_count": 22,
   "metadata": {
    "scrolled": true
   },
   "outputs": [
    {
     "data": {
      "text/plain": [
       "count      53.000000\n",
       "mean     1576.188679\n",
       "std       148.712430\n",
       "min      1214.000000\n",
       "25%      1472.000000\n",
       "50%      1552.000000\n",
       "75%      1723.000000\n",
       "max      1802.000000\n",
       "Name: Total SAT score, dtype: float64"
      ]
     },
     "execution_count": 22,
     "metadata": {},
     "output_type": "execute_result"
    }
   ],
   "source": [
    "total.describe()"
   ]
  },
  {
   "cell_type": "markdown",
   "metadata": {},
   "source": [
    "### 11. Creá un diccionario para cada columna vinculando cada Estado con su respectivo valor en esa columna"
   ]
  },
  {
   "cell_type": "code",
   "execution_count": 23,
   "metadata": {
    "collapsed": true
   },
   "outputs": [],
   "source": [
    "lista_mat = np.array(data[\"Mathematics\"])"
   ]
  },
  {
   "cell_type": "code",
   "execution_count": 24,
   "metadata": {
    "collapsed": true
   },
   "outputs": [],
   "source": [
    "lista_state = np.array(data[\"State\"])"
   ]
  },
  {
   "cell_type": "code",
   "execution_count": 25,
   "metadata": {
    "collapsed": true
   },
   "outputs": [],
   "source": [
    "lista_writ = np.array(data[\"Writing\"])"
   ]
  },
  {
   "cell_type": "code",
   "execution_count": 26,
   "metadata": {
    "collapsed": true
   },
   "outputs": [],
   "source": [
    "lista_totsco = np.array(data[\"Total SAT score\"])"
   ]
  },
  {
   "cell_type": "code",
   "execution_count": 27,
   "metadata": {
    "collapsed": true
   },
   "outputs": [],
   "source": [
    "dic_state_vs_mat = dict(zip(lista_state,lista_mat))"
   ]
  },
  {
   "cell_type": "code",
   "execution_count": 28,
   "metadata": {
    "collapsed": true
   },
   "outputs": [],
   "source": [
    "dic_state_vs_writ = dict(zip(lista_state,lista_writ))"
   ]
  },
  {
   "cell_type": "code",
   "execution_count": 29,
   "metadata": {
    "collapsed": true
   },
   "outputs": [],
   "source": [
    "dic_state_vs_totsco = dict(zip(lista_state,lista_totsco))"
   ]
  },
  {
   "cell_type": "markdown",
   "metadata": {},
   "source": [
    "### 12. Creá un diccionario para cada una de las columnas numéricas"
   ]
  },
  {
   "cell_type": "code",
   "execution_count": null,
   "metadata": {
    "collapsed": true
   },
   "outputs": [],
   "source": []
  },
  {
   "cell_type": "markdown",
   "metadata": {},
   "source": [
    "## Paso 3. Describir los datos"
   ]
  },
  {
   "cell_type": "markdown",
   "metadata": {},
   "source": [
    "### 13. Imprimí el máximo y el mínimo de cada columna"
   ]
  },
  {
   "cell_type": "code",
   "execution_count": 30,
   "metadata": {},
   "outputs": [
    {
     "name": "stdout",
     "output_type": "stream",
     "text": [
      "Máximo en Matemática: 616\n",
      "Mínimo en Matemática: 388\n"
     ]
    }
   ],
   "source": [
    "# Cómo hago para que me también indique el Estado???\n",
    "print('Máximo en Matemática:', math.max())\n",
    "print('Mínimo en Matemática:', math.min())"
   ]
  },
  {
   "cell_type": "code",
   "execution_count": 31,
   "metadata": {},
   "outputs": [
    {
     "name": "stdout",
     "output_type": "stream",
     "text": [
      "Máximo en Writing: 587\n",
      "Mínimo en Writing: 412\n"
     ]
    }
   ],
   "source": [
    "print('Máximo en Writing:', writing.max())\n",
    "print('Mínimo en Writing:', writing.min())"
   ]
  },
  {
   "cell_type": "code",
   "execution_count": 32,
   "metadata": {},
   "outputs": [
    {
     "name": "stdout",
     "output_type": "stream",
     "text": [
      "Máximo en examen SAT: 1802\n",
      "Mínimo en examen SAT: 1214\n"
     ]
    }
   ],
   "source": [
    "print('Máximo en examen SAT:', total.max())\n",
    "print('Mínimo en examen SAT:', total.min())"
   ]
  },
  {
   "cell_type": "markdown",
   "metadata": {},
   "source": [
    "### 14. Escribí una función que use solo lists comprehensions (no for loops) para calcular el Desvío Estándar. Imprimí el Desvío Estándar de cada columna numérica."
   ]
  },
  {
   "cell_type": "code",
   "execution_count": null,
   "metadata": {
    "collapsed": true
   },
   "outputs": [],
   "source": []
  },
  {
   "cell_type": "markdown",
   "metadata": {},
   "source": [
    "## Paso 4. Visualizar los datos"
   ]
  },
  {
   "cell_type": "markdown",
   "metadata": {},
   "source": [
    "### 15. Usando MatPlotLib y PyPlot, graficá la distribución del Rate. ¿Qué tipo de gráfico le correspondería? ¿Por qué?"
   ]
  },
  {
   "cell_type": "code",
   "execution_count": 47,
   "metadata": {},
   "outputs": [
    {
     "data": {
      "image/png": "[encoded data removed]",
      "text/plain": [
       "<matplotlib.figure.Figure at 0x7f654c288a20>"
      ]
     },
     "metadata": {},
     "output_type": "display_data"
    },
    {
     "name": "stdout",
     "output_type": "stream",
     "text": [
      "53\n"
     ]
    }
   ],
   "source": [
    "plt.hist(total[total < 1550])\n",
    "plt.show()\n",
    "\n",
    "\n",
    "print(len(total))"
   ]
  },
  {
   "cell_type": "markdown",
   "metadata": {},
   "source": [
    "### 16. Graficá la distribución de la variable *Math*"
   ]
  },
  {
   "cell_type": "code",
   "execution_count": 34,
   "metadata": {},
   "outputs": [
    {
     "data": {
      "image/png": "[encoded data removed]",
      "text/plain": [
       "<matplotlib.figure.Figure at 0x7f654d39a128>"
      ]
     },
     "metadata": {},
     "output_type": "display_data"
    }
   ],
   "source": [
    "plt.hist(math)\n",
    "plt.show()"
   ]
  },
  {
   "cell_type": "markdown",
   "metadata": {},
   "source": [
    "### 17. Graficá la distribución de la variable *Writing*"
   ]
  },
  {
   "cell_type": "code",
   "execution_count": 35,
   "metadata": {},
   "outputs": [
    {
     "data": {
      "image/png": "[encoded data removed]",
      "text/plain": [
       "<matplotlib.figure.Figure at 0x7f654d39ac88>"
      ]
     },
     "metadata": {},
     "output_type": "display_data"
    }
   ],
   "source": [
    "plt.hist(writing)\n",
    "plt.show()"
   ]
  },
  {
   "cell_type": "markdown",
   "metadata": {},
   "source": [
    "### 18. ¿Cuál sería un supuesto acerca de la distribución que genera los datos?"
   ]
  },
  {
   "cell_type": "code",
   "execution_count": 36,
   "metadata": {},
   "outputs": [],
   "source": [
    "data = pd.concat([estados, math, writing, total], axis=1)\n",
    "data.columns = [\"State\", \"Mathematics\", \"Writing\", \"Total SAT score\"]"
   ]
  },
  {
   "cell_type": "markdown",
   "metadata": {},
   "source": [
    "### 19. ¿Qué podrías decir de ese supuesto en relación a los datos analizados?"
   ]
  },
  {
   "cell_type": "code",
   "execution_count": null,
   "metadata": {
    "collapsed": true
   },
   "outputs": [],
   "source": []
  },
  {
   "cell_type": "markdown",
   "metadata": {},
   "source": [
    "## BONUS: Complementá el análisis"
   ]
  },
  {
   "cell_type": "markdown",
   "metadata": {},
   "source": [
    "### 20. Elegí fuentes de datos adicionales (pobreza, ingresos, población, migrantes, etc.). Analiza y grafica los datos de forma conjunta para observar posibles relaciones. \n",
    "#### Pista: chequear consignas para ir a los links con datos"
   ]
  },
  {
   "cell_type": "code",
   "execution_count": 37,
   "metadata": {},
   "outputs": [
    {
     "data": {
      "text/html": [
       "<div>\n",
       "<style>\n",
       "    .dataframe thead tr:only-child th {\n",
       "        text-align: right;\n",
       "    }\n",
       "\n",
       "    .dataframe thead th {\n",
       "        text-align: left;\n",
       "    }\n",
       "\n",
       "    .dataframe tbody tr th {\n",
       "        vertical-align: top;\n",
       "    }\n",
       "</style>\n",
       "<table border=\"1\" class=\"dataframe\">\n",
       "  <thead>\n",
       "    <tr style=\"text-align: right;\">\n",
       "      <th></th>\n",
       "      <th>State</th>\n",
       "      <th>GDP 2016</th>\n",
       "      <th>% of Nation</th>\n",
       "      <th>Pop. dens.Rank</th>\n",
       "      <th>Density\n",
       "(Pop.\n",
       "/ km²)</th>\n",
       "      <th>Pop.Rank</th>\n",
       "      <th>2015\n",
       "population</th>\n",
       "      <th>Immigrant \n",
       "Population</th>\n",
       "      <th>% Inmigrant \n",
       "Pop.</th>\n",
       "      <th>Land Rank</th>\n",
       "      <th>Land\n",
       "area\n",
       "(km²)</th>\n",
       "      <th>GINI rank</th>\n",
       "      <th>GINI\n",
       "value</th>\n",
       "      <th>Budget per pupil 2014</th>\n",
       "    </tr>\n",
       "  </thead>\n",
       "  <tbody>\n",
       "    <tr>\n",
       "      <th>0</th>\n",
       "      <td>Alabama</td>\n",
       "      <td>204861</td>\n",
       "      <td>1.11</td>\n",
       "      <td>27.0</td>\n",
       "      <td>37.0</td>\n",
       "      <td>24.0</td>\n",
       "      <td>4858979.0</td>\n",
       "      <td>167000.0</td>\n",
       "      <td>0.034369</td>\n",
       "      <td>28.0</td>\n",
       "      <td>131169.9</td>\n",
       "      <td>36.0</td>\n",
       "      <td>0.476</td>\n",
       "      <td>9028</td>\n",
       "    </tr>\n",
       "    <tr>\n",
       "      <th>1</th>\n",
       "      <td>Alaska</td>\n",
       "      <td>50713</td>\n",
       "      <td>0.27</td>\n",
       "      <td>50.0</td>\n",
       "      <td>0.0</td>\n",
       "      <td>48.0</td>\n",
       "      <td>738432.0</td>\n",
       "      <td>54000.0</td>\n",
       "      <td>0.073128</td>\n",
       "      <td>1.0</td>\n",
       "      <td>1477953.4</td>\n",
       "      <td>1.0</td>\n",
       "      <td>0.418</td>\n",
       "      <td>18416</td>\n",
       "    </tr>\n",
       "    <tr>\n",
       "      <th>2</th>\n",
       "      <td>Arizona</td>\n",
       "      <td>302952</td>\n",
       "      <td>1.64</td>\n",
       "      <td>33.0</td>\n",
       "      <td>23.0</td>\n",
       "      <td>14.0</td>\n",
       "      <td>6828065.0</td>\n",
       "      <td>896000.0</td>\n",
       "      <td>0.131223</td>\n",
       "      <td>6.0</td>\n",
       "      <td>294207.1</td>\n",
       "      <td>30.0</td>\n",
       "      <td>0.468</td>\n",
       "      <td>7528</td>\n",
       "    </tr>\n",
       "    <tr>\n",
       "      <th>3</th>\n",
       "      <td>Arkansas</td>\n",
       "      <td>120689</td>\n",
       "      <td>0.65</td>\n",
       "      <td>34.0</td>\n",
       "      <td>22.0</td>\n",
       "      <td>33.0</td>\n",
       "      <td>2978204.0</td>\n",
       "      <td>139000.0</td>\n",
       "      <td>0.046672</td>\n",
       "      <td>27.0</td>\n",
       "      <td>134770.0</td>\n",
       "      <td>34.0</td>\n",
       "      <td>0.471</td>\n",
       "      <td>9616</td>\n",
       "    </tr>\n",
       "    <tr>\n",
       "      <th>4</th>\n",
       "      <td>California</td>\n",
       "      <td>2602672</td>\n",
       "      <td>14.10</td>\n",
       "      <td>11.0</td>\n",
       "      <td>97.0</td>\n",
       "      <td>1.0</td>\n",
       "      <td>39144818.0</td>\n",
       "      <td>10390000.0</td>\n",
       "      <td>0.265425</td>\n",
       "      <td>3.0</td>\n",
       "      <td>423970.7</td>\n",
       "      <td>47.0</td>\n",
       "      <td>0.489</td>\n",
       "      <td>9595</td>\n",
       "    </tr>\n",
       "  </tbody>\n",
       "</table>\n",
       "</div>"
      ],
      "text/plain": [
       "        State  GDP 2016  % of Nation  Pop. dens.Rank  Density\\n(Pop.\\n/ km²)  \\\n",
       "0     Alabama    204861         1.11            27.0                    37.0   \n",
       "1      Alaska     50713         0.27            50.0                     0.0   \n",
       "2     Arizona    302952         1.64            33.0                    23.0   \n",
       "3    Arkansas    120689         0.65            34.0                    22.0   \n",
       "4  California   2602672        14.10            11.0                    97.0   \n",
       "\n",
       "   Pop.Rank  2015\\npopulation  Immigrant \\nPopulation  % Inmigrant \\nPop.  \\\n",
       "0      24.0         4858979.0                167000.0            0.034369   \n",
       "1      48.0          738432.0                 54000.0            0.073128   \n",
       "2      14.0         6828065.0                896000.0            0.131223   \n",
       "3      33.0         2978204.0                139000.0            0.046672   \n",
       "4       1.0        39144818.0              10390000.0            0.265425   \n",
       "\n",
       "   Land Rank  Land\\narea\\n(km²)  GINI rank  GINI\\nvalue  Budget per pupil 2014  \n",
       "0       28.0           131169.9       36.0        0.476                   9028  \n",
       "1        1.0          1477953.4        1.0        0.418                  18416  \n",
       "2        6.0           294207.1       30.0        0.468                   7528  \n",
       "3       27.0           134770.0       34.0        0.471                   9616  \n",
       "4        3.0           423970.7       47.0        0.489                   9595  "
      ]
     },
     "execution_count": 37,
     "metadata": {},
     "output_type": "execute_result"
    }
   ],
   "source": [
    "data2 = pd.read_excel('complementary_data.xlsx')\n",
    "data2.head()"
   ]
  },
  {
   "cell_type": "markdown",
   "metadata": {},
   "source": [
    "### 21. A partir de las variables seleccionados, ¿observas una mayor incidencia de alguna de las variables y la performance del estado en alguno de los scores? ¿Consideras importante inferir alguna conclusión para orientar a los directivos de la universidad y/o profundizar el análisis?  "
   ]
  },
  {
   "cell_type": "code",
   "execution_count": 38,
   "metadata": {},
   "outputs": [
    {
     "data": {
      "text/html": [
       "<div>\n",
       "<style>\n",
       "    .dataframe thead tr:only-child th {\n",
       "        text-align: right;\n",
       "    }\n",
       "\n",
       "    .dataframe thead th {\n",
       "        text-align: left;\n",
       "    }\n",
       "\n",
       "    .dataframe tbody tr th {\n",
       "        vertical-align: top;\n",
       "    }\n",
       "</style>\n",
       "<table border=\"1\" class=\"dataframe\">\n",
       "  <thead>\n",
       "    <tr style=\"text-align: right;\">\n",
       "      <th></th>\n",
       "      <th>GDP 2016</th>\n",
       "      <th>% of Nation</th>\n",
       "      <th>Pop. dens.Rank</th>\n",
       "      <th>Density\n",
       "(Pop.\n",
       "/ km²)</th>\n",
       "      <th>Pop.Rank</th>\n",
       "      <th>2015\n",
       "population</th>\n",
       "      <th>Immigrant \n",
       "Population</th>\n",
       "      <th>% Inmigrant \n",
       "Pop.</th>\n",
       "      <th>Land Rank</th>\n",
       "      <th>Land\n",
       "area\n",
       "(km²)</th>\n",
       "      <th>GINI rank</th>\n",
       "      <th>GINI\n",
       "value</th>\n",
       "      <th>Budget per pupil 2014</th>\n",
       "      <th>Mathematics</th>\n",
       "      <th>Writing</th>\n",
       "      <th>Total SAT score</th>\n",
       "    </tr>\n",
       "  </thead>\n",
       "  <tbody>\n",
       "    <tr>\n",
       "      <th>GDP 2016</th>\n",
       "      <td>1.000000</td>\n",
       "      <td>0.999999</td>\n",
       "      <td>-0.448526</td>\n",
       "      <td>0.206709</td>\n",
       "      <td>-0.737818</td>\n",
       "      <td>0.985123</td>\n",
       "      <td>0.955922</td>\n",
       "      <td>0.670473</td>\n",
       "      <td>-0.178186</td>\n",
       "      <td>0.146865</td>\n",
       "      <td>0.509478</td>\n",
       "      <td>0.515855</td>\n",
       "      <td>0.016687</td>\n",
       "      <td>0.033878</td>\n",
       "      <td>0.025156</td>\n",
       "      <td>0.014845</td>\n",
       "    </tr>\n",
       "    <tr>\n",
       "      <th>% of Nation</th>\n",
       "      <td>0.999999</td>\n",
       "      <td>1.000000</td>\n",
       "      <td>-0.448603</td>\n",
       "      <td>0.206730</td>\n",
       "      <td>-0.738008</td>\n",
       "      <td>0.985138</td>\n",
       "      <td>0.955848</td>\n",
       "      <td>0.670422</td>\n",
       "      <td>-0.178195</td>\n",
       "      <td>0.146664</td>\n",
       "      <td>0.509478</td>\n",
       "      <td>0.515871</td>\n",
       "      <td>0.016723</td>\n",
       "      <td>0.033724</td>\n",
       "      <td>0.025009</td>\n",
       "      <td>0.014694</td>\n",
       "    </tr>\n",
       "    <tr>\n",
       "      <th>Pop. dens.Rank</th>\n",
       "      <td>-0.448526</td>\n",
       "      <td>-0.448603</td>\n",
       "      <td>1.000000</td>\n",
       "      <td>-0.779631</td>\n",
       "      <td>0.600576</td>\n",
       "      <td>-0.450855</td>\n",
       "      <td>-0.358227</td>\n",
       "      <td>-0.505379</td>\n",
       "      <td>-0.701417</td>\n",
       "      <td>0.464141</td>\n",
       "      <td>-0.505142</td>\n",
       "      <td>-0.522617</td>\n",
       "      <td>-0.344186</td>\n",
       "      <td>0.197489</td>\n",
       "      <td>0.200175</td>\n",
       "      <td>0.221809</td>\n",
       "    </tr>\n",
       "    <tr>\n",
       "      <th>Density\\n(Pop.\\n/ km²)</th>\n",
       "      <td>0.206709</td>\n",
       "      <td>0.206730</td>\n",
       "      <td>-0.779631</td>\n",
       "      <td>1.000000</td>\n",
       "      <td>-0.261621</td>\n",
       "      <td>0.171312</td>\n",
       "      <td>0.199212</td>\n",
       "      <td>0.537833</td>\n",
       "      <td>0.610594</td>\n",
       "      <td>-0.345173</td>\n",
       "      <td>0.418230</td>\n",
       "      <td>0.423000</td>\n",
       "      <td>0.535241</td>\n",
       "      <td>-0.268898</td>\n",
       "      <td>-0.264146</td>\n",
       "      <td>-0.288668</td>\n",
       "    </tr>\n",
       "    <tr>\n",
       "      <th>Pop.Rank</th>\n",
       "      <td>-0.737818</td>\n",
       "      <td>-0.738008</td>\n",
       "      <td>0.600576</td>\n",
       "      <td>-0.261621</td>\n",
       "      <td>1.000000</td>\n",
       "      <td>-0.784977</td>\n",
       "      <td>-0.574705</td>\n",
       "      <td>-0.481824</td>\n",
       "      <td>0.005138</td>\n",
       "      <td>0.095789</td>\n",
       "      <td>-0.558907</td>\n",
       "      <td>-0.563204</td>\n",
       "      <td>0.144045</td>\n",
       "      <td>-0.145748</td>\n",
       "      <td>-0.117814</td>\n",
       "      <td>-0.117506</td>\n",
       "    </tr>\n",
       "  </tbody>\n",
       "</table>\n",
       "</div>"
      ],
      "text/plain": [
       "                        GDP 2016  % of Nation  Pop. dens.Rank  \\\n",
       "GDP 2016                1.000000     0.999999       -0.448526   \n",
       "% of Nation             0.999999     1.000000       -0.448603   \n",
       "Pop. dens.Rank         -0.448526    -0.448603        1.000000   \n",
       "Density\\n(Pop.\\n/ km²)  0.206709     0.206730       -0.779631   \n",
       "Pop.Rank               -0.737818    -0.738008        0.600576   \n",
       "\n",
       "                        Density\\n(Pop.\\n/ km²)  Pop.Rank  2015\\npopulation  \\\n",
       "GDP 2016                              0.206709 -0.737818          0.985123   \n",
       "% of Nation                           0.206730 -0.738008          0.985138   \n",
       "Pop. dens.Rank                       -0.779631  0.600576         -0.450855   \n",
       "Density\\n(Pop.\\n/ km²)                1.000000 -0.261621          0.171312   \n",
       "Pop.Rank                             -0.261621  1.000000         -0.784977   \n",
       "\n",
       "                        Immigrant \\nPopulation  % Inmigrant \\nPop.  Land Rank  \\\n",
       "GDP 2016                              0.955922            0.670473  -0.178186   \n",
       "% of Nation                           0.955848            0.670422  -0.178195   \n",
       "Pop. dens.Rank                       -0.358227           -0.505379  -0.701417   \n",
       "Density\\n(Pop.\\n/ km²)                0.199212            0.537833   0.610594   \n",
       "Pop.Rank                             -0.574705           -0.481824   0.005138   \n",
       "\n",
       "                        Land\\narea\\n(km²)  GINI rank  GINI\\nvalue  \\\n",
       "GDP 2016                         0.146865   0.509478     0.515855   \n",
       "% of Nation                      0.146664   0.509478     0.515871   \n",
       "Pop. dens.Rank                   0.464141  -0.505142    -0.522617   \n",
       "Density\\n(Pop.\\n/ km²)          -0.345173   0.418230     0.423000   \n",
       "Pop.Rank                         0.095789  -0.558907    -0.563204   \n",
       "\n",
       "                        Budget per pupil 2014  Mathematics   Writing  \\\n",
       "GDP 2016                             0.016687     0.033878  0.025156   \n",
       "% of Nation                          0.016723     0.033724  0.025009   \n",
       "Pop. dens.Rank                      -0.344186     0.197489  0.200175   \n",
       "Density\\n(Pop.\\n/ km²)               0.535241    -0.268898 -0.264146   \n",
       "Pop.Rank                             0.144045    -0.145748 -0.117814   \n",
       "\n",
       "                        Total SAT score  \n",
       "GDP 2016                       0.014845  \n",
       "% of Nation                    0.014694  \n",
       "Pop. dens.Rank                 0.221809  \n",
       "Density\\n(Pop.\\n/ km²)        -0.288668  \n",
       "Pop.Rank                      -0.117506  "
      ]
     },
     "execution_count": 38,
     "metadata": {},
     "output_type": "execute_result"
    }
   ],
   "source": [
    "df = pd.concat([data2, math, writing, total], join='outer', axis=1)\n",
    "df.corr(method='pearson', min_periods=1).head()"
   ]
  },
  {
   "cell_type": "markdown",
   "metadata": {},
   "source": [
    "### 22. Graficá algunos scatterplots. Usá algún gráfico de Seaborn para presentar scatterplots múltiples"
   ]
  },
  {
   "cell_type": "code",
   "execution_count": 39,
   "metadata": {},
   "outputs": [
    {
     "data": {
      "image/png": "[encoded data removed]",
      "text/plain": [
       "<matplotlib.figure.Figure at 0x7f654d326630>"
      ]
     },
     "metadata": {},
     "output_type": "display_data"
    }
   ],
   "source": [
    "sns.jointplot(writing, data2[\"% Inmigrant \\nPop.\"])\n",
    "plt.show()"
   ]
  },
  {
   "cell_type": "code",
   "execution_count": 40,
   "metadata": {},
   "outputs": [
    {
     "data": {
      "text/html": [
       "<div>\n",
       "<style>\n",
       "    .dataframe thead tr:only-child th {\n",
       "        text-align: right;\n",
       "    }\n",
       "\n",
       "    .dataframe thead th {\n",
       "        text-align: left;\n",
       "    }\n",
       "\n",
       "    .dataframe tbody tr th {\n",
       "        vertical-align: top;\n",
       "    }\n",
       "</style>\n",
       "<table border=\"1\" class=\"dataframe\">\n",
       "  <thead>\n",
       "    <tr style=\"text-align: right;\">\n",
       "      <th></th>\n",
       "      <th>GDP 2016</th>\n",
       "      <th>% of Nation</th>\n",
       "      <th>Pop. dens.Rank</th>\n",
       "      <th>Density\n",
       "(Pop.\n",
       "/ km²)</th>\n",
       "      <th>Pop.Rank</th>\n",
       "      <th>2015\n",
       "population</th>\n",
       "      <th>Immigrant \n",
       "Population</th>\n",
       "      <th>% Inmigrant \n",
       "Pop.</th>\n",
       "      <th>Land Rank</th>\n",
       "      <th>Land\n",
       "area\n",
       "(km²)</th>\n",
       "      <th>GINI rank</th>\n",
       "      <th>GINI\n",
       "value</th>\n",
       "      <th>Budget per pupil 2014</th>\n",
       "      <th>Mathematics</th>\n",
       "      <th>Writing</th>\n",
       "      <th>Total SAT score</th>\n",
       "    </tr>\n",
       "  </thead>\n",
       "  <tbody>\n",
       "    <tr>\n",
       "      <th>GDP 2016</th>\n",
       "      <td>1.000000</td>\n",
       "      <td>0.999999</td>\n",
       "      <td>-0.448396</td>\n",
       "      <td>0.204463</td>\n",
       "      <td>-0.739586</td>\n",
       "      <td>0.985284</td>\n",
       "      <td>0.955813</td>\n",
       "      <td>0.670464</td>\n",
       "      <td>-0.177218</td>\n",
       "      <td>0.145429</td>\n",
       "      <td>0.518633</td>\n",
       "      <td>0.524143</td>\n",
       "      <td>0.035447</td>\n",
       "      <td>-0.201019</td>\n",
       "      <td>-0.226844</td>\n",
       "      <td>-0.235806</td>\n",
       "    </tr>\n",
       "    <tr>\n",
       "      <th>% of Nation</th>\n",
       "      <td>0.999999</td>\n",
       "      <td>1.000000</td>\n",
       "      <td>-0.448473</td>\n",
       "      <td>0.204484</td>\n",
       "      <td>-0.739776</td>\n",
       "      <td>0.985299</td>\n",
       "      <td>0.955738</td>\n",
       "      <td>0.670413</td>\n",
       "      <td>-0.177228</td>\n",
       "      <td>0.145228</td>\n",
       "      <td>0.518632</td>\n",
       "      <td>0.524159</td>\n",
       "      <td>0.035433</td>\n",
       "      <td>-0.200974</td>\n",
       "      <td>-0.226825</td>\n",
       "      <td>-0.235769</td>\n",
       "    </tr>\n",
       "    <tr>\n",
       "      <th>Pop. dens.Rank</th>\n",
       "      <td>-0.448396</td>\n",
       "      <td>-0.448473</td>\n",
       "      <td>1.000000</td>\n",
       "      <td>-0.780114</td>\n",
       "      <td>0.600929</td>\n",
       "      <td>-0.450660</td>\n",
       "      <td>-0.357997</td>\n",
       "      <td>-0.507821</td>\n",
       "      <td>-0.702076</td>\n",
       "      <td>0.464960</td>\n",
       "      <td>-0.509802</td>\n",
       "      <td>-0.526776</td>\n",
       "      <td>-0.344565</td>\n",
       "      <td>0.366882</td>\n",
       "      <td>0.345592</td>\n",
       "      <td>0.384386</td>\n",
       "    </tr>\n",
       "    <tr>\n",
       "      <th>Density\\n(Pop.\\n/ km²)</th>\n",
       "      <td>0.204463</td>\n",
       "      <td>0.204484</td>\n",
       "      <td>-0.780114</td>\n",
       "      <td>1.000000</td>\n",
       "      <td>-0.262899</td>\n",
       "      <td>0.169918</td>\n",
       "      <td>0.196680</td>\n",
       "      <td>0.535921</td>\n",
       "      <td>0.613139</td>\n",
       "      <td>-0.347820</td>\n",
       "      <td>0.427493</td>\n",
       "      <td>0.431419</td>\n",
       "      <td>0.533129</td>\n",
       "      <td>-0.333019</td>\n",
       "      <td>-0.308866</td>\n",
       "      <td>-0.347106</td>\n",
       "    </tr>\n",
       "    <tr>\n",
       "      <th>Pop.Rank</th>\n",
       "      <td>-0.739586</td>\n",
       "      <td>-0.739776</td>\n",
       "      <td>0.600929</td>\n",
       "      <td>-0.262899</td>\n",
       "      <td>1.000000</td>\n",
       "      <td>-0.785904</td>\n",
       "      <td>-0.576512</td>\n",
       "      <td>-0.487960</td>\n",
       "      <td>0.005508</td>\n",
       "      <td>0.095352</td>\n",
       "      <td>-0.560656</td>\n",
       "      <td>-0.564596</td>\n",
       "      <td>0.143293</td>\n",
       "      <td>0.079051</td>\n",
       "      <td>0.102159</td>\n",
       "      <td>0.109493</td>\n",
       "    </tr>\n",
       "  </tbody>\n",
       "</table>\n",
       "</div>"
      ],
      "text/plain": [
       "                        GDP 2016  % of Nation  Pop. dens.Rank  \\\n",
       "GDP 2016                1.000000     0.999999       -0.448396   \n",
       "% of Nation             0.999999     1.000000       -0.448473   \n",
       "Pop. dens.Rank         -0.448396    -0.448473        1.000000   \n",
       "Density\\n(Pop.\\n/ km²)  0.204463     0.204484       -0.780114   \n",
       "Pop.Rank               -0.739586    -0.739776        0.600929   \n",
       "\n",
       "                        Density\\n(Pop.\\n/ km²)  Pop.Rank  2015\\npopulation  \\\n",
       "GDP 2016                              0.204463 -0.739586          0.985284   \n",
       "% of Nation                           0.204484 -0.739776          0.985299   \n",
       "Pop. dens.Rank                       -0.780114  0.600929         -0.450660   \n",
       "Density\\n(Pop.\\n/ km²)                1.000000 -0.262899          0.169918   \n",
       "Pop.Rank                             -0.262899  1.000000         -0.785904   \n",
       "\n",
       "                        Immigrant \\nPopulation  % Inmigrant \\nPop.  Land Rank  \\\n",
       "GDP 2016                              0.955813            0.670464  -0.177218   \n",
       "% of Nation                           0.955738            0.670413  -0.177228   \n",
       "Pop. dens.Rank                       -0.357997           -0.507821  -0.702076   \n",
       "Density\\n(Pop.\\n/ km²)                0.196680            0.535921   0.613139   \n",
       "Pop.Rank                             -0.576512           -0.487960   0.005508   \n",
       "\n",
       "                        Land\\narea\\n(km²)  GINI rank  GINI\\nvalue  \\\n",
       "GDP 2016                         0.145429   0.518633     0.524143   \n",
       "% of Nation                      0.145228   0.518632     0.524159   \n",
       "Pop. dens.Rank                   0.464960  -0.509802    -0.526776   \n",
       "Density\\n(Pop.\\n/ km²)          -0.347820   0.427493     0.431419   \n",
       "Pop.Rank                         0.095352  -0.560656    -0.564596   \n",
       "\n",
       "                        Budget per pupil 2014  Mathematics   Writing  \\\n",
       "GDP 2016                             0.035447    -0.201019 -0.226844   \n",
       "% of Nation                          0.035433    -0.200974 -0.226825   \n",
       "Pop. dens.Rank                      -0.344565     0.366882  0.345592   \n",
       "Density\\n(Pop.\\n/ km²)               0.533129    -0.333019 -0.308866   \n",
       "Pop.Rank                             0.143293     0.079051  0.102159   \n",
       "\n",
       "                        Total SAT score  \n",
       "GDP 2016                      -0.235806  \n",
       "% of Nation                   -0.235769  \n",
       "Pop. dens.Rank                 0.384386  \n",
       "Density\\n(Pop.\\n/ km²)        -0.347106  \n",
       "Pop.Rank                       0.109493  "
      ]
     },
     "execution_count": 40,
     "metadata": {},
     "output_type": "execute_result"
    }
   ],
   "source": [
    "#Agrego lo de LEAN\n",
    "data = data2.join(data.set_index(\"State\"), on=\"State\")\n",
    "data = data.dropna()\n",
    "data.columns\n",
    "data.corr(method='pearson', min_periods=1).head()"
   ]
  },
  {
   "cell_type": "code",
   "execution_count": 41,
   "metadata": {},
   "outputs": [
    {
     "data": {
      "image/png": "[encoded data removed]",
      "text/plain": [
       "<matplotlib.figure.Figure at 0x7f654d2aef60>"
      ]
     },
     "metadata": {},
     "output_type": "display_data"
    },
    {
     "data": {
      "image/png": "[encoded data removed]",
      "text/plain": [
       "<matplotlib.figure.Figure at 0x7f654d3edbe0>"
      ]
     },
     "metadata": {},
     "output_type": "display_data"
    },
    {
     "data": {
      "image/png": "[encoded data removed]",
      "text/plain": [
       "<matplotlib.figure.Figure at 0x7f654ce389b0>"
      ]
     },
     "metadata": {},
     "output_type": "display_data"
    },
    {
     "name": "stdout",
     "output_type": "stream",
     "text": [
      "[[ 1.         -0.34710605]\n",
      " [-0.34710605  1.        ]]\n",
      "[[ 1.         -0.44840812]\n",
      " [-0.44840812  1.        ]]\n",
      "[[ 1.         -0.17516155]\n",
      " [-0.17516155  1.        ]]\n"
     ]
    }
   ],
   "source": [
    "perc_immigrant_pop = data[\"% Inmigrant \\nPop.\"]\n",
    "budget_per_pupil = data[\"Budget per pupil 2014\"]\n",
    "density = data[\"Density\\n(Pop.\\n/ km²)\"]\n",
    "\n",
    "plt.figure(figsize=(20,5))\n",
    "\n",
    "ax1 = plt.subplot(131)\n",
    "ax1.scatter(data[\"Total SAT score\"], budget_per_pupil , marker='^')\n",
    "plt.xlabel(\"Total SAT Score\")\n",
    "plt.ylabel(\"Budget per Pupil\")\n",
    "\n",
    "ax2 = plt.subplot(132)\n",
    "ax2.scatter(data[\"Total SAT score\"], perc_immigrant_pop, marker='+')\n",
    "plt.xlabel(\"Total SAT Score\")\n",
    "plt.ylabel(\"% of Immigrant Population\")\n",
    "\n",
    "ax2 = plt.subplot(133)\n",
    "ax2.scatter( data[\"Total SAT score\"], data[\"GINI\\nvalue\"], marker='+')\n",
    "plt.xlabel(\"Total SAT Score\")\n",
    "plt.ylabel(\"Population Density pondered by GINI\")\n",
    "\n",
    "plt.show()\n",
    "\n",
    "\n",
    "sns.jointplot(perc_immigrant_pop, data[\"Writing\"], kind='reg',size=10)\n",
    "plt.show()\n",
    "\n",
    "sns.jointplot(data[\"GINI\\nvalue\"], data[\"Writing\"], kind='kde')\n",
    "plt.show()\n",
    "\n",
    "print(np.corrcoef(data[\"Total SAT score\"], density))\n",
    "print(np.corrcoef(data[\"Total SAT score\"], perc_immigrant_pop))\n",
    "print(np.corrcoef(data[\"Total SAT score\"], budget_per_pupil))"
   ]
  },
  {
   "cell_type": "markdown",
   "metadata": {},
   "source": [
    "### 23. ¿Hay alguna relación interesante para mencionar? ¿Cuál? ¿Qué tipo de relación es?"
   ]
  },
  {
   "cell_type": "markdown",
   "metadata": {
    "collapsed": true
   },
   "source": [
    "Se puede ver un agrupamiento de datos, marcado por la mayor presencia de inmigrantes en las poblaciones con bajo puntaje en ciudades densas de alto riesgo."
   ]
  },
  {
   "cell_type": "markdown",
   "metadata": {},
   "source": [
    "### 24. Creá boxplots para cada variable (según corresponda)"
   ]
  },
  {
   "cell_type": "code",
   "execution_count": null,
   "metadata": {
    "collapsed": true
   },
   "outputs": [],
   "source": []
  }
 ],
 "metadata": {
  "anaconda-cloud": {},
  "celltoolbar": "Raw Cell Format",
  "kernelspec": {
   "display_name": "Python 3",
   "language": "python",
   "name": "python3"
  },
  "language_info": {
   "codemirror_mode": {
    "name": "ipython",
    "version": 3
   },
   "file_extension": ".py",
   "mimetype": "text/x-python",
   "name": "python",
   "nbconvert_exporter": "python",
   "pygments_lexer": "ipython3",
   "version": "3.6.1"
  }
 },
 "nbformat": 4,
 "nbformat_minor": 1
}
