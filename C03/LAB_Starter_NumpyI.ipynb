{
 "cells": [
  {
   "cell_type": "markdown",
   "metadata": {},
   "source": [
    "## Lab: Datasets & NumPy - csv's, funciones, numpy y distribuciones\n",
    "\n",
    "Ejecuta la celda de abajo para cargar los paquetes requeridos"
   ]
  },
  {
   "cell_type": "code",
   "execution_count": 1,
   "metadata": {
    "collapsed": true
   },
   "outputs": [],
   "source": [
    "import numpy as np\n",
    "import scipy.stats as stats\n",
    "import csv\n",
    "import seaborn as sns\n",
    "import pandas as pd\n",
    "%matplotlib inline"
   ]
  },
  {
   "cell_type": "markdown",
   "metadata": {},
   "source": [
    "### Datos de ventas\n",
    "\n",
    "Para este Lab vamos a usar una versión resumidade un dataset que contiente información sobre ventas de establecimientos económicos que analizaremos en detalle más adelante.\n",
    "\n",
    "El csv tiene alrededor de 200 filas de datos y 4 columnas. El path especificado del csv ```sales_info.csv``` asume que se encuentra en el mismo directorio que la presente notebook. En caso que lo hayas descargado en otro directorio deberás hacer referencia de manera relativa o absoluta (googlear linux path examples relativa / absolute)."
   ]
  },
  {
   "cell_type": "markdown",
   "metadata": {},
   "source": [
    "#### 1. Carga de datos\n",
    "\n",
    "Utilizar el método ```read_csv``` de la librería Pandas para crear un dataframe a partir del archivo."
   ]
  },
  {
   "cell_type": "code",
   "execution_count": 3,
   "metadata": {},
   "outputs": [],
   "source": [
    "sales_info = pd.read_csv('sales_info.csv')"
   ]
  },
  {
   "cell_type": "markdown",
   "metadata": {},
   "source": [
    "#### 2. Transformar la serie en un array de numpy\n",
    "\n",
    "Utilizar el método ```np.array()``` transformar la serie \"volume_sold\" del dataframe generado en un array de numpy"
   ]
  },
  {
   "cell_type": "code",
   "execution_count": 4,
   "metadata": {
    "collapsed": true
   },
   "outputs": [],
   "source": [
    "volume_sold = sales_info['volume_sold']"
   ]
  },
  {
   "cell_type": "markdown",
   "metadata": {},
   "source": [
    "##### 3. Imprimir los 10 primeros items de la columna 'volume_sold' utilizando \"array slicing\"."
   ]
  },
  {
   "cell_type": "code",
   "execution_count": 9,
   "metadata": {},
   "outputs": [
    {
     "name": "stdout",
     "output_type": "stream",
     "text": [
      "0     18.420760\n",
      "1      4.776510\n",
      "2     16.602401\n",
      "3      4.296111\n",
      "4      8.156023\n",
      "5      5.005122\n",
      "6     14.606750\n",
      "7      4.456466\n",
      "8      5.047530\n",
      "9      5.388070\n",
      "10     9.347349\n",
      "Name: volume_sold, dtype: float64\n",
      "\n",
      "\n",
      "0    18.420760\n",
      "1     4.776510\n",
      "2    16.602401\n",
      "3     4.296111\n",
      "4     8.156023\n",
      "5     5.005122\n",
      "6    14.606750\n",
      "7     4.456466\n",
      "8     5.047530\n",
      "9     5.388070\n",
      "Name: volume_sold, dtype: float64\n"
     ]
    }
   ],
   "source": [
    "print(volume_sold[0:11])\n",
    "print('\\n')\n",
    "print(volume_sold.head(10))"
   ]
  },
  {
   "cell_type": "markdown",
   "metadata": {},
   "source": [
    "#### 4.  Imprimir el tipo de dato del array\n",
    "\n",
    "Utilizar la propiedad de los arrays dtype para conocer el tipo de dato del array"
   ]
  },
  {
   "cell_type": "code",
   "execution_count": 10,
   "metadata": {},
   "outputs": [
    {
     "data": {
      "text/plain": [
       "pandas.core.series.Series"
      ]
     },
     "execution_count": 10,
     "metadata": {},
     "output_type": "execute_result"
    }
   ],
   "source": [
    "type(volume_sold)"
   ]
  },
  {
   "cell_type": "markdown",
   "metadata": {},
   "source": [
    "#### 5. Escribir una función para imprimir la información resumida\n",
    "\n",
    "La función debería:\n",
    "\n",
    "- Tomar dos parámetros: el nombre de la columna y los datos asociados con esa columna\n",
    "- Imprimir la información, indicando de forma clara en qué consiste cada item que se imprime:\n",
    "    1. Imprimir el nombre de la columna\n",
    "    2. Imprimir la media de los datos usando ```np.mean()```\n",
    "    3. Imprimir la mediana de los datos usando ```np.median()``` \n",
    "    4. Imprimir la moda de los datos redondeados usando ```stats.mode()```\n",
    "    5. Imprimir la varianza de los datos usando ```np.var()```\n",
    "    6. Imprimir el desvío estándar de los datos usando ```np.std()```\n",
    "\n",
    "Tener en cuenta que para poder imprimir, será necesario covertir los valores numéricos retornados por estas funciones a strings. Para ello usar la función ```str()```."
   ]
  },
  {
   "cell_type": "code",
   "execution_count": 30,
   "metadata": {
    "scrolled": true
   },
   "outputs": [],
   "source": [
    "def descstats(column, data):\n",
    "    filtered = data[column]\n",
    "    print(\"Columna: {0} \\nMedia : {1} \\nMediana: {2} \\nModa: {3} \\nVarianza: {4}\\nDesvío Std: {5}\"\\\n",
    "          .format(column,\\\n",
    "                  np.mean(filtered),\\\n",
    "                  np.median(filtered),\\\n",
    "                  stats.mode(filtered),\\\n",
    "                  np.var(filtered),\\\n",
    "                  np.std(filtered)))"
   ]
  },
  {
   "cell_type": "markdown",
   "metadata": {},
   "source": [
    "##### **5.A** Usando la función definida, imprimir las medidas para 'volume_sold'"
   ]
  },
  {
   "cell_type": "code",
   "execution_count": 31,
   "metadata": {},
   "outputs": [
    {
     "name": "stdout",
     "output_type": "stream",
     "text": [
      "Columna: volume_sold \n",
      "Media : 10.0186840789888 \n",
      "Mediana: 8.16634551564 \n",
      "Moda: ModeResult(mode=array([ 2.7946315]), count=array([1])) \n",
      "Varianza: 84.12996520049941\n",
      "Desvío Std: 9.172238832504277\n"
     ]
    }
   ],
   "source": [
    "descstats('volume_sold', sales_info)"
   ]
  },
  {
   "cell_type": "markdown",
   "metadata": {},
   "source": [
    "##### **5.B** Usando la función definida, imprimir las medidas para '2015_margin'"
   ]
  },
  {
   "cell_type": "code",
   "execution_count": 32,
   "metadata": {},
   "outputs": [
    {
     "name": "stdout",
     "output_type": "stream",
     "text": [
      "Columna: 2015_margin \n",
      "Media : 46.85889513792352 \n",
      "Mediana: 36.5621438181 \n",
      "Moda: ModeResult(mode=array([ 11.9961177]), count=array([1])) \n",
      "Varianza: 2016.0616629583994\n",
      "Desvío Std: 44.90057530765502\n"
     ]
    }
   ],
   "source": [
    "descstats('2015_margin', sales_info)"
   ]
  },
  {
   "cell_type": "markdown",
   "metadata": {},
   "source": [
    "##### **5.C** Usando la función definida, imprimir las medidas para '2015_q1_sales'"
   ]
  },
  {
   "cell_type": "code",
   "execution_count": 33,
   "metadata": {},
   "outputs": [
    {
     "name": "stdout",
     "output_type": "stream",
     "text": [
      "Columna: 2015_q1_sales \n",
      "Media : 154631.66819999996 \n",
      "Mediana: 104199.41 \n",
      "Moda: ModeResult(mode=array([ 4151.93]), count=array([1])) \n",
      "Varianza: 47430301462.33151\n",
      "Desvío Std: 217784.9890656643\n"
     ]
    }
   ],
   "source": [
    "descstats('2015_q1_sales', sales_info)"
   ]
  },
  {
   "cell_type": "markdown",
   "metadata": {},
   "source": [
    "##### **5.D** Usando la función definida, imprimir las medidas para '2016_q1_sales'"
   ]
  },
  {
   "cell_type": "code",
   "execution_count": 34,
   "metadata": {},
   "outputs": [
    {
     "name": "stdout",
     "output_type": "stream",
     "text": [
      "Columna: 2016_q1_sales \n",
      "Media : 154699.17875 \n",
      "Mediana: 103207.20000000001 \n",
      "Moda: ModeResult(mode=array([ 3536.14]), count=array([1])) \n",
      "Varianza: 47139411653.445244\n",
      "Desvío Std: 217116.12481215034\n"
     ]
    }
   ],
   "source": [
    "descstats('2016_q1_sales', sales_info)"
   ]
  },
  {
   "cell_type": "markdown",
   "metadata": {},
   "source": [
    "#### 6. Graficar las distribuciones\n",
    "\n",
    "Hemos provisto una función para graficar más abajo llamado ```distribution_plotter()```. Toma dos parámetros, el nombre de la columna y los datos asociados a dicha columna.\n",
    "\n",
    "En celdas individuales, graficar las distribuciones de cada una de las 4 columnas. ¿Los datos son asimétricos? ¿simétricos?"
   ]
  },
  {
   "cell_type": "code",
   "execution_count": 35,
   "metadata": {
    "collapsed": true
   },
   "outputs": [],
   "source": [
    "def distribution_plotter(column, data):\n",
    "    sns.set(rc={\"figure.figsize\": (10, 7)})\n",
    "    sns.set_style(\"white\")\n",
    "    dist = sns.distplot(data, hist_kws={'alpha':0.2}, kde_kws={'linewidth':5})\n",
    "    dist.set_title('Distribucion de ' + column + '\\n', fontsize=16)"
   ]
  },
  {
   "cell_type": "code",
   "execution_count": 36,
   "metadata": {},
   "outputs": [
    {
     "data": {
      "image/png": "[encoded data removed]",
      "text/plain": [
       "<matplotlib.figure.Figure at 0x7ff36a267668>"
      ]
     },
     "metadata": {},
     "output_type": "display_data"
    }
   ],
   "source": [
    "distribution_plotter('2016_q1_sales', sales_info['2016_q1_sales'])"
   ]
  }
 ],
 "metadata": {
  "kernelspec": {
   "display_name": "Python 3",
   "language": "python",
   "name": "python3"
  },
  "language_info": {
   "codemirror_mode": {
    "name": "ipython",
    "version": 3
   },
   "file_extension": ".py",
   "mimetype": "text/x-python",
   "name": "python",
   "nbconvert_exporter": "python",
   "pygments_lexer": "ipython3",
   "version": "3.6.1"
  }
 },
 "nbformat": 4,
 "nbformat_minor": 1
}
