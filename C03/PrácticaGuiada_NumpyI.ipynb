{
 "cells": [
  {
   "cell_type": "markdown",
   "metadata": {},
   "source": [
    "# Manipulación de Arrays con Numpy"
   ]
  },
  {
   "cell_type": "markdown",
   "metadata": {},
   "source": [
    "### Arrays en Numpy\n",
    "\n",
    "A diferencia de las listas de Python, cuando creamos un array en Numpy, existe la restricción de que todos los elementos tienen que ser del mismo tipo.\n",
    "Esto hace que los arrays de numpy sean **más eficientes**.\n"
   ]
  },
  {
   "cell_type": "code",
   "execution_count": 1,
   "metadata": {
    "collapsed": true
   },
   "outputs": [],
   "source": [
    "import numpy as np"
   ]
  },
  {
   "cell_type": "code",
   "execution_count": 2,
   "metadata": {},
   "outputs": [
    {
     "data": {
      "text/plain": [
       "array([1, 4, 2, 5, 3])"
      ]
     },
     "execution_count": 2,
     "metadata": {},
     "output_type": "execute_result"
    }
   ],
   "source": [
    "# lista de python\n",
    "l = [1, 4, 2, 5, 3]\n",
    "\n",
    "# arreglo de enteros instanciado a partir de una lista:\n",
    "np.array(l)"
   ]
  },
  {
   "cell_type": "code",
   "execution_count": 3,
   "metadata": {},
   "outputs": [
    {
     "data": {
      "text/plain": [
       "dtype('int64')"
      ]
     },
     "execution_count": 3,
     "metadata": {},
     "output_type": "execute_result"
    }
   ],
   "source": [
    "# instanciamos un array a partir de una lista literal\n",
    "a = np.array([1, 4, 2, 5, 3])\n",
    "\n",
    "# atributo que indica el tipo de datos de los elementos del array\n",
    "a.dtype"
   ]
  },
  {
   "cell_type": "code",
   "execution_count": 4,
   "metadata": {},
   "outputs": [
    {
     "data": {
      "text/plain": [
       "array([ 3.14,  4.  ,  2.  ,  3.  ])"
      ]
     },
     "execution_count": 4,
     "metadata": {},
     "output_type": "execute_result"
    }
   ],
   "source": [
    "# Si la lista de python tiene integers y floats, \n",
    "# el array de Numpy transforma todo en float para tener un solo tipo.\n",
    "py_list = [3.14, 4, 2, 3]\n",
    "np.array(py_list)"
   ]
  },
  {
   "cell_type": "code",
   "execution_count": 5,
   "metadata": {},
   "outputs": [
    {
     "data": {
      "text/plain": [
       "dtype('float64')"
      ]
     },
     "execution_count": 5,
     "metadata": {},
     "output_type": "execute_result"
    }
   ],
   "source": [
    "np.array(py_list).dtype"
   ]
  },
  {
   "cell_type": "markdown",
   "metadata": {},
   "source": [
    "\n",
    "\n",
    "Para crear arrays desde cero, lo más eficiente es hacerlo con los métodos propios de Numpy. Puedo crear arrays de ceros, de unos, de una secuencia, de valores aleatorios o de valores con una cierta **distribución estadística**, como por ejemplo la distribución normal.\n",
    "\n",
    "##### Crear una Array de ceros"
   ]
  },
  {
   "cell_type": "code",
   "execution_count": 6,
   "metadata": {},
   "outputs": [
    {
     "data": {
      "text/plain": [
       "array([0, 0, 0, 0, 0, 0, 0, 0, 0, 0])"
      ]
     },
     "execution_count": 6,
     "metadata": {},
     "output_type": "execute_result"
    }
   ],
   "source": [
    "# Crear un array de longitud 10 lleno con ceros\n",
    "np.zeros(10, dtype=int)"
   ]
  },
  {
   "cell_type": "markdown",
   "metadata": {},
   "source": [
    "#### Inicializar un array vacío"
   ]
  },
  {
   "cell_type": "code",
   "execution_count": 10,
   "metadata": {},
   "outputs": [
    {
     "data": {
      "text/plain": [
       "array([[ 3.14,  4.  ],\n",
       "       [ 2.  ,  3.  ]])"
      ]
     },
     "execution_count": 10,
     "metadata": {},
     "output_type": "execute_result"
    }
   ],
   "source": [
    "# Aloca un espacio en memoria pero no la incializa\n",
    "my_array = np.empty([2, 2])\n",
    "my_array"
   ]
  },
  {
   "cell_type": "markdown",
   "metadata": {},
   "source": [
    "#### Crear un Array que contiene números con distribución normal"
   ]
  },
  {
   "cell_type": "code",
   "execution_count": 11,
   "metadata": {
    "collapsed": true
   },
   "outputs": [],
   "source": [
    "# Puedo incializar un array de números con distribución normal\n",
    "# El primer parámetro es la media de la distribución\n",
    "# El segundo parámetro es el desvío estándar\n",
    "norm = np.random.normal(0, 1, 12)"
   ]
  },
  {
   "cell_type": "code",
   "execution_count": 12,
   "metadata": {},
   "outputs": [
    {
     "data": {
      "text/plain": [
       "array([-1.47411239, -0.8901211 , -1.17442417,  0.07783093,  0.78699809,\n",
       "        0.65234395,  0.47308956, -1.21010506, -0.74304138, -0.34479565,\n",
       "       -0.74634704, -1.94061895])"
      ]
     },
     "execution_count": 12,
     "metadata": {},
     "output_type": "execute_result"
    }
   ],
   "source": [
    "norm"
   ]
  },
  {
   "cell_type": "code",
   "execution_count": 13,
   "metadata": {},
   "outputs": [
    {
     "data": {
      "text/plain": [
       "array([[-0.19363149, -1.42824592,  0.30165925,  0.3788993 ],\n",
       "       [-0.35691527,  0.13396624,  0.61131018, -1.84331191],\n",
       "       [-1.18510739, -0.76242161, -2.33610332, -0.55682366]])"
      ]
     },
     "execution_count": 13,
     "metadata": {},
     "output_type": "execute_result"
    }
   ],
   "source": [
    "# También podemos crear una distribución normal \n",
    "# y asignarla a una matriz de dimensión n x m \n",
    "norm = np.random.normal(0, 1, (3,4))\n",
    "norm"
   ]
  },
  {
   "cell_type": "code",
   "execution_count": 14,
   "metadata": {},
   "outputs": [
    {
     "data": {
      "text/plain": [
       "array([[ 1.76405235,  0.40015721,  0.97873798,  2.2408932 ],\n",
       "       [ 1.86755799, -0.97727788,  0.95008842, -0.15135721],\n",
       "       [-0.10321885,  0.4105985 ,  0.14404357,  1.45427351]])"
      ]
     },
     "execution_count": 14,
     "metadata": {},
     "output_type": "execute_result"
    }
   ],
   "source": [
    "# Opcionalmente, puedo utilizar set seed para que la función random de siempre\n",
    "# los mismos resultados\n",
    "np.random.seed(0)  \n",
    "\n",
    "norm = np.random.normal(0, 1, (3,4))\n",
    "norm"
   ]
  },
  {
   "cell_type": "markdown",
   "metadata": {},
   "source": [
    "\n",
    "### Atributos de un array\n"
   ]
  },
  {
   "cell_type": "code",
   "execution_count": 15,
   "metadata": {
    "collapsed": true
   },
   "outputs": [],
   "source": [
    "# Array de 3 dimensiones con valores aleatorios entre 0 y 9\n",
    "x3 = np.random.randint(10, size=(3, 4, 5))  "
   ]
  },
  {
   "cell_type": "code",
   "execution_count": 16,
   "metadata": {},
   "outputs": [
    {
     "name": "stdout",
     "output_type": "stream",
     "text": [
      "x3 ndim:  3\n",
      "x3 shape: (3, 4, 5)\n",
      "x3 size:  60\n",
      "dtype: int64\n",
      "itemsize: 8 bytes\n",
      "nbytes: 480 bytes\n"
     ]
    }
   ],
   "source": [
    "print(\"x3 ndim: \", x3.ndim)\n",
    "print(\"x3 shape:\", x3.shape)\n",
    "print(\"x3 size: \", x3.size)\n",
    "print(\"dtype:\", x3.dtype)\n",
    "\n",
    "# Es el tamaño de cada elemento del array. Depende del tipo de datos. \n",
    "print(\"itemsize:\", x3.itemsize, \"bytes\") \n",
    "\n",
    "# Es el tamaño de todo el array. Se calcula itemsize * size\n",
    "print(\"nbytes:\", x3.nbytes, \"bytes\") "
   ]
  },
  {
   "cell_type": "markdown",
   "metadata": {},
   "source": [
    "### Array slicing (Selección de elementos)\n",
    "\n",
    "#### Slicing sobre una dimensión\n",
    "\n",
    "El slicing es similar al de las listas de python [start:stop:step]. El índice stop no se incluye pero el start sí se incluye. Por ejemplo [1:3] incluye al índice 1 pero no al 3.\n",
    "Funciona como un intervalo semicerrado [1,3).\n"
   ]
  },
  {
   "cell_type": "code",
   "execution_count": 2,
   "metadata": {},
   "outputs": [
    {
     "data": {
      "text/plain": [
       "array([0, 1, 2, 3, 4, 5, 6, 7, 8, 9])"
      ]
     },
     "execution_count": 2,
     "metadata": {},
     "output_type": "execute_result"
    }
   ],
   "source": [
    "# Sobre un array de una dimension\n",
    "one_d_array = np.arange(10)\n",
    "one_d_array"
   ]
  },
  {
   "cell_type": "code",
   "execution_count": 8,
   "metadata": {},
   "outputs": [
    {
     "data": {
      "text/plain": [
       "array([1, 3, 5, 7, 9])"
      ]
     },
     "execution_count": 8,
     "metadata": {},
     "output_type": "execute_result"
    }
   ],
   "source": [
    "# Start = 1:  empezamos por el segundo elemento\n",
    "# Stop: No está definido, entonces llegamos hasta el final.\n",
    "# Step: El paso o distacia entre los elementos que voy a tomar.\n",
    "one_d_array[1::2]"
   ]
  },
  {
   "cell_type": "code",
   "execution_count": 19,
   "metadata": {},
   "outputs": [
    {
     "data": {
      "text/plain": [
       "array([9, 8, 7, 6, 5, 4, 3, 2, 1, 0])"
      ]
     },
     "execution_count": 19,
     "metadata": {},
     "output_type": "execute_result"
    }
   ],
   "source": [
    "# Para invertir el orden del array, podemos usar Step = -1\n",
    "one_d_array[::-1]"
   ]
  },
  {
   "cell_type": "code",
   "execution_count": 20,
   "metadata": {},
   "outputs": [
    {
     "data": {
      "text/plain": [
       "array([7, 6, 5])"
      ]
     },
     "execution_count": 20,
     "metadata": {},
     "output_type": "execute_result"
    }
   ],
   "source": [
    "# Para seleccionar una parte de los elementos pero invertida, \n",
    "# invertimos los índices de corte\n",
    "\n",
    "one_d_array[7:4:-1]  "
   ]
  },
  {
   "cell_type": "markdown",
   "metadata": {},
   "source": [
    "Con la misma lógica, se puede seleccionar en dos dimensiones"
   ]
  },
  {
   "cell_type": "code",
   "execution_count": 11,
   "metadata": {},
   "outputs": [
    {
     "data": {
      "text/plain": [
       "array([[5, 0, 3, 3],\n",
       "       [7, 9, 3, 5],\n",
       "       [2, 4, 7, 6]])"
      ]
     },
     "execution_count": 11,
     "metadata": {},
     "output_type": "execute_result"
    }
   ],
   "source": [
    "np.random.seed(0)\n",
    "two_d_array = np.random.randint(10, size=(3, 4))\n",
    "two_d_array"
   ]
  },
  {
   "cell_type": "markdown",
   "metadata": {},
   "source": [
    "#### Slicing sobre arrays de más  dimensiones\n",
    "\n",
    "Cuando tenemos más de una dimensión, podemos hacer slicing sobre cada una de ellas separándolas con una coma. \n"
   ]
  },
  {
   "cell_type": "code",
   "execution_count": 25,
   "metadata": {},
   "outputs": [
    {
     "data": {
      "text/plain": [
       "array([5, 7, 2])"
      ]
     },
     "execution_count": 25,
     "metadata": {},
     "output_type": "execute_result"
    }
   ],
   "source": [
    "# Acceder a una columna\n",
    "# En este ejemplo los : indican que accedemos a todos los elementos de cada fila y el cero después de la coma\n",
    "# indica que solamente lo hacemos para la columna \"0\" (la primera).\n",
    "two_d_array[:, 0]"
   ]
  },
  {
   "cell_type": "code",
   "execution_count": 26,
   "metadata": {},
   "outputs": [
    {
     "data": {
      "text/plain": [
       "array([2, 4, 7, 6])"
      ]
     },
     "execution_count": 26,
     "metadata": {},
     "output_type": "execute_result"
    }
   ],
   "source": [
    "# Acceder a una fila\n",
    "two_d_array[2, :]"
   ]
  },
  {
   "cell_type": "code",
   "execution_count": 27,
   "metadata": {},
   "outputs": [
    {
     "data": {
      "text/plain": [
       "array([2, 4, 7, 6])"
      ]
     },
     "execution_count": 27,
     "metadata": {},
     "output_type": "execute_result"
    }
   ],
   "source": [
    "# Otra forma de acceder a una fila\n",
    "two_d_array[2]"
   ]
  },
  {
   "cell_type": "code",
   "execution_count": 12,
   "metadata": {},
   "outputs": [
    {
     "data": {
      "text/plain": [
       "array([[0, 3],\n",
       "       [9, 3],\n",
       "       [4, 7]])"
      ]
     },
     "execution_count": 12,
     "metadata": {},
     "output_type": "execute_result"
    }
   ],
   "source": [
    "# Un slice de dos columnas\n",
    "two_d_array[:, 1:3]"
   ]
  },
  {
   "cell_type": "code",
   "execution_count": 19,
   "metadata": {},
   "outputs": [
    {
     "data": {
      "text/plain": [
       "array([[3, 3, 0, 5],\n",
       "       [5, 3, 9, 7],\n",
       "       [6, 7, 4, 2]])"
      ]
     },
     "execution_count": 19,
     "metadata": {},
     "output_type": "execute_result"
    }
   ],
   "source": [
    "# Todas las columnas listadas en orden inverso\n",
    "two_d_array[:, ::-1]"
   ]
  },
  {
   "cell_type": "markdown",
   "metadata": {
    "collapsed": true
   },
   "source": [
    "### Reshaping de arrays (Cambiar la dimensionalidad)"
   ]
  },
  {
   "cell_type": "code",
   "execution_count": 30,
   "metadata": {},
   "outputs": [
    {
     "data": {
      "text/plain": [
       "array([[1, 2, 3],\n",
       "       [4, 5, 6],\n",
       "       [7, 8, 9]])"
      ]
     },
     "execution_count": 30,
     "metadata": {},
     "output_type": "execute_result"
    }
   ],
   "source": [
    "grid = np.arange(1, 10).reshape((3, 3))\n",
    "grid"
   ]
  },
  {
   "cell_type": "markdown",
   "metadata": {},
   "source": [
    "### Concatenar y separar Arrays \n"
   ]
  },
  {
   "cell_type": "code",
   "execution_count": 31,
   "metadata": {},
   "outputs": [
    {
     "data": {
      "text/plain": [
       "array([1, 2, 3, 7, 8, 9])"
      ]
     },
     "execution_count": 31,
     "metadata": {},
     "output_type": "execute_result"
    }
   ],
   "source": [
    "# Concatenate une los elementos de los dos arrays en un array nuevo.\n",
    "\n",
    "x = np.array([1, 2, 3])\n",
    "y = np.array([7, 8, 9])\n",
    "np.concatenate([x, y])"
   ]
  },
  {
   "cell_type": "code",
   "execution_count": 32,
   "metadata": {
    "collapsed": true
   },
   "outputs": [],
   "source": [
    "grid1 = np.array([[1, 2, 3],\n",
    "                  [4, 5, 6]])\n",
    "\n",
    "grid2 = np.array([[10,11],\n",
    "                  [12,13]])"
   ]
  },
  {
   "cell_type": "code",
   "execution_count": 33,
   "metadata": {},
   "outputs": [
    {
     "data": {
      "text/plain": [
       "array([[ 1,  2,  3, 10, 11],\n",
       "       [ 4,  5,  6, 12, 13]])"
      ]
     },
     "execution_count": 33,
     "metadata": {},
     "output_type": "execute_result"
    }
   ],
   "source": [
    "# Cuando el array es de dos dimensiones podemos \n",
    "# concatenarlos siguiendo el eje de las columnas\n",
    "np.concatenate([grid1, grid2], axis=1)"
   ]
  },
  {
   "cell_type": "code",
   "execution_count": 35,
   "metadata": {},
   "outputs": [
    {
     "data": {
      "text/plain": [
       "array([[ 1,  2],\n",
       "       [ 4,  5],\n",
       "       [10, 11],\n",
       "       [12, 13]])"
      ]
     },
     "execution_count": 35,
     "metadata": {},
     "output_type": "execute_result"
    }
   ],
   "source": [
    "# También podemos concatenar en el eje de las filas con axis = 0\n",
    "# Nota: revisar las dimensiones de los arrays (misma cantidad de columnas)\n",
    "\n",
    "grid1 = np.array([[1, 2],\n",
    "                  [4, 5]])\n",
    "\n",
    "grid2 = np.array([[10,11],\n",
    "                  [12,13]])\n",
    "\n",
    "np.concatenate([grid1, grid2], axis=0)"
   ]
  },
  {
   "cell_type": "code",
   "execution_count": 36,
   "metadata": {},
   "outputs": [
    {
     "name": "stdout",
     "output_type": "stream",
     "text": [
      "[1 2 3] [99 99] [3 2 1 7]\n"
     ]
    }
   ],
   "source": [
    "x = [1, 2, 3, 99, 99, 3, 2, 1, 7]\n",
    "\n",
    "# El método np.split() toma una lista con los índices donde se establecen los cortes.\n",
    "x1, x2, x3 = np.split(x, [3, 5])\n",
    "print(x1, x2, x3)"
   ]
  },
  {
   "cell_type": "markdown",
   "metadata": {},
   "source": [
    "## Numpy Universal Functions\n",
    "\n",
    "Una de las ventajas de usar Numpy es que permite aplicar **operaciones vectorizadas**. \n",
    "\n",
    "Cuando determinadas operaciones se aplican sobre todos los elementos de un array, esta tarea se puede paralelizar y la computadora la completa en un tiempo mucho menor que si aplicásemos un loop y operásemos sobre cada uno de los elementos.\n",
    "\n",
    "Para esto sirven las UFuncs (Universal Functions) de Numpy\n"
   ]
  },
  {
   "cell_type": "markdown",
   "metadata": {},
   "source": [
    "##### Ejemplo: calcular el recíproco (1/x) de cada elemento de un array"
   ]
  },
  {
   "cell_type": "code",
   "execution_count": 37,
   "metadata": {},
   "outputs": [
    {
     "name": "stdout",
     "output_type": "stream",
     "text": [
      "2.77 s ± 22.2 ms per loop (mean ± std. dev. of 7 runs, 1 loop each)\n"
     ]
    }
   ],
   "source": [
    "# Definimos un array de gran tamaño\n",
    "big_array = np.random.randint(1, 100, size=1000000)\n",
    "\n",
    "# Enfoque tradicional\n",
    "\n",
    "def compute_reciprocals(values):\n",
    "    output = np.empty(len(values))\n",
    "    for i in range(len(values)):\n",
    "        output[i] = 1.0 / values[i]\n",
    "    return output\n",
    "\n",
    "%timeit compute_reciprocals(big_array)"
   ]
  },
  {
   "cell_type": "code",
   "execution_count": 38,
   "metadata": {},
   "outputs": [
    {
     "name": "stdout",
     "output_type": "stream",
     "text": [
      "2.78 ms ± 16.1 µs per loop (mean ± std. dev. of 7 runs, 100 loops each)\n"
     ]
    }
   ],
   "source": [
    "# Enfoque Numpy\n",
    "\n",
    "%timeit (1.0 / big_array)"
   ]
  },
  {
   "cell_type": "markdown",
   "metadata": {
    "collapsed": true
   },
   "source": [
    "## Agregación, Max y Min con Numpy\n",
    "\n",
    "Con numpy se pueden hacer de forma más eficiente los métodos que trabajan sobre los elementos del array:"
   ]
  },
  {
   "cell_type": "code",
   "execution_count": null,
   "metadata": {
    "collapsed": true
   },
   "outputs": [],
   "source": [
    "big_array = np.random.rand(100000)\n",
    "\n",
    "%timeit sum(big_array)\n",
    "%timeit np.sum(big_array)"
   ]
  },
  {
   "cell_type": "markdown",
   "metadata": {},
   "source": [
    "#### En arrays de varias dimensiones"
   ]
  },
  {
   "cell_type": "code",
   "execution_count": 20,
   "metadata": {},
   "outputs": [
    {
     "name": "stdout",
     "output_type": "stream",
     "text": [
      "[[ 0.05671298  0.27265629  0.47766512  0.81216873]\n",
      " [ 0.47997717  0.3927848   0.83607876  0.33739616]\n",
      " [ 0.64817187  0.36824154  0.95715516  0.14035078]]\n"
     ]
    }
   ],
   "source": [
    "M = np.random.random((3, 4))\n",
    "print(M)"
   ]
  },
  {
   "cell_type": "code",
   "execution_count": 21,
   "metadata": {},
   "outputs": [
    {
     "name": "stdout",
     "output_type": "stream",
     "text": [
      "Suma de toda la matriz:  5.77935936168\n",
      "Mínimos de cada columna:  [ 0.05671298  0.27265629  0.47766512  0.14035078]\n",
      "Máximo de cada fila:  [ 0.81216873  0.83607876  0.95715516]\n",
      "Suma de cada fila:  [ 1.61920312  2.04623689  2.11391935]\n"
     ]
    }
   ],
   "source": [
    "# En Numpy, cuando se ejecutan funciones que reducen la dimensionalidad, axis representa el eje que se va a reducir\n",
    "# En una matriz de dos dimensiones el 0 representa \n",
    "# el eje de las filas, y el 1 el eje de las columnas\n",
    "\n",
    "print(\"Suma de toda la matriz: \", M.sum())\n",
    "print(\"Mínimos de cada columna: \", M.min(axis=0))\n",
    "print(\"Máximo de cada fila: \", M.max(axis=1))\n",
    "print(\"Suma de cada fila: \", M.sum(axis=1))"
   ]
  },
  {
   "cell_type": "markdown",
   "metadata": {},
   "source": [
    "#### Ejemplo de aplicación"
   ]
  },
  {
   "cell_type": "code",
   "execution_count": 22,
   "metadata": {},
   "outputs": [
    {
     "name": "stdout",
     "output_type": "stream",
     "text": [
      "<class 'pandas.core.series.Series'>\n"
     ]
    },
    {
     "data": {
      "text/plain": [
       "0    189\n",
       "1    170\n",
       "2    189\n",
       "3    163\n",
       "4    183\n",
       "5    171\n",
       "6    185\n",
       "7    168\n",
       "8    173\n",
       "9    183\n",
       "Name: height(cm), dtype: int64"
      ]
     },
     "execution_count": 22,
     "metadata": {},
     "output_type": "execute_result"
    }
   ],
   "source": [
    "# Vamos a usar la librería Pandas únicamente para importar un csv \n",
    "import pandas as pd\n",
    "\n",
    "# Modificamos el path para acceder al archivo con los datos\n",
    "data = pd.read_csv('president_heights.csv')\n",
    "\n",
    "# Indexamos un dataframe de pandas para extraer una columna.\n",
    "# Nota: Más adelante estudiaremos los dataframes de Pandas en detalle \n",
    "c = data['height(cm)']\n",
    "\n",
    "# Veamos los primeros valores de la columna (tipo Series en Pandas)\n",
    "print (type(c))\n",
    "c.head(10)"
   ]
  },
  {
   "cell_type": "code",
   "execution_count": 44,
   "metadata": {},
   "outputs": [
    {
     "name": "stdout",
     "output_type": "stream",
     "text": [
      "[163 168 168 170 170 171 173 173 173 173 174 175 175 177 178 178 178 178\n",
      " 179 180 182 182 182 182 183 183 183 183 183 183 183 183 185 185 185 188\n",
      " 188 188 189 189 193 193]\n"
     ]
    }
   ],
   "source": [
    "# Instanciamos un array de Numpy a partir de la columna anterior\n",
    "heights = np.array(c)\n",
    "\n",
    "# Imprimimos los valores ordenados\n",
    "print(np.sort(heights))"
   ]
  },
  {
   "cell_type": "code",
   "execution_count": 45,
   "metadata": {},
   "outputs": [
    {
     "name": "stdout",
     "output_type": "stream",
     "text": [
      "25th percentile:    174.25\n",
      "Median:             182.0\n",
      "75th percentile:    183.0\n"
     ]
    }
   ],
   "source": [
    "# Percentiles\n",
    "print(\"25th percentile:   \", np.percentile(heights, 25))\n",
    "print(\"Median:            \", np.median(heights))\n",
    "print(\"75th percentile:   \", np.percentile(heights, 75))"
   ]
  },
  {
   "cell_type": "code",
   "execution_count": 46,
   "metadata": {
    "collapsed": true
   },
   "outputs": [],
   "source": [
    "# Importamos las librerías de visualización\n",
    "%matplotlib inline\n",
    "import matplotlib.pyplot as plt\n",
    "import seaborn\n",
    "\n",
    "# Configuramos parámetros estéticos por defecto\n",
    "seaborn.set()"
   ]
  },
  {
   "cell_type": "code",
   "execution_count": 47,
   "metadata": {},
   "outputs": [
    {
     "data": {
      "image/png": "[encoded data removed]",
      "text/plain": [
       "<matplotlib.figure.Figure at 0x7ff7eea537f0>"
      ]
     },
     "metadata": {},
     "output_type": "display_data"
    }
   ],
   "source": [
    "# Tipo de visualización\n",
    "plt.hist(heights)\n",
    "\n",
    "# Títulos\n",
    "plt.title('Height Distribution of US Presidents')\n",
    "plt.xlabel('height (cm)')\n",
    "plt.ylabel('number')\n",
    "\n",
    "# Mostramos el histograma\n",
    "plt.show()"
   ]
  },
  {
   "cell_type": "markdown",
   "metadata": {},
   "source": [
    "## Broadcasting: Otra forma de vectorizar\n",
    "\n",
    "En conjunto con las ufuncs, el broadcasting es una forma de aplicar operaciones sobre los datos sin tener que escribir loops \"for\" en Python nativo que resultan más lentos.\n",
    "\n",
    "Recordemos que cuando operamos sobre arrays de las mismas dimensiones, se puede hacer operaciones eficientes elemento a elemento.\n",
    "\n"
   ]
  },
  {
   "cell_type": "code",
   "execution_count": 53,
   "metadata": {},
   "outputs": [
    {
     "data": {
      "text/plain": [
       "array([5, 6, 7])"
      ]
     },
     "execution_count": 53,
     "metadata": {},
     "output_type": "execute_result"
    }
   ],
   "source": [
    "a = np.array([0, 1, 2])\n",
    "b = np.array([5, 5, 5])\n",
    "a + b"
   ]
  },
  {
   "cell_type": "markdown",
   "metadata": {},
   "source": [
    "En el ejemplo de arriba, \"a + b\" es una operación eficiente porque \"a\" y \"b\" tienen la misma dimensionalidad y tamaño. \n",
    "Las reglas de \"broadcasting\" de Numpy, permiten que la operación siga siendo eficiente llevando los elementos involucrados a la misma dimensión y tamaño."
   ]
  },
  {
   "attachments": {
    "image.png": {
     "image/png": "[encoded data removed]"
    }
   },
   "cell_type": "markdown",
   "metadata": {},
   "source": [
    "![image.png](attachment:image.png)"
   ]
  },
  {
   "cell_type": "code",
   "execution_count": 55,
   "metadata": {},
   "outputs": [
    {
     "data": {
      "text/plain": [
       "array([5, 6, 7])"
      ]
     },
     "execution_count": 55,
     "metadata": {},
     "output_type": "execute_result"
    }
   ],
   "source": [
    "a + 5"
   ]
  },
  {
   "cell_type": "markdown",
   "metadata": {},
   "source": [
    "Veamos un ejemplo con otras dimensiones:"
   ]
  },
  {
   "cell_type": "code",
   "execution_count": 57,
   "metadata": {},
   "outputs": [
    {
     "data": {
      "text/plain": [
       "array([0, 1, 2])"
      ]
     },
     "execution_count": 57,
     "metadata": {},
     "output_type": "execute_result"
    }
   ],
   "source": [
    "#Recordemos el valor de \"a\"\n",
    "a"
   ]
  },
  {
   "cell_type": "code",
   "execution_count": 59,
   "metadata": {},
   "outputs": [
    {
     "data": {
      "text/plain": [
       "array([[ 1.,  1.,  1.],\n",
       "       [ 1.,  1.,  1.],\n",
       "       [ 1.,  1.,  1.]])"
      ]
     },
     "execution_count": 59,
     "metadata": {},
     "output_type": "execute_result"
    }
   ],
   "source": [
    "# Ahora queremos sumar el vector \"a\" con una matriz de dos dimensiones, de tamaño 3x3 que contiene unos.\n",
    "M = np.ones((3, 3))\n",
    "M"
   ]
  },
  {
   "attachments": {
    "image.png": {
     "image/png": "[encoded data removed]"
    }
   },
   "cell_type": "markdown",
   "metadata": {},
   "source": [
    "Gráficamente, esto es lo que sucedió:\n",
    "![image.png](attachment:image.png)"
   ]
  },
  {
   "cell_type": "code",
   "execution_count": 60,
   "metadata": {},
   "outputs": [
    {
     "data": {
      "text/plain": [
       "array([[ 1.,  2.,  3.],\n",
       "       [ 1.,  2.,  3.],\n",
       "       [ 1.,  2.,  3.]])"
      ]
     },
     "execution_count": 60,
     "metadata": {},
     "output_type": "execute_result"
    }
   ],
   "source": [
    "M + a"
   ]
  },
  {
   "cell_type": "markdown",
   "metadata": {},
   "source": [
    "## Comparaciones y Máscaras Booleanas\n",
    "\n",
    "**Agregar la tabla con los operadores.**\n"
   ]
  },
  {
   "cell_type": "code",
   "execution_count": 23,
   "metadata": {},
   "outputs": [
    {
     "name": "stdout",
     "output_type": "stream",
     "text": [
      "shape: (365,)\n",
      "[  0  41  15   0   0   3 122  97  58  43 213  15   0   0   0   0   0   0\n",
      "   0   0   0   5   0   0   0   0   0  89 216   0  23  20   0   0   0   0\n",
      "   0   0  51   5 183 170  46  18  94 117 264 145 152  10  30  28  25  61\n",
      " 130   3   0   0   0   5 191 107 165 467  30   0 323  43 188   0   0   5\n",
      "  69  81 277   3   0   5   0   0   0   0   0  41  36   3 221 140   0   0\n",
      "   0   0  25   0  46   0   0  46   0   0   0   0   0   0   5 109 185   0\n",
      " 137   0  51 142  89 124   0  33  69   0   0   0   0   0 333 160  51   0\n",
      "   0 137  20   5   0   0   0   0   0   0   0   0   0   0   0   0  38   0\n",
      "  56   0   0   0   0   0   0   0   0   0   0   0   0   0   0   0   0   0\n",
      "  18  64   0   5  36  13   0   8   3   0   0   0   0   0   0  18  23   0\n",
      "   0   0   0   0   0   0   0   0   0   0   0   0   0   0   0   0   0   0\n",
      "   0   0   0   0   3 193   0   0   0   0   0   0   0   0   0   5   0   0\n",
      "   0   0   0   0   0   0   5 127 216   0  10   0   0   0   0   0   0   0\n",
      "   0   0   0   0   0   0   0  84  13   0  30   0   0   0   0   0   0   0\n",
      "   0   0   0   0   0   0   0   5   3   0   0   0   3 183 203  43  89   0\n",
      "   0   8   0   0   0   0   0   0   0   0   0   0   3  74   0  76  71  86\n",
      "   0  33 150   0 117  10 320  94  41  61  15   8 127   5 254 170   0  18\n",
      " 109  41  48  41   0   0  51   0   0   0   0   0   0   0   0   0   0  36\n",
      " 152   5 119  13 183   3  33 343  36   0   0   0   0   8  30  74   0  91\n",
      "  99 130  69   0   0   0   0   0  28 130  30 196   0   0 206  53   0   0\n",
      "  33  41   0   0   0]\n"
     ]
    }
   ],
   "source": [
    "import numpy as np\n",
    "import pandas as pd\n",
    "\n",
    "# Usamos pandas para extraer los datos como un array de Numpy\n",
    "rainfall = pd.read_csv('Seattle2014.csv')['PRCP'].values\n",
    "print (\"shape:\", rainfall.shape)\n",
    "\n",
    "print (rainfall)"
   ]
  },
  {
   "cell_type": "markdown",
   "metadata": {},
   "source": [
    "También exploramos este array utilizando un histograma. La funcionalidad la da la librería matplotlib"
   ]
  },
  {
   "cell_type": "code",
   "execution_count": 68,
   "metadata": {
    "collapsed": true
   },
   "outputs": [],
   "source": [
    "%matplotlib inline\n",
    "import matplotlib.pyplot as plt\n",
    "import seaborn; seaborn.set()"
   ]
  },
  {
   "cell_type": "code",
   "execution_count": 69,
   "metadata": {},
   "outputs": [
    {
     "data": {
      "image/png": "[encoded data removed]",
      "text/plain": [
       "<matplotlib.figure.Figure at 0x7ff7ec1dc3c8>"
      ]
     },
     "metadata": {},
     "output_type": "display_data"
    }
   ],
   "source": [
    "plt.hist(rainfall,bins = 40);"
   ]
  },
  {
   "cell_type": "code",
   "execution_count": 63,
   "metadata": {},
   "outputs": [
    {
     "name": "stdout",
     "output_type": "stream",
     "text": [
      "[ True False False  True  True False False False False False False False\n",
      "  True  True  True  True  True  True  True  True  True False  True  True\n",
      "  True  True  True False False  True False False  True  True  True  True\n",
      "  True  True False False False False False False False False False False\n",
      " False False False False False False False False  True  True  True False\n",
      " False False False False False  True False False False  True  True False\n",
      " False False False False  True False  True  True  True  True  True False\n",
      " False False False False  True  True  True  True False  True False  True\n",
      "  True False  True  True  True  True  True  True False False False  True\n",
      " False  True False False False False  True False False  True  True  True\n",
      "  True  True False False False  True  True False False False  True  True\n",
      "  True  True  True  True  True  True  True  True  True  True False  True\n",
      " False  True  True  True  True  True  True  True  True  True  True  True\n",
      "  True  True  True  True  True  True False False  True False False False\n",
      "  True False False  True  True  True  True  True  True False False  True\n",
      "  True  True  True  True  True  True  True  True  True  True  True  True\n",
      "  True  True  True  True  True  True  True  True  True  True False False\n",
      "  True  True  True  True  True  True  True  True  True False  True  True\n",
      "  True  True  True  True  True  True False False False  True False  True\n",
      "  True  True  True  True  True  True  True  True  True  True  True  True\n",
      "  True False False  True False  True  True  True  True  True  True  True\n",
      "  True  True  True  True  True  True  True False False  True  True  True\n",
      " False False False False False  True  True False  True  True  True  True\n",
      "  True  True  True  True  True  True False False  True False False False\n",
      "  True False False  True False False False False False False False False\n",
      " False False False False  True False False False False False  True  True\n",
      " False  True  True  True  True  True  True  True  True  True  True False\n",
      " False False False False False False False False False  True  True  True\n",
      "  True False False False  True False False False False  True  True  True\n",
      "  True  True False False False False  True  True False False  True  True\n",
      " False False  True  True  True]\n"
     ]
    }
   ],
   "source": [
    "# Aplicamos una condición booleana sobre un array de Numpy y\n",
    "# nos devuelve una nuevo array con True o False.\n",
    "# Es una vectorización de la operación de comparación\n",
    "\n",
    "print (rainfall == 0)"
   ]
  },
  {
   "cell_type": "markdown",
   "metadata": {},
   "source": [
    "**En lugar de hacer un loop** y definir un contador, vamos a describir los valores que nos interesan de este dataset utilizando Numpy:\n",
    "\n"
   ]
  },
  {
   "cell_type": "code",
   "execution_count": 87,
   "metadata": {},
   "outputs": [
    {
     "name": "stdout",
     "output_type": "stream",
     "text": [
      "Suma de numpy:  1\n",
      "Suma de Python:  1\n",
      "Operaciones sobre Booleans:  False\n",
      "Operaciones sobre Booleans:  True\n",
      "Operaciones sobre Booleans:  False\n",
      "Operaciones sobre Booleans:  False\n"
     ]
    }
   ],
   "source": [
    "# Veamos primero este comportamiento de los booleanos en python\n",
    "print(\"Suma de numpy: \", np.sum([True,False]))\n",
    "print(\"Suma de Python: \", True + False)\n",
    "\n",
    "print(\"Operaciones sobre Booleans: \", (True & False))\n",
    "print(\"Operaciones sobre Booleans: \", (True & True))\n",
    "print(\"Operaciones sobre Booleans: \", (False & True))\n",
    "print(\"Operaciones sobre Booleans: \", (False & False))"
   ]
  },
  {
   "cell_type": "code",
   "execution_count": 86,
   "metadata": {},
   "outputs": [
    {
     "name": "stdout",
     "output_type": "stream",
     "text": [
      "Cantidad de días sin lluvia:       215\n",
      "Cantidad de días con lluvia:       150\n",
      "Cantidad de días con más de 100 cm de lluvia: 47\n",
      "Cantidad de días con lluvia, pero no mayor a 100cm  : 103\n"
     ]
    }
   ],
   "source": [
    "print(\"Cantidad de días sin lluvia:      \", np.sum(rainfall == 0))\n",
    "print(\"Cantidad de días con lluvia:      \", np.sum(rainfall != 0))\n",
    "print(\"Cantidad de días con más de 100 cm de lluvia:\", np.sum(rainfall > 100))\n",
    "print(\"Cantidad de días con lluvia, pero no mayor a 100cm  :\", np.sum((rainfall > 0) & (rainfall < 100)))"
   ]
  },
  {
   "cell_type": "markdown",
   "metadata": {},
   "source": [
    "## Accediendo a los elementos del Array con \"Fancy Indexing\"\n"
   ]
  },
  {
   "cell_type": "code",
   "execution_count": 46,
   "metadata": {},
   "outputs": [
    {
     "name": "stdout",
     "output_type": "stream",
     "text": [
      "[51 92 14 71 60 20 82 86 74 74]\n"
     ]
    }
   ],
   "source": [
    "rand = np.random.RandomState(42)\n",
    "\n",
    "x = rand.randint(100, size=10)\n",
    "print(x)"
   ]
  },
  {
   "cell_type": "markdown",
   "metadata": {},
   "source": [
    "Puedo acceder a un conjunto de elementos creando una lista con los índices que quiero acceder"
   ]
  },
  {
   "cell_type": "code",
   "execution_count": 47,
   "metadata": {},
   "outputs": [
    {
     "data": {
      "text/plain": [
       "array([71, 86, 60])"
      ]
     },
     "execution_count": 47,
     "metadata": {},
     "output_type": "execute_result"
    }
   ],
   "source": [
    "ind = [3, 7, 4]\n",
    "x[ind]"
   ]
  },
  {
   "cell_type": "markdown",
   "metadata": {},
   "source": [
    "También se puede optar por una selección por fila y columna"
   ]
  },
  {
   "cell_type": "code",
   "execution_count": 48,
   "metadata": {},
   "outputs": [
    {
     "data": {
      "text/plain": [
       "array([[ 0,  1,  2,  3],\n",
       "       [ 4,  5,  6,  7],\n",
       "       [ 8,  9, 10, 11]])"
      ]
     },
     "execution_count": 48,
     "metadata": {},
     "output_type": "execute_result"
    }
   ],
   "source": [
    "X = np.arange(12).reshape((3, 4))\n",
    "X"
   ]
  },
  {
   "cell_type": "code",
   "execution_count": 49,
   "metadata": {},
   "outputs": [
    {
     "data": {
      "text/plain": [
       "array([[ 0,  1,  2,  3],\n",
       "       [ 8,  9, 10, 11]])"
      ]
     },
     "execution_count": 49,
     "metadata": {},
     "output_type": "execute_result"
    }
   ],
   "source": [
    "row = np.array([0, 2])\n",
    "X[row, :]"
   ]
  },
  {
   "cell_type": "code",
   "execution_count": 50,
   "metadata": {},
   "outputs": [
    {
     "data": {
      "text/plain": [
       "array([ 2, 11])"
      ]
     },
     "execution_count": 50,
     "metadata": {},
     "output_type": "execute_result"
    }
   ],
   "source": [
    "col = np.array([2, 3])\n",
    "X[row, col]"
   ]
  },
  {
   "cell_type": "markdown",
   "metadata": {},
   "source": [
    "### Ejemplo de aplicacación: Seleccionar puntos al azar"
   ]
  },
  {
   "cell_type": "code",
   "execution_count": 51,
   "metadata": {},
   "outputs": [
    {
     "data": {
      "text/plain": [
       "(100, 2)"
      ]
     },
     "execution_count": 51,
     "metadata": {},
     "output_type": "execute_result"
    }
   ],
   "source": [
    "rand = np.random.RandomState(42)\n",
    "mean = [0, 0]\n",
    "cov = [[1, 2],\n",
    "       [2, 5]]\n",
    "X = rand.multivariate_normal(mean, cov, 100)\n",
    "X.shape"
   ]
  },
  {
   "cell_type": "code",
   "execution_count": 52,
   "metadata": {},
   "outputs": [
    {
     "data": {
      "image/png": "[encoded data removed]",
      "text/plain": [
       "<matplotlib.figure.Figure at 0x7f6877d7e4e0>"
      ]
     },
     "metadata": {},
     "output_type": "display_data"
    }
   ],
   "source": [
    "%matplotlib inline\n",
    "import matplotlib.pyplot as plt\n",
    "import seaborn; seaborn.set()  \n",
    "\n",
    "plt.scatter(X[:, 0], X[:, 1]);"
   ]
  },
  {
   "cell_type": "code",
   "execution_count": 53,
   "metadata": {},
   "outputs": [
    {
     "data": {
      "text/plain": [
       "array([37, 54, 88, 66, 46, 96, 18, 13, 41, 11,  3, 31, 12, 86, 93, 38, 47,\n",
       "       90,  8, 57])"
      ]
     },
     "execution_count": 53,
     "metadata": {},
     "output_type": "execute_result"
    }
   ],
   "source": [
    "# Selecciono 20 de los 100 (X.shape[0] = 100) sin reposición\n",
    "indices = np.random.choice(X.shape[0], 20, replace=False)\n",
    "indices # Array de índices"
   ]
  },
  {
   "cell_type": "code",
   "execution_count": 54,
   "metadata": {},
   "outputs": [
    {
     "data": {
      "text/plain": [
       "(20, 2)"
      ]
     },
     "execution_count": 54,
     "metadata": {},
     "output_type": "execute_result"
    }
   ],
   "source": [
    "selection = X[indices]  # fancy indexing!!\n",
    "selection.shape"
   ]
  },
  {
   "cell_type": "code",
   "execution_count": 45,
   "metadata": {},
   "outputs": [
    {
     "data": {
      "image/png": "[encoded data removed]",
      "text/plain": [
       "<matplotlib.figure.Figure at 0x7f686edca2b0>"
      ]
     },
     "metadata": {},
     "output_type": "display_data"
    }
   ],
   "source": [
    "plt.scatter(X[:, 0], X[:, 1])\n",
    "plt.scatter(selection[:, 0], selection[:, 1],\n",
    "            facecolor='red');\n"
   ]
  }
 ],
 "metadata": {
  "kernelspec": {
   "display_name": "Python 3",
   "language": "python",
   "name": "python3"
  },
  "language_info": {
   "codemirror_mode": {
    "name": "ipython",
    "version": 3
   },
   "file_extension": ".py",
   "mimetype": "text/x-python",
   "name": "python",
   "nbconvert_exporter": "python",
   "pygments_lexer": "ipython3",
   "version": "3.6.1"
  }
 },
 "nbformat": 4,
 "nbformat_minor": 2
}
