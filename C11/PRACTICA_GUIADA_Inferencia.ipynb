{
 "cells": [
  {
   "cell_type": "markdown",
   "metadata": {},
   "source": [
    "# PRACTICA GUIADA: Nociones de Estadística Inferencial\n",
    "\n",
    "## Introducción\n",
    "\n",
    "La idea de esta práctica es \n",
    "Observemos la distribución de los [Klout Scores](https://klout.com/corp/score) que se adjunta en el archivo `klouts_scores.csv`.\n",
    "\n",
    "Imagine que tomamos como población las 1048 observaciones de Klout scores con las que contamos. \n",
    "\n",
    "\n",
    "## 1. Aproximando una distribución muestral de medias\n",
    "\n",
    "### Consignas\n",
    "\n",
    "1. Obtenemos una muestra de tamaño 5 y tomamos el promedio. Repetimos este paso 1000 veces para poder hacer un histograma de las medias. \n",
    "2. Obtenemos una muestra de tamaño  10 y tomamos el promedio. Repetimos este paso 1000 veces.\n",
    "3. Obtenemos una muestra de tamaño 100 y tomamos el promedio. Repetimos este paso 1000 veces.\n",
    "4. ¿Qué observa sobre el histograma de la media a medida que vamos aumentando el tamaño muestral?\n",
    "5. ¿Qué observa acerca del valor de las medias de las diferentes distribuciones muestrales en relación a la media poblacional?\n",
    "6. ¿Qué sucede con la "
   ]
  },
  {
   "cell_type": "code",
   "execution_count": null,
   "metadata": {},
   "outputs": [],
   "source": [
    "import pandas as pd\n",
    "import numpy as np\n",
    "import scipy.stats as st\n",
    "import matplotlib.pyplot as plt\n",
    "%matplotlib inline"
   ]
  },
  {
   "cell_type": "code",
   "execution_count": null,
   "metadata": {},
   "outputs": [],
   "source": [
    "df = pd.read_csv('./Data/klout_scores.csv', header=None, decimal=\",\")\n",
    "df.columns = ['k_score']"
   ]
  },
  {
   "cell_type": "markdown",
   "metadata": {},
   "source": [
    "Definimos una función para hacer el sampling y calcular la media para una muestra de tamamaño n."
   ]
  },
  {
   "cell_type": "code",
   "execution_count": null,
   "metadata": {},
   "outputs": [],
   "source": [
    "def sampling(df, n, r = False):\n",
    "    index = np.random.choice(range(0,len(df)), size = n, replace = r)\n",
    "    df_s = np.array(df.iloc[index,])\n",
    "    return(df_s)\n",
    "\n",
    "def samp_mean(df, n_i):\n",
    "    means = []\n",
    "    for reps in range(0,1000):\n",
    "        s_ = sampling(df, n_i, r = False)\n",
    "        m_ = s_.mean()\n",
    "        means.append(m_)\n",
    "    return(means)"
   ]
  },
  {
   "cell_type": "code",
   "execution_count": null,
   "metadata": {},
   "outputs": [],
   "source": [
    "m = []\n",
    "n_s = [5,10,100,500]\n",
    "plt.figure(figsize=(10,10))\n",
    "for i in range(len(n_s)):\n",
    "    mm = samp_mean(df, n_s[i])    \n",
    "    plt.subplot(('22' + str(i+1)))\n",
    "    plt.hist(mm)\n",
    "    plt.xlim((0,60))\n",
    "    plt.title('n=' + str(n_s[i]) + ' - ' + 'Media=' + str(np.mean(mm)))"
   ]
  },
  {
   "cell_type": "markdown",
   "metadata": {},
   "source": [
    "## 2. Calculando un intervalo de confianza con `scipy`"
   ]
  },
  {
   "cell_type": "markdown",
   "metadata": {},
   "source": [
    "### Consignas\n",
    "\n",
    "1. Ahora, extraiga una muestra de la población de tamaño n=200. \n",
    "2. A continuación, calcule un intervalo de confianza del 95% para la media poblacional"
   ]
  },
  {
   "cell_type": "code",
   "execution_count": null,
   "metadata": {},
   "outputs": [],
   "source": [
    "#Extraemos la muestra \n",
    "\n",
    "sample = sampling(df,200)"
   ]
  },
  {
   "cell_type": "code",
   "execution_count": null,
   "metadata": {
    "scrolled": true
   },
   "outputs": [],
   "source": [
    "# Calculamos los estadísticos para utilizar\n",
    "\n",
    "mean, sigma, n = np.mean(sample), np.std(sample), len(sample)\n",
    "\n",
    "# Calculamos el intervalo de confianza de una aproximación normal con el método de scipy\n",
    "\n",
    "st.norm.interval(0.95, loc=mean, scale=sigma/np.sqrt(n))"
   ]
  },
  {
   "cell_type": "code",
   "execution_count": null,
   "metadata": {},
   "outputs": [],
   "source": [
    "# Podemos calcularlo a mano... en base a la fórmula vista en las slides\n",
    "\n",
    "mean - 1.96*sigma/np.sqrt(n), mean + 1.96*sigma/np.sqrt(n)"
   ]
  },
  {
   "cell_type": "code",
   "execution_count": null,
   "metadata": {
    "scrolled": true
   },
   "outputs": [],
   "source": [
    "# Poodemos calcular una aproximación normal\n",
    "\n",
    "st.t.interval(0.95, n,  loc=mean, scale=sigma/(np.sqrt(n)-1))"
   ]
  },
  {
   "cell_type": "markdown",
   "metadata": {},
   "source": [
    "## 3. Haciendo una prueba de hipótesis en `scipy`"
   ]
  },
  {
   "cell_type": "markdown",
   "metadata": {},
   "source": [
    "### Consignas\n",
    "\n",
    "1. Ahora suponga que existe en una consultoría se plantea que la media del Klout Score poblacional es de 38.   Realice una prueba de hipótesis al respecto con un nivel de significación de 0.05. Plantee las hipótesis nula y alternativa. ¿A qué conclusión llega?\n",
    "2. Suponga que en lugar de definir un nivel de significación de 0.05, se define uno de 0.1. ¿Podría haber cambiado el resultado?\n",
    "3. ¿Y si la hipótesis nula fuera que la media es 42?"
   ]
  },
  {
   "cell_type": "code",
   "execution_count": null,
   "metadata": {},
   "outputs": [],
   "source": [
    "st.ttest_1samp(sample,38)"
   ]
  },
  {
   "cell_type": "code",
   "execution_count": null,
   "metadata": {},
   "outputs": [],
   "source": [
    "st.ttest_1samp(sample,42)"
   ]
  }
 ],
 "metadata": {
  "kernelspec": {
   "display_name": "Python 3",
   "language": "python",
   "name": "python3"
  },
  "language_info": {
   "codemirror_mode": {
    "name": "ipython",
    "version": 3
   },
   "file_extension": ".py",
   "mimetype": "text/x-python",
   "name": "python",
   "nbconvert_exporter": "python",
   "pygments_lexer": "ipython3",
   "version": "3.6.1"
  }
 },
 "nbformat": 4,
 "nbformat_minor": 2
}
