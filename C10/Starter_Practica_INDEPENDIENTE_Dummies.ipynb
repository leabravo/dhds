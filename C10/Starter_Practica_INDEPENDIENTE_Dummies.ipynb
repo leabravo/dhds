{
 "cells": [
  {
   "cell_type": "markdown",
   "metadata": {},
   "source": [
    "### Dataset cereales\n",
    "\n",
    "En el siguiente dataset se encuentra información sobre diferentes cereales.\n",
    "\n",
    "Las categorías en las columnas son:\n",
    "       \n",
    "   * **name** : Nombre del fabricante\n",
    "      * A = American Home Food Products\n",
    "      * G = General Mills\n",
    "      * K = Kelloggs\n",
    "      * N = Nabisco\n",
    "      * P = Post\n",
    "      * Q = Quaker Oats\n",
    "      * R = Ralston Purina \n",
    "   \n",
    "   \n",
    "   *  **type**:\n",
    "      * C = frío  \n",
    "      * H = caliente \n",
    "        \n",
    "   \n",
    "   *  **calories**: calorias por porción\n",
    "   *  **protein**:  gramos de proteinas\n",
    "   *  **fat**:      gramos de grasa\n",
    "   *  **sodium**:   miligramos de sodio\n",
    "   *  **fiber**:    gramos de fibra dietética\n",
    "   *  **arbo**:     gramos de azúcares complejos\n",
    "   *  **sugars**:   gramos de azúcares simples\n",
    "   *  **potass**:   miligramos de K\n",
    "   *  **vitamins**: vitaminas y minerales - 0, 25, o 100, indicando el % recomendado por la FDA.\n",
    "   *  **shelf**:    display shelf (1, 2, or 3, counting from the floor)\n",
    "   *  **weight**:   peso en onzas de una porción\n",
    "   *  **cups**:     numero de copas en una porción \n",
    "   *  **rating**:   clasificación de los cereales (Possibly from Consumer Reports?)\n",
    "        \n",
    "A partir de ésta información:\n",
    "     \n",
    "  * Caracterizar el tipo de dato de cada columna (_string, int, float_) y,\n",
    "  * Reconocer el tipo variable (_continua, categórica_)."
   ]
  },
  {
   "cell_type": "markdown",
   "metadata": {},
   "source": [
    "### Leer el Archivo 'cereal.csv'."
   ]
  },
  {
   "cell_type": "code",
   "execution_count": 2,
   "metadata": {
    "collapsed": true
   },
   "outputs": [],
   "source": [
    "import pandas as pd\n",
    "import numpy as np\n",
    "import seaborn as sns\n",
    "%matplotlib inline"
   ]
  },
  {
   "cell_type": "markdown",
   "metadata": {},
   "source": [
    "#### Imprimir 5 muestras para reconocimiento de datos,  ¿Coinciden con las caracterizaciones realizadas?"
   ]
  },
  {
   "cell_type": "code",
   "execution_count": null,
   "metadata": {
    "collapsed": true
   },
   "outputs": [],
   "source": []
  },
  {
   "cell_type": "markdown",
   "metadata": {},
   "source": [
    "#### Tomar una columna categórica a elección y convertir en una variable dummie.\n",
    "\n",
    "Se puede utilizar la función ```pd.get_dummies()```.\n"
   ]
  },
  {
   "cell_type": "code",
   "execution_count": null,
   "metadata": {
    "collapsed": true
   },
   "outputs": [],
   "source": []
  },
  {
   "cell_type": "markdown",
   "metadata": {},
   "source": [
    "##### Tomar la columna de fabricante, transformar a variable dummie y contar cuantos productos son de Kelloggs."
   ]
  },
  {
   "cell_type": "code",
   "execution_count": null,
   "metadata": {
    "collapsed": true
   },
   "outputs": [],
   "source": []
  },
  {
   "cell_type": "markdown",
   "metadata": {},
   "source": [
    "##### Ordenar los fabricantes por cantidad de productos en orden descendente y presentarlo en un gráfico."
   ]
  },
  {
   "cell_type": "code",
   "execution_count": null,
   "metadata": {
    "collapsed": true
   },
   "outputs": [],
   "source": []
  },
  {
   "cell_type": "markdown",
   "metadata": {},
   "source": [
    "##### La función ```pd.get_dummies()``` permite tomar mas de una columna, por ejemplo, utilizando slicing. \n",
    "##### Tomar las columnas 'mfr' y 'type',  y convertirlas en variables dummies simultáneamente, obtener una descripción de ese dataframe."
   ]
  },
  {
   "cell_type": "code",
   "execution_count": null,
   "metadata": {
    "collapsed": true
   },
   "outputs": [],
   "source": []
  },
  {
   "cell_type": "markdown",
   "metadata": {},
   "source": [
    "¿Cómo se separan las categorías?, ¿Que son los prefijos de cada columna?.\n",
    "\n",
    "¿Cuánto suman las medias de cada categoría?\n",
    "\n",
    "Verificar que el desvio estandar sea igual a $\\sqrt{ pq }$ de la variable dummie."
   ]
  },
  {
   "cell_type": "markdown",
   "metadata": {},
   "source": [
    "#### Elegir un fabricante y resolver las siguientes propuestas:\n",
    "       \n",
    "   * Si en un supermercado entran 2000 personas de las cuales 50 van a comprar cereales y elijen una caja aleatoriamente por persona:\n",
    "       \n",
    "   * Describir la función binomial (_n, p_), que modela el problema y graficar un histograma obteniendo 3000 muestras que sigan esa tendencia con la función ``` np.random.binomial()```. (Ver notebook de clase 9)"
   ]
  },
  {
   "cell_type": "code",
   "execution_count": null,
   "metadata": {
    "collapsed": true
   },
   "outputs": [],
   "source": []
  }
 ],
 "metadata": {
  "kernelspec": {
   "display_name": "Python 3",
   "language": "python",
   "name": "python3"
  },
  "language_info": {
   "codemirror_mode": {
    "name": "ipython",
    "version": 3
   },
   "file_extension": ".py",
   "mimetype": "text/x-python",
   "name": "python",
   "nbconvert_exporter": "python",
   "pygments_lexer": "ipython3",
   "version": "3.6.1"
  }
 },
 "nbformat": 4,
 "nbformat_minor": 2
}
